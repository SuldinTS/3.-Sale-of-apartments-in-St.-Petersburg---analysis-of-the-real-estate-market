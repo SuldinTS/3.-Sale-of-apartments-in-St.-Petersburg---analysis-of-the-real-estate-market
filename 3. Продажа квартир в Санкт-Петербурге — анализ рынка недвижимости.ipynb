{
 "cells": [
  {
   "cell_type": "markdown",
   "metadata": {},
   "source": [
    "# Исследование объявлений о продаже квартир\n",
    "\n",
    "В вашем распоряжении данные сервиса Яндекс.Недвижимость — архив объявлений о продаже квартир в Санкт-Петербурге и соседних населённых пунктах за несколько лет. Нужно научиться определять рыночную стоимость объектов недвижимости. Ваша задача — установить параметры. Это позволит построить автоматизированную систему: она отследит аномалии и мошенническую деятельность. \n",
    "\n",
    "По каждой квартире на продажу доступны два вида данных. Первые вписаны пользователем, вторые получены автоматически на основе картографических данных. Например, расстояние до центра, аэропорта, ближайшего парка и водоёма.\n",
    "\n",
    "Описание данных\n",
    "\n",
    "airports_nearest — расстояние до ближайшего аэропорта в метрах (м)\n",
    "\n",
    "balcony — число балконов\n",
    "\n",
    "ceiling_height — высота потолков (м)\n",
    "\n",
    "cityCenters_nearest — расстояние до центра города (м)\n",
    "\n",
    "days_exposition — сколько дней было размещено объявление (от публикации до снятия)\n",
    "\n",
    "first_day_exposition — дата публикации\n",
    "\n",
    "floor — этаж\n",
    "\n",
    "floors_total — всего этажей в доме\n",
    "\n",
    "is_apartment — апартаменты (булев тип)\n",
    "\n",
    "kitchen_area — площадь кухни в квадратных метрах (м²)\n",
    "\n",
    "last_price — цена на момент снятия с публикации\n",
    "\n",
    "living_area — жилая площадь в квадратных метрах (м²)\n",
    "\n",
    "locality_name — название населённого пункта\n",
    "\n",
    "open_plan — свободная планировка (булев тип)\n",
    "\n",
    "parks_around3000 — число парков в радиусе 3 км\n",
    "\n",
    "parks_nearest — расстояние до ближайшего парка (м)\n",
    "\n",
    "ponds_around3000 — число водоёмов в радиусе 3 км\n",
    "\n",
    "ponds_nearest — расстояние до ближайшего водоёма (м)\n",
    "\n",
    "rooms — число комнат\n",
    "\n",
    "studio — квартира-студия (булев тип)\n",
    "\n",
    "total_area — площадь квартиры в квадратных метрах (м²)\n",
    "\n",
    "total_images — число фотографий квартиры в объявлении\n"
   ]
  },
  {
   "cell_type": "markdown",
   "metadata": {},
   "source": [
    "## Изучение данных из файла"
   ]
  },
  {
   "cell_type": "code",
   "execution_count": 1,
   "metadata": {},
   "outputs": [
    {
     "name": "stdout",
     "output_type": "stream",
     "text": [
      "<class 'pandas.core.frame.DataFrame'>\n",
      "RangeIndex: 23699 entries, 0 to 23698\n",
      "Data columns (total 22 columns):\n",
      "total_images            23699 non-null int64\n",
      "last_price              23699 non-null float64\n",
      "total_area              23699 non-null float64\n",
      "first_day_exposition    23699 non-null object\n",
      "rooms                   23699 non-null int64\n",
      "ceiling_height          14504 non-null float64\n",
      "floors_total            23613 non-null float64\n",
      "living_area             21796 non-null float64\n",
      "floor                   23699 non-null int64\n",
      "is_apartment            2775 non-null object\n",
      "studio                  23699 non-null bool\n",
      "open_plan               23699 non-null bool\n",
      "kitchen_area            21421 non-null float64\n",
      "balcony                 12180 non-null float64\n",
      "locality_name           23650 non-null object\n",
      "airports_nearest        18157 non-null float64\n",
      "cityCenters_nearest     18180 non-null float64\n",
      "parks_around3000        18181 non-null float64\n",
      "parks_nearest           8079 non-null float64\n",
      "ponds_around3000        18181 non-null float64\n",
      "ponds_nearest           9110 non-null float64\n",
      "days_exposition         20518 non-null float64\n",
      "dtypes: bool(2), float64(14), int64(3), object(3)\n",
      "memory usage: 3.7+ MB\n"
     ]
    },
    {
     "data": {
      "text/html": [
       "<div>\n",
       "<style scoped>\n",
       "    .dataframe tbody tr th:only-of-type {\n",
       "        vertical-align: middle;\n",
       "    }\n",
       "\n",
       "    .dataframe tbody tr th {\n",
       "        vertical-align: top;\n",
       "    }\n",
       "\n",
       "    .dataframe thead th {\n",
       "        text-align: right;\n",
       "    }\n",
       "</style>\n",
       "<table border=\"1\" class=\"dataframe\">\n",
       "  <thead>\n",
       "    <tr style=\"text-align: right;\">\n",
       "      <th></th>\n",
       "      <th>total_images</th>\n",
       "      <th>last_price</th>\n",
       "      <th>total_area</th>\n",
       "      <th>first_day_exposition</th>\n",
       "      <th>rooms</th>\n",
       "      <th>ceiling_height</th>\n",
       "      <th>floors_total</th>\n",
       "      <th>living_area</th>\n",
       "      <th>floor</th>\n",
       "      <th>is_apartment</th>\n",
       "      <th>...</th>\n",
       "      <th>kitchen_area</th>\n",
       "      <th>balcony</th>\n",
       "      <th>locality_name</th>\n",
       "      <th>airports_nearest</th>\n",
       "      <th>cityCenters_nearest</th>\n",
       "      <th>parks_around3000</th>\n",
       "      <th>parks_nearest</th>\n",
       "      <th>ponds_around3000</th>\n",
       "      <th>ponds_nearest</th>\n",
       "      <th>days_exposition</th>\n",
       "    </tr>\n",
       "  </thead>\n",
       "  <tbody>\n",
       "    <tr>\n",
       "      <td>0</td>\n",
       "      <td>20</td>\n",
       "      <td>13000000.0</td>\n",
       "      <td>108.0</td>\n",
       "      <td>2019-03-07T00:00:00</td>\n",
       "      <td>3</td>\n",
       "      <td>2.70</td>\n",
       "      <td>16.0</td>\n",
       "      <td>51.0</td>\n",
       "      <td>8</td>\n",
       "      <td>NaN</td>\n",
       "      <td>...</td>\n",
       "      <td>25.0</td>\n",
       "      <td>NaN</td>\n",
       "      <td>Санкт-Петербург</td>\n",
       "      <td>18863.0</td>\n",
       "      <td>16028.0</td>\n",
       "      <td>1.0</td>\n",
       "      <td>482.0</td>\n",
       "      <td>2.0</td>\n",
       "      <td>755.0</td>\n",
       "      <td>NaN</td>\n",
       "    </tr>\n",
       "    <tr>\n",
       "      <td>1</td>\n",
       "      <td>7</td>\n",
       "      <td>3350000.0</td>\n",
       "      <td>40.4</td>\n",
       "      <td>2018-12-04T00:00:00</td>\n",
       "      <td>1</td>\n",
       "      <td>NaN</td>\n",
       "      <td>11.0</td>\n",
       "      <td>18.6</td>\n",
       "      <td>1</td>\n",
       "      <td>NaN</td>\n",
       "      <td>...</td>\n",
       "      <td>11.0</td>\n",
       "      <td>2.0</td>\n",
       "      <td>посёлок Шушары</td>\n",
       "      <td>12817.0</td>\n",
       "      <td>18603.0</td>\n",
       "      <td>0.0</td>\n",
       "      <td>NaN</td>\n",
       "      <td>0.0</td>\n",
       "      <td>NaN</td>\n",
       "      <td>81.0</td>\n",
       "    </tr>\n",
       "    <tr>\n",
       "      <td>2</td>\n",
       "      <td>10</td>\n",
       "      <td>5196000.0</td>\n",
       "      <td>56.0</td>\n",
       "      <td>2015-08-20T00:00:00</td>\n",
       "      <td>2</td>\n",
       "      <td>NaN</td>\n",
       "      <td>5.0</td>\n",
       "      <td>34.3</td>\n",
       "      <td>4</td>\n",
       "      <td>NaN</td>\n",
       "      <td>...</td>\n",
       "      <td>8.3</td>\n",
       "      <td>0.0</td>\n",
       "      <td>Санкт-Петербург</td>\n",
       "      <td>21741.0</td>\n",
       "      <td>13933.0</td>\n",
       "      <td>1.0</td>\n",
       "      <td>90.0</td>\n",
       "      <td>2.0</td>\n",
       "      <td>574.0</td>\n",
       "      <td>558.0</td>\n",
       "    </tr>\n",
       "    <tr>\n",
       "      <td>3</td>\n",
       "      <td>0</td>\n",
       "      <td>64900000.0</td>\n",
       "      <td>159.0</td>\n",
       "      <td>2015-07-24T00:00:00</td>\n",
       "      <td>3</td>\n",
       "      <td>NaN</td>\n",
       "      <td>14.0</td>\n",
       "      <td>NaN</td>\n",
       "      <td>9</td>\n",
       "      <td>NaN</td>\n",
       "      <td>...</td>\n",
       "      <td>NaN</td>\n",
       "      <td>0.0</td>\n",
       "      <td>Санкт-Петербург</td>\n",
       "      <td>28098.0</td>\n",
       "      <td>6800.0</td>\n",
       "      <td>2.0</td>\n",
       "      <td>84.0</td>\n",
       "      <td>3.0</td>\n",
       "      <td>234.0</td>\n",
       "      <td>424.0</td>\n",
       "    </tr>\n",
       "    <tr>\n",
       "      <td>4</td>\n",
       "      <td>2</td>\n",
       "      <td>10000000.0</td>\n",
       "      <td>100.0</td>\n",
       "      <td>2018-06-19T00:00:00</td>\n",
       "      <td>2</td>\n",
       "      <td>3.03</td>\n",
       "      <td>14.0</td>\n",
       "      <td>32.0</td>\n",
       "      <td>13</td>\n",
       "      <td>NaN</td>\n",
       "      <td>...</td>\n",
       "      <td>41.0</td>\n",
       "      <td>NaN</td>\n",
       "      <td>Санкт-Петербург</td>\n",
       "      <td>31856.0</td>\n",
       "      <td>8098.0</td>\n",
       "      <td>2.0</td>\n",
       "      <td>112.0</td>\n",
       "      <td>1.0</td>\n",
       "      <td>48.0</td>\n",
       "      <td>121.0</td>\n",
       "    </tr>\n",
       "  </tbody>\n",
       "</table>\n",
       "<p>5 rows × 22 columns</p>\n",
       "</div>"
      ],
      "text/plain": [
       "   total_images  last_price  total_area first_day_exposition  rooms  \\\n",
       "0            20  13000000.0       108.0  2019-03-07T00:00:00      3   \n",
       "1             7   3350000.0        40.4  2018-12-04T00:00:00      1   \n",
       "2            10   5196000.0        56.0  2015-08-20T00:00:00      2   \n",
       "3             0  64900000.0       159.0  2015-07-24T00:00:00      3   \n",
       "4             2  10000000.0       100.0  2018-06-19T00:00:00      2   \n",
       "\n",
       "   ceiling_height  floors_total  living_area  floor is_apartment  ...  \\\n",
       "0            2.70          16.0         51.0      8          NaN  ...   \n",
       "1             NaN          11.0         18.6      1          NaN  ...   \n",
       "2             NaN           5.0         34.3      4          NaN  ...   \n",
       "3             NaN          14.0          NaN      9          NaN  ...   \n",
       "4            3.03          14.0         32.0     13          NaN  ...   \n",
       "\n",
       "   kitchen_area  balcony    locality_name  airports_nearest  \\\n",
       "0          25.0      NaN  Санкт-Петербург           18863.0   \n",
       "1          11.0      2.0   посёлок Шушары           12817.0   \n",
       "2           8.3      0.0  Санкт-Петербург           21741.0   \n",
       "3           NaN      0.0  Санкт-Петербург           28098.0   \n",
       "4          41.0      NaN  Санкт-Петербург           31856.0   \n",
       "\n",
       "  cityCenters_nearest  parks_around3000  parks_nearest  ponds_around3000  \\\n",
       "0             16028.0               1.0          482.0               2.0   \n",
       "1             18603.0               0.0            NaN               0.0   \n",
       "2             13933.0               1.0           90.0               2.0   \n",
       "3              6800.0               2.0           84.0               3.0   \n",
       "4              8098.0               2.0          112.0               1.0   \n",
       "\n",
       "   ponds_nearest  days_exposition  \n",
       "0          755.0              NaN  \n",
       "1            NaN             81.0  \n",
       "2          574.0            558.0  \n",
       "3          234.0            424.0  \n",
       "4           48.0            121.0  \n",
       "\n",
       "[5 rows x 22 columns]"
      ]
     },
     "execution_count": 1,
     "metadata": {},
     "output_type": "execute_result"
    }
   ],
   "source": [
    "import pandas as pd\n",
    "import matplotlib.pyplot as plt\n",
    "data= pd.read_csv('/datasets/real_estate_data.csv', sep='\\t')\n",
    "data.info()\n",
    "data.head()\n"
   ]
  },
  {
   "cell_type": "markdown",
   "metadata": {},
   "source": [
    "### Вывод"
   ]
  },
  {
   "cell_type": "markdown",
   "metadata": {},
   "source": [
    "В данных видны пропуски:\n",
    "\n",
    "- Пропуски в количествах балконов заменим нулями;\n",
    "- first_day_exposition приведем в формат datetime. Оставим только дату.\n",
    "- floors_total приведем к целым числам. Пропуски заменим единицами. Скорее всего не указывают кол-во этажей, если дом одноэтажный.\n",
    "- is_apartment пропуски заменим на False\n",
    "- living_area  заменим пропуски нулями\n",
    "- kitchen_area заменим пропуски нулями\n",
    "- balcony заменим пропуски нулями\n",
    "- ceiling_height заменим пропуски нулями\n",
    "- locality_name Если рассматриваем Ленинградскую область, то можно предположить, что пропуски это Санкт-Питербург.\n",
    "- Пропуски в парках и озерах так же заменил нулями.\n",
    "\n",
    "Пропуски в остальных столбцах пока оставим как есть."
   ]
  },
  {
   "cell_type": "markdown",
   "metadata": {},
   "source": [
    "## Предобработка данных"
   ]
  },
  {
   "cell_type": "code",
   "execution_count": 2,
   "metadata": {},
   "outputs": [
    {
     "name": "stdout",
     "output_type": "stream",
     "text": [
      "<class 'pandas.core.frame.DataFrame'>\n",
      "RangeIndex: 23699 entries, 0 to 23698\n",
      "Data columns (total 24 columns):\n",
      "total_images            23699 non-null int64\n",
      "last_price              23699 non-null float64\n",
      "total_area              23699 non-null float64\n",
      "first_day_exposition    23699 non-null datetime64[ns]\n",
      "rooms                   23699 non-null int64\n",
      "ceiling_height          23699 non-null float64\n",
      "floors_total            23699 non-null float64\n",
      "living_area             23699 non-null float64\n",
      "floor                   23699 non-null int64\n",
      "is_apartment            23699 non-null bool\n",
      "studio                  23699 non-null bool\n",
      "open_plan               23699 non-null bool\n",
      "kitchen_area            23502 non-null float64\n",
      "balcony                 23699 non-null float64\n",
      "locality_name           23699 non-null object\n",
      "airports_nearest        18157 non-null float64\n",
      "cityCenters_nearest     18180 non-null float64\n",
      "parks_around3000        23699 non-null int64\n",
      "parks_nearest           23699 non-null int64\n",
      "ponds_around3000        23699 non-null int64\n",
      "ponds_nearest           23699 non-null int64\n",
      "days_exposition         23699 non-null int64\n",
      "median_living_area      23699 non-null float64\n",
      "median_kitchen_area     23502 non-null float64\n",
      "dtypes: bool(3), datetime64[ns](1), float64(11), int64(8), object(1)\n",
      "memory usage: 3.9+ MB\n"
     ]
    },
    {
     "data": {
      "text/html": [
       "<div>\n",
       "<style scoped>\n",
       "    .dataframe tbody tr th:only-of-type {\n",
       "        vertical-align: middle;\n",
       "    }\n",
       "\n",
       "    .dataframe tbody tr th {\n",
       "        vertical-align: top;\n",
       "    }\n",
       "\n",
       "    .dataframe thead th {\n",
       "        text-align: right;\n",
       "    }\n",
       "</style>\n",
       "<table border=\"1\" class=\"dataframe\">\n",
       "  <thead>\n",
       "    <tr style=\"text-align: right;\">\n",
       "      <th></th>\n",
       "      <th>total_images</th>\n",
       "      <th>last_price</th>\n",
       "      <th>total_area</th>\n",
       "      <th>first_day_exposition</th>\n",
       "      <th>rooms</th>\n",
       "      <th>ceiling_height</th>\n",
       "      <th>floors_total</th>\n",
       "      <th>living_area</th>\n",
       "      <th>floor</th>\n",
       "      <th>is_apartment</th>\n",
       "      <th>...</th>\n",
       "      <th>locality_name</th>\n",
       "      <th>airports_nearest</th>\n",
       "      <th>cityCenters_nearest</th>\n",
       "      <th>parks_around3000</th>\n",
       "      <th>parks_nearest</th>\n",
       "      <th>ponds_around3000</th>\n",
       "      <th>ponds_nearest</th>\n",
       "      <th>days_exposition</th>\n",
       "      <th>median_living_area</th>\n",
       "      <th>median_kitchen_area</th>\n",
       "    </tr>\n",
       "  </thead>\n",
       "  <tbody>\n",
       "    <tr>\n",
       "      <td>0</td>\n",
       "      <td>20</td>\n",
       "      <td>13000000.0</td>\n",
       "      <td>108.0</td>\n",
       "      <td>2019-03-07</td>\n",
       "      <td>3</td>\n",
       "      <td>2.70</td>\n",
       "      <td>16.0</td>\n",
       "      <td>51.0</td>\n",
       "      <td>8</td>\n",
       "      <td>False</td>\n",
       "      <td>...</td>\n",
       "      <td>Санкт-Петербург</td>\n",
       "      <td>18863.0</td>\n",
       "      <td>16028.0</td>\n",
       "      <td>1</td>\n",
       "      <td>482</td>\n",
       "      <td>2</td>\n",
       "      <td>755</td>\n",
       "      <td>0</td>\n",
       "      <td>45.0</td>\n",
       "      <td>9.50</td>\n",
       "    </tr>\n",
       "    <tr>\n",
       "      <td>1</td>\n",
       "      <td>7</td>\n",
       "      <td>3350000.0</td>\n",
       "      <td>40.4</td>\n",
       "      <td>2018-12-04</td>\n",
       "      <td>1</td>\n",
       "      <td>2.50</td>\n",
       "      <td>11.0</td>\n",
       "      <td>18.6</td>\n",
       "      <td>1</td>\n",
       "      <td>False</td>\n",
       "      <td>...</td>\n",
       "      <td>посёлок Шушары</td>\n",
       "      <td>12817.0</td>\n",
       "      <td>18603.0</td>\n",
       "      <td>0</td>\n",
       "      <td>0</td>\n",
       "      <td>0</td>\n",
       "      <td>0</td>\n",
       "      <td>81</td>\n",
       "      <td>17.6</td>\n",
       "      <td>9.04</td>\n",
       "    </tr>\n",
       "    <tr>\n",
       "      <td>2</td>\n",
       "      <td>10</td>\n",
       "      <td>5196000.0</td>\n",
       "      <td>56.0</td>\n",
       "      <td>2015-08-20</td>\n",
       "      <td>2</td>\n",
       "      <td>2.50</td>\n",
       "      <td>5.0</td>\n",
       "      <td>34.3</td>\n",
       "      <td>4</td>\n",
       "      <td>False</td>\n",
       "      <td>...</td>\n",
       "      <td>Санкт-Петербург</td>\n",
       "      <td>21741.0</td>\n",
       "      <td>13933.0</td>\n",
       "      <td>1</td>\n",
       "      <td>90</td>\n",
       "      <td>2</td>\n",
       "      <td>574</td>\n",
       "      <td>558</td>\n",
       "      <td>30.5</td>\n",
       "      <td>8.80</td>\n",
       "    </tr>\n",
       "    <tr>\n",
       "      <td>3</td>\n",
       "      <td>0</td>\n",
       "      <td>64900000.0</td>\n",
       "      <td>159.0</td>\n",
       "      <td>2015-07-24</td>\n",
       "      <td>3</td>\n",
       "      <td>2.50</td>\n",
       "      <td>14.0</td>\n",
       "      <td>45.0</td>\n",
       "      <td>9</td>\n",
       "      <td>False</td>\n",
       "      <td>...</td>\n",
       "      <td>Санкт-Петербург</td>\n",
       "      <td>28098.0</td>\n",
       "      <td>6800.0</td>\n",
       "      <td>2</td>\n",
       "      <td>84</td>\n",
       "      <td>3</td>\n",
       "      <td>234</td>\n",
       "      <td>424</td>\n",
       "      <td>45.0</td>\n",
       "      <td>9.50</td>\n",
       "    </tr>\n",
       "    <tr>\n",
       "      <td>4</td>\n",
       "      <td>2</td>\n",
       "      <td>10000000.0</td>\n",
       "      <td>100.0</td>\n",
       "      <td>2018-06-19</td>\n",
       "      <td>2</td>\n",
       "      <td>3.03</td>\n",
       "      <td>14.0</td>\n",
       "      <td>32.0</td>\n",
       "      <td>13</td>\n",
       "      <td>False</td>\n",
       "      <td>...</td>\n",
       "      <td>Санкт-Петербург</td>\n",
       "      <td>31856.0</td>\n",
       "      <td>8098.0</td>\n",
       "      <td>2</td>\n",
       "      <td>112</td>\n",
       "      <td>1</td>\n",
       "      <td>48</td>\n",
       "      <td>121</td>\n",
       "      <td>30.5</td>\n",
       "      <td>8.80</td>\n",
       "    </tr>\n",
       "  </tbody>\n",
       "</table>\n",
       "<p>5 rows × 24 columns</p>\n",
       "</div>"
      ],
      "text/plain": [
       "   total_images  last_price  total_area first_day_exposition  rooms  \\\n",
       "0            20  13000000.0       108.0           2019-03-07      3   \n",
       "1             7   3350000.0        40.4           2018-12-04      1   \n",
       "2            10   5196000.0        56.0           2015-08-20      2   \n",
       "3             0  64900000.0       159.0           2015-07-24      3   \n",
       "4             2  10000000.0       100.0           2018-06-19      2   \n",
       "\n",
       "   ceiling_height  floors_total  living_area  floor  is_apartment  ...  \\\n",
       "0            2.70          16.0         51.0      8         False  ...   \n",
       "1            2.50          11.0         18.6      1         False  ...   \n",
       "2            2.50           5.0         34.3      4         False  ...   \n",
       "3            2.50          14.0         45.0      9         False  ...   \n",
       "4            3.03          14.0         32.0     13         False  ...   \n",
       "\n",
       "     locality_name  airports_nearest  cityCenters_nearest  parks_around3000  \\\n",
       "0  Санкт-Петербург           18863.0              16028.0                 1   \n",
       "1   посёлок Шушары           12817.0              18603.0                 0   \n",
       "2  Санкт-Петербург           21741.0              13933.0                 1   \n",
       "3  Санкт-Петербург           28098.0               6800.0                 2   \n",
       "4  Санкт-Петербург           31856.0               8098.0                 2   \n",
       "\n",
       "  parks_nearest  ponds_around3000  ponds_nearest  days_exposition  \\\n",
       "0           482                 2            755                0   \n",
       "1             0                 0              0               81   \n",
       "2            90                 2            574              558   \n",
       "3            84                 3            234              424   \n",
       "4           112                 1             48              121   \n",
       "\n",
       "   median_living_area  median_kitchen_area  \n",
       "0                45.0                 9.50  \n",
       "1                17.6                 9.04  \n",
       "2                30.5                 8.80  \n",
       "3                45.0                 9.50  \n",
       "4                30.5                 8.80  \n",
       "\n",
       "[5 rows x 24 columns]"
      ]
     },
     "execution_count": 2,
     "metadata": {},
     "output_type": "execute_result"
    }
   ],
   "source": [
    "#Заменяем пропуски и меняем тип данных\n",
    "data['first_day_exposition'] = pd.to_datetime(data['first_day_exposition'], format = '%Y-%m-%d')\n",
    "data['is_apartment'] = data['is_apartment'].fillna(False).astype('bool')\n",
    "data['days_exposition'] = data['days_exposition'].fillna(0).astype('int')\n",
    "data['ceiling_height'].median()\n",
    "data['ceiling_height'] = data['ceiling_height'].fillna(2.5)\n",
    "#data['living_area'] = data['living_area'].fillna(0)\n",
    "data['median_living_area'] = data.groupby('rooms')['living_area'].transform('median')\n",
    "data['living_area'] = data['living_area'].fillna(data['median_living_area'])\n",
    "#data['kitchen_area'] = data['kitchen_area'].fillna(0)\n",
    "data['median_kitchen_area'] = data.groupby('rooms')['kitchen_area'].transform('median')\n",
    "data['kitchen_area'] = data['kitchen_area'].fillna(data['median_kitchen_area'])\n",
    "data['balcony'] = data['balcony'].fillna(0)\n",
    "data['floors_total'] = data['floors_total'].fillna(1)\n",
    "data['locality_name'] = data['locality_name'].fillna('Санкт-Петербург')\n",
    "data['parks_around3000'] = data['parks_around3000'].fillna(0).astype('int')\n",
    "data['parks_nearest'] = data['parks_nearest'].fillna(0).astype('int')\n",
    "data['ponds_around3000'] = data['ponds_around3000'].fillna(0).astype('int')\n",
    "data['ponds_nearest'] = data['ponds_nearest'].fillna(0).astype('int')\n",
    "\n",
    "data.info()\n",
    "data.head()\n"
   ]
  },
  {
   "cell_type": "markdown",
   "metadata": {},
   "source": [
    "## Расчёты и добавление результатов в таблицу\n",
    "\n",
    "- цену квадратного метра;\n",
    "- день недели, месяц и год публикации объявления;\n",
    "- этаж квартиры; варианты — первый, последний, другой;\n",
    "- соотношение жилой и общей площади, а также отношение площади кухни к общей."
   ]
  },
  {
   "cell_type": "code",
   "execution_count": 3,
   "metadata": {
    "scrolled": true
   },
   "outputs": [
    {
     "data": {
      "text/html": [
       "<div>\n",
       "<style scoped>\n",
       "    .dataframe tbody tr th:only-of-type {\n",
       "        vertical-align: middle;\n",
       "    }\n",
       "\n",
       "    .dataframe tbody tr th {\n",
       "        vertical-align: top;\n",
       "    }\n",
       "\n",
       "    .dataframe thead th {\n",
       "        text-align: right;\n",
       "    }\n",
       "</style>\n",
       "<table border=\"1\" class=\"dataframe\">\n",
       "  <thead>\n",
       "    <tr style=\"text-align: right;\">\n",
       "      <th></th>\n",
       "      <th>total_images</th>\n",
       "      <th>last_price</th>\n",
       "      <th>total_area</th>\n",
       "      <th>first_day_exposition</th>\n",
       "      <th>rooms</th>\n",
       "      <th>ceiling_height</th>\n",
       "      <th>floors_total</th>\n",
       "      <th>living_area</th>\n",
       "      <th>floor</th>\n",
       "      <th>is_apartment</th>\n",
       "      <th>...</th>\n",
       "      <th>ponds_around3000</th>\n",
       "      <th>ponds_nearest</th>\n",
       "      <th>days_exposition</th>\n",
       "      <th>median_living_area</th>\n",
       "      <th>median_kitchen_area</th>\n",
       "      <th>prise_miter</th>\n",
       "      <th>weekday</th>\n",
       "      <th>month</th>\n",
       "      <th>year</th>\n",
       "      <th>floor_category</th>\n",
       "    </tr>\n",
       "  </thead>\n",
       "  <tbody>\n",
       "    <tr>\n",
       "      <td>0</td>\n",
       "      <td>20</td>\n",
       "      <td>13000000.0</td>\n",
       "      <td>108.00</td>\n",
       "      <td>2019-03-07</td>\n",
       "      <td>3</td>\n",
       "      <td>2.70</td>\n",
       "      <td>16.0</td>\n",
       "      <td>51.00</td>\n",
       "      <td>8</td>\n",
       "      <td>False</td>\n",
       "      <td>...</td>\n",
       "      <td>2</td>\n",
       "      <td>755</td>\n",
       "      <td>0</td>\n",
       "      <td>45.0</td>\n",
       "      <td>9.50</td>\n",
       "      <td>120370</td>\n",
       "      <td>3</td>\n",
       "      <td>3</td>\n",
       "      <td>2019</td>\n",
       "      <td>другой</td>\n",
       "    </tr>\n",
       "    <tr>\n",
       "      <td>1</td>\n",
       "      <td>7</td>\n",
       "      <td>3350000.0</td>\n",
       "      <td>40.40</td>\n",
       "      <td>2018-12-04</td>\n",
       "      <td>1</td>\n",
       "      <td>2.50</td>\n",
       "      <td>11.0</td>\n",
       "      <td>18.60</td>\n",
       "      <td>1</td>\n",
       "      <td>False</td>\n",
       "      <td>...</td>\n",
       "      <td>0</td>\n",
       "      <td>0</td>\n",
       "      <td>81</td>\n",
       "      <td>17.6</td>\n",
       "      <td>9.04</td>\n",
       "      <td>82920</td>\n",
       "      <td>1</td>\n",
       "      <td>12</td>\n",
       "      <td>2018</td>\n",
       "      <td>первый</td>\n",
       "    </tr>\n",
       "    <tr>\n",
       "      <td>2</td>\n",
       "      <td>10</td>\n",
       "      <td>5196000.0</td>\n",
       "      <td>56.00</td>\n",
       "      <td>2015-08-20</td>\n",
       "      <td>2</td>\n",
       "      <td>2.50</td>\n",
       "      <td>5.0</td>\n",
       "      <td>34.30</td>\n",
       "      <td>4</td>\n",
       "      <td>False</td>\n",
       "      <td>...</td>\n",
       "      <td>2</td>\n",
       "      <td>574</td>\n",
       "      <td>558</td>\n",
       "      <td>30.5</td>\n",
       "      <td>8.80</td>\n",
       "      <td>92785</td>\n",
       "      <td>3</td>\n",
       "      <td>8</td>\n",
       "      <td>2015</td>\n",
       "      <td>другой</td>\n",
       "    </tr>\n",
       "    <tr>\n",
       "      <td>3</td>\n",
       "      <td>0</td>\n",
       "      <td>64900000.0</td>\n",
       "      <td>159.00</td>\n",
       "      <td>2015-07-24</td>\n",
       "      <td>3</td>\n",
       "      <td>2.50</td>\n",
       "      <td>14.0</td>\n",
       "      <td>45.00</td>\n",
       "      <td>9</td>\n",
       "      <td>False</td>\n",
       "      <td>...</td>\n",
       "      <td>3</td>\n",
       "      <td>234</td>\n",
       "      <td>424</td>\n",
       "      <td>45.0</td>\n",
       "      <td>9.50</td>\n",
       "      <td>408176</td>\n",
       "      <td>4</td>\n",
       "      <td>7</td>\n",
       "      <td>2015</td>\n",
       "      <td>другой</td>\n",
       "    </tr>\n",
       "    <tr>\n",
       "      <td>4</td>\n",
       "      <td>2</td>\n",
       "      <td>10000000.0</td>\n",
       "      <td>100.00</td>\n",
       "      <td>2018-06-19</td>\n",
       "      <td>2</td>\n",
       "      <td>3.03</td>\n",
       "      <td>14.0</td>\n",
       "      <td>32.00</td>\n",
       "      <td>13</td>\n",
       "      <td>False</td>\n",
       "      <td>...</td>\n",
       "      <td>1</td>\n",
       "      <td>48</td>\n",
       "      <td>121</td>\n",
       "      <td>30.5</td>\n",
       "      <td>8.80</td>\n",
       "      <td>100000</td>\n",
       "      <td>1</td>\n",
       "      <td>6</td>\n",
       "      <td>2018</td>\n",
       "      <td>другой</td>\n",
       "    </tr>\n",
       "    <tr>\n",
       "      <td>5</td>\n",
       "      <td>10</td>\n",
       "      <td>2890000.0</td>\n",
       "      <td>30.40</td>\n",
       "      <td>2018-09-10</td>\n",
       "      <td>1</td>\n",
       "      <td>2.50</td>\n",
       "      <td>12.0</td>\n",
       "      <td>14.40</td>\n",
       "      <td>5</td>\n",
       "      <td>False</td>\n",
       "      <td>...</td>\n",
       "      <td>0</td>\n",
       "      <td>0</td>\n",
       "      <td>55</td>\n",
       "      <td>17.6</td>\n",
       "      <td>9.04</td>\n",
       "      <td>95065</td>\n",
       "      <td>0</td>\n",
       "      <td>9</td>\n",
       "      <td>2018</td>\n",
       "      <td>другой</td>\n",
       "    </tr>\n",
       "    <tr>\n",
       "      <td>6</td>\n",
       "      <td>6</td>\n",
       "      <td>3700000.0</td>\n",
       "      <td>37.30</td>\n",
       "      <td>2017-11-02</td>\n",
       "      <td>1</td>\n",
       "      <td>2.50</td>\n",
       "      <td>26.0</td>\n",
       "      <td>10.60</td>\n",
       "      <td>6</td>\n",
       "      <td>False</td>\n",
       "      <td>...</td>\n",
       "      <td>0</td>\n",
       "      <td>0</td>\n",
       "      <td>155</td>\n",
       "      <td>17.6</td>\n",
       "      <td>9.04</td>\n",
       "      <td>99195</td>\n",
       "      <td>3</td>\n",
       "      <td>11</td>\n",
       "      <td>2017</td>\n",
       "      <td>другой</td>\n",
       "    </tr>\n",
       "    <tr>\n",
       "      <td>7</td>\n",
       "      <td>5</td>\n",
       "      <td>7915000.0</td>\n",
       "      <td>71.60</td>\n",
       "      <td>2019-04-18</td>\n",
       "      <td>2</td>\n",
       "      <td>2.50</td>\n",
       "      <td>24.0</td>\n",
       "      <td>30.50</td>\n",
       "      <td>22</td>\n",
       "      <td>False</td>\n",
       "      <td>...</td>\n",
       "      <td>0</td>\n",
       "      <td>0</td>\n",
       "      <td>0</td>\n",
       "      <td>30.5</td>\n",
       "      <td>8.80</td>\n",
       "      <td>110544</td>\n",
       "      <td>3</td>\n",
       "      <td>4</td>\n",
       "      <td>2019</td>\n",
       "      <td>другой</td>\n",
       "    </tr>\n",
       "    <tr>\n",
       "      <td>8</td>\n",
       "      <td>20</td>\n",
       "      <td>2900000.0</td>\n",
       "      <td>33.16</td>\n",
       "      <td>2018-05-23</td>\n",
       "      <td>1</td>\n",
       "      <td>2.50</td>\n",
       "      <td>27.0</td>\n",
       "      <td>15.43</td>\n",
       "      <td>26</td>\n",
       "      <td>False</td>\n",
       "      <td>...</td>\n",
       "      <td>0</td>\n",
       "      <td>0</td>\n",
       "      <td>189</td>\n",
       "      <td>17.6</td>\n",
       "      <td>9.04</td>\n",
       "      <td>87454</td>\n",
       "      <td>2</td>\n",
       "      <td>5</td>\n",
       "      <td>2018</td>\n",
       "      <td>другой</td>\n",
       "    </tr>\n",
       "    <tr>\n",
       "      <td>9</td>\n",
       "      <td>18</td>\n",
       "      <td>5400000.0</td>\n",
       "      <td>61.00</td>\n",
       "      <td>2017-02-26</td>\n",
       "      <td>3</td>\n",
       "      <td>2.50</td>\n",
       "      <td>9.0</td>\n",
       "      <td>43.60</td>\n",
       "      <td>7</td>\n",
       "      <td>False</td>\n",
       "      <td>...</td>\n",
       "      <td>0</td>\n",
       "      <td>0</td>\n",
       "      <td>289</td>\n",
       "      <td>45.0</td>\n",
       "      <td>9.50</td>\n",
       "      <td>88524</td>\n",
       "      <td>6</td>\n",
       "      <td>2</td>\n",
       "      <td>2017</td>\n",
       "      <td>другой</td>\n",
       "    </tr>\n",
       "  </tbody>\n",
       "</table>\n",
       "<p>10 rows × 29 columns</p>\n",
       "</div>"
      ],
      "text/plain": [
       "   total_images  last_price  total_area first_day_exposition  rooms  \\\n",
       "0            20  13000000.0      108.00           2019-03-07      3   \n",
       "1             7   3350000.0       40.40           2018-12-04      1   \n",
       "2            10   5196000.0       56.00           2015-08-20      2   \n",
       "3             0  64900000.0      159.00           2015-07-24      3   \n",
       "4             2  10000000.0      100.00           2018-06-19      2   \n",
       "5            10   2890000.0       30.40           2018-09-10      1   \n",
       "6             6   3700000.0       37.30           2017-11-02      1   \n",
       "7             5   7915000.0       71.60           2019-04-18      2   \n",
       "8            20   2900000.0       33.16           2018-05-23      1   \n",
       "9            18   5400000.0       61.00           2017-02-26      3   \n",
       "\n",
       "   ceiling_height  floors_total  living_area  floor  is_apartment  ...  \\\n",
       "0            2.70          16.0        51.00      8         False  ...   \n",
       "1            2.50          11.0        18.60      1         False  ...   \n",
       "2            2.50           5.0        34.30      4         False  ...   \n",
       "3            2.50          14.0        45.00      9         False  ...   \n",
       "4            3.03          14.0        32.00     13         False  ...   \n",
       "5            2.50          12.0        14.40      5         False  ...   \n",
       "6            2.50          26.0        10.60      6         False  ...   \n",
       "7            2.50          24.0        30.50     22         False  ...   \n",
       "8            2.50          27.0        15.43     26         False  ...   \n",
       "9            2.50           9.0        43.60      7         False  ...   \n",
       "\n",
       "   ponds_around3000  ponds_nearest  days_exposition  median_living_area  \\\n",
       "0                 2            755                0                45.0   \n",
       "1                 0              0               81                17.6   \n",
       "2                 2            574              558                30.5   \n",
       "3                 3            234              424                45.0   \n",
       "4                 1             48              121                30.5   \n",
       "5                 0              0               55                17.6   \n",
       "6                 0              0              155                17.6   \n",
       "7                 0              0                0                30.5   \n",
       "8                 0              0              189                17.6   \n",
       "9                 0              0              289                45.0   \n",
       "\n",
       "  median_kitchen_area  prise_miter  weekday  month  year  floor_category  \n",
       "0                9.50       120370        3      3  2019          другой  \n",
       "1                9.04        82920        1     12  2018          первый  \n",
       "2                8.80        92785        3      8  2015          другой  \n",
       "3                9.50       408176        4      7  2015          другой  \n",
       "4                8.80       100000        1      6  2018          другой  \n",
       "5                9.04        95065        0      9  2018          другой  \n",
       "6                9.04        99195        3     11  2017          другой  \n",
       "7                8.80       110544        3      4  2019          другой  \n",
       "8                9.04        87454        2      5  2018          другой  \n",
       "9                9.50        88524        6      2  2017          другой  \n",
       "\n",
       "[10 rows x 29 columns]"
      ]
     },
     "execution_count": 3,
     "metadata": {},
     "output_type": "execute_result"
    }
   ],
   "source": [
    "#Цена квадрата. Копейки не важны.\n",
    "data['prise_miter']=(data['last_price']/data['total_area']).astype('int')\n",
    "#ДОбавили столбцы с днем, месяце и годом.\n",
    "data['weekday'] = data['first_day_exposition'].dt.weekday\n",
    "data['month']=data['first_day_exposition'].dt.month\n",
    "data['year']=data['first_day_exposition'].dt.year\n",
    "\n",
    "#пишем функцию перебора и категоризации:\n",
    "def floor(row):\n",
    "    floors_total = row['floors_total']\n",
    "    floors = row['floor']\n",
    "    if floors == 1:\n",
    "        return 'первый'\n",
    "    elif floors == floors_total:\n",
    "        return 'последний'\n",
    "    else:\n",
    "        return 'другой'\n",
    "    \n",
    "#Создаем столбец и заполняем нашей функцией. \n",
    "data['floor_category'] = data.apply(floor, axis = 1)\n",
    "#Проверяем\n",
    "data.head(10)"
   ]
  },
  {
   "cell_type": "markdown",
   "metadata": {},
   "source": [
    "## Исследовательский анализ данных\n",
    "\n",
    "- Изучите следующие параметры: площадь, цена, число комнат, высота потолков. Постройте гистограммы для каждого параметра.\n",
    "- Изучите время продажи квартиры. Постройте гистограмму. Посчитайте среднее и медиану. Опишите, сколько обычно занимает продажа. Когда можно считать, что продажи прошли очень быстро, а когда необычно долго?\n",
    "- Уберите редкие и выбивающиеся значения. Опишите, какие особенности обнаружили.\n",
    "- Какие факторы больше всего влияют на стоимость квартиры? Изучите, зависит ли цена от площади, числа комнат, удалённости от центра. Изучите зависимость цены от того, на каком этаже расположена квартира: первом, последнем или другом. Также изучите зависимость от даты размещения: дня недели, месяца и года.\n",
    "- Выберите 10 населённых пунктов с наибольшим числом объявлений. Посчитайте среднюю цену квадратного метра в этих населённых пунктах. Выделите населённые пункты с самой высокой и низкой стоимостью жилья. Эти данные можно найти по имени в столбце locality_name.\n",
    "- Изучите предложения квартир: для каждой квартиры есть информация о расстоянии до центра. Выделите квартиры в Санкт-Петербурге (locality_name). Ваша задача — выяснить, какая область входит в центр. Создайте столбец с расстоянием до центра в километрах: округлите до целых значений. После этого посчитайте среднюю цену для каждого километра. Постройте график: он должен показывать, как цена зависит от удалённости от центра. Определите границу, где график сильно меняется, — это и будет центральная зона.\n",
    "- Выделите сегмент квартир в центре. Проанализируйте эту территорию и изучите следующие параметры: площадь, цена, число комнат, высота потолков. Также выделите факторы, которые влияют на стоимость квартиры (число комнат, этаж, удалённость от центра, дата размещения объявления). Сделайте выводы. Отличаются ли они от общих выводов по всему городу?"
   ]
  },
  {
   "cell_type": "code",
   "execution_count": 4,
   "metadata": {},
   "outputs": [
    {
     "data": {
      "text/plain": [
       "(1, 200)"
      ]
     },
     "execution_count": 4,
     "metadata": {},
     "output_type": "execute_result"
    },
    {
     "data": {
      "image/png": "[encoded data removed]",
      "text/plain": [
       "<Figure size 432x288 with 1 Axes>"
      ]
     },
     "metadata": {
      "needs_background": "light"
     },
     "output_type": "display_data"
    }
   ],
   "source": [
    "#Строим гистограммы по метражу.\n",
    "#data.plot(y='total_area',kind='hist',bins=100,grid=True, figsize = (5,3), range = (0,400))\n",
    "data=data.query('total_area<=150')\n",
    "data['total_area'].describe()\n",
    "#Откинули строчки с прощадью более 150м\n",
    "#data_clean_total_area.plot(y='total_area',kind='hist',bins=100,grid=True, figsize = (5,3), range = (0,400))\n",
    "plt.boxplot(data['total_area'])\n",
    "plt.ylim(1,200)\n",
    "plt.boxplot(data['total_area'])\n",
    "plt.ylim(1,200)"
   ]
  },
  {
   "cell_type": "markdown",
   "metadata": {},
   "source": [
    "По гистограмме видим нормальное распределение. Выбросы есть, но на картину не влияют. Для точности можно откинуть более 150\n",
    "\n",
    "В большенстве своем квартиры продаются с прощадью 60м2"
   ]
  },
  {
   "cell_type": "code",
   "execution_count": 5,
   "metadata": {},
   "outputs": [
    {
     "data": {
      "text/plain": [
       "count    2.241000e+04\n",
       "mean     5.132281e+06\n",
       "std      2.675025e+06\n",
       "min      1.219000e+04\n",
       "25%      3.350000e+06\n",
       "50%      4.500000e+06\n",
       "75%      6.290000e+06\n",
       "max      1.500000e+07\n",
       "Name: last_price, dtype: float64"
      ]
     },
     "execution_count": 5,
     "metadata": {},
     "output_type": "execute_result"
    },
    {
     "data": {
      "image/png": "[encoded data removed]",
      "text/plain": [
       "<Figure size 360x216 with 1 Axes>"
      ]
     },
     "metadata": {
      "needs_background": "light"
     },
     "output_type": "display_data"
    }
   ],
   "source": [
    "data=data.query('last_price<=15000000')\n",
    "data.plot(y='last_price',kind='hist',bins=100,grid=True, figsize = (5,3), range = (0,15000000))\n",
    "data['last_price'].describe()\n"
   ]
  },
  {
   "cell_type": "markdown",
   "metadata": {},
   "source": [
    "Откинем выбросы свыше 15 млн.\n",
    "По гистограмме видим нормальное распределение. Данные в порядке.\n",
    "\n",
    "Цены на недвижимость в среднем около 4 млн.руб.\n",
    "Распределение по Гауссу."
   ]
  },
  {
   "cell_type": "code",
   "execution_count": 6,
   "metadata": {},
   "outputs": [
    {
     "data": {
      "text/plain": [
       "count    22410.000000\n",
       "mean         1.967336\n",
       "std          0.932648\n",
       "min          0.000000\n",
       "25%          1.000000\n",
       "50%          2.000000\n",
       "75%          3.000000\n",
       "max          7.000000\n",
       "Name: rooms, dtype: float64"
      ]
     },
     "execution_count": 6,
     "metadata": {},
     "output_type": "execute_result"
    },
    {
     "data": {
      "image/png": "[encoded data removed]",
      "text/plain": [
       "<Figure size 360x216 with 1 Axes>"
      ]
     },
     "metadata": {
      "needs_background": "light"
     },
     "output_type": "display_data"
    }
   ],
   "source": [
    "#Проверим число комнат\n",
    "\n",
    "data=data.query('rooms<=8')\n",
    "data.plot(y='rooms',kind='hist',bins=30,grid=True, figsize = (5,3))\n",
    "data['rooms'].describe()"
   ]
  },
  {
   "cell_type": "markdown",
   "metadata": {},
   "source": [
    "Отбрасываем подозрительные строки с комнатами больше 8\n",
    "\n",
    "В продаже преобладают однушки и двушки."
   ]
  },
  {
   "cell_type": "code",
   "execution_count": 7,
   "metadata": {},
   "outputs": [
    {
     "data": {
      "text/plain": [
       "count    22385.000000\n",
       "mean         2.621917\n",
       "std          0.226731\n",
       "min          1.000000\n",
       "25%          2.500000\n",
       "50%          2.500000\n",
       "75%          2.700000\n",
       "max          8.300000\n",
       "Name: ceiling_height, dtype: float64"
      ]
     },
     "execution_count": 7,
     "metadata": {},
     "output_type": "execute_result"
    },
    {
     "data": {
      "image/png": "[encoded data removed]",
      "text/plain": [
       "<Figure size 360x216 with 1 Axes>"
      ]
     },
     "metadata": {
      "needs_background": "light"
     },
     "output_type": "display_data"
    }
   ],
   "source": [
    "#теперь высота потолков\n",
    "data=data.query('ceiling_height<=10')\n",
    "data['ceiling_height'].hist(bins = 30, range = (1,5), grid=True, figsize = (5,3))\n",
    "data['ceiling_height'].describe()"
   ]
  },
  {
   "cell_type": "markdown",
   "metadata": {},
   "source": [
    "Самая распространенная высота потолков 2,5. Отбросил лишнее."
   ]
  },
  {
   "cell_type": "code",
   "execution_count": 8,
   "metadata": {},
   "outputs": [
    {
     "data": {
      "text/plain": [
       "'Среднее'"
      ]
     },
     "metadata": {},
     "output_type": "display_data"
    },
    {
     "data": {
      "text/plain": [
       "153.82850122850124"
      ]
     },
     "metadata": {},
     "output_type": "display_data"
    },
    {
     "data": {
      "text/plain": [
       "'Медиана'"
      ]
     },
     "metadata": {},
     "output_type": "display_data"
    },
    {
     "data": {
      "text/plain": [
       "72.0"
      ]
     },
     "metadata": {},
     "output_type": "display_data"
    },
    {
     "data": {
      "image/png": "[encoded data removed]",
      "text/plain": [
       "<Figure size 432x288 with 1 Axes>"
      ]
     },
     "metadata": {
      "needs_background": "light"
     },
     "output_type": "display_data"
    }
   ],
   "source": [
    "#Изучите время продажи квартиры.\n",
    "data['days_exposition'].hist(bins=100, grid = True, range = (1,1600))\n",
    "display('Среднее', data['days_exposition'].mean())\n",
    "display('Медиана',data['days_exposition'].median())"
   ]
  },
  {
   "cell_type": "markdown",
   "metadata": {},
   "source": [
    "Гистограмма имеет нормальное распределение. В основном квартиры продаются за первые 100 дней. Медиана и среднее различаются значительно из-за аномально долгих продаж."
   ]
  },
  {
   "cell_type": "code",
   "execution_count": 9,
   "metadata": {},
   "outputs": [
    {
     "data": {
      "text/plain": [
       "'Среднее'"
      ]
     },
     "metadata": {},
     "output_type": "display_data"
    },
    {
     "data": {
      "text/plain": [
       "147.39750272760335"
      ]
     },
     "metadata": {},
     "output_type": "display_data"
    },
    {
     "data": {
      "text/plain": [
       "'Медиана'"
      ]
     },
     "metadata": {},
     "output_type": "display_data"
    },
    {
     "data": {
      "text/plain": [
       "100.0"
      ]
     },
     "metadata": {},
     "output_type": "display_data"
    },
    {
     "data": {
      "text/plain": [
       "count    16498.000000\n",
       "mean       147.397503\n",
       "std        139.134892\n",
       "min          1.000000\n",
       "25%         41.000000\n",
       "50%        100.000000\n",
       "75%        210.000000\n",
       "max        599.000000\n",
       "Name: days_exposition, dtype: float64"
      ]
     },
     "execution_count": 9,
     "metadata": {},
     "output_type": "execute_result"
    },
    {
     "data": {
      "image/png": "[encoded data removed]",
      "text/plain": [
       "<Figure size 432x288 with 1 Axes>"
      ]
     },
     "metadata": {
      "needs_background": "light"
     },
     "output_type": "display_data"
    }
   ],
   "source": [
    "#Уберите редкие и выбивающиеся значения\n",
    "data=data.query('days_exposition!=0 and days_exposition!=30 and days_exposition!=45 and days_exposition!=7 and days_exposition!=60 and days_exposition!=90 and days_exposition<600')\n",
    "\n",
    "data['days_exposition'].hist(bins=100, grid = True, range = (1,600))\n",
    "display('Среднее', data['days_exposition'].mean())\n",
    "display('Медиана',data['days_exposition'].median())\n",
    "data['days_exposition'].describe()\n",
    "# при ближайшем рассмотрении есть выбросы на 45,60,90 дней\n",
    "# а потом еще 7 дней и 30 дней. тоже откинем"
   ]
  },
  {
   "cell_type": "markdown",
   "metadata": {},
   "source": [
    "Есть аномальные выбросы на 7,30,45,60,90 дней. Подозрительно кратные месяцу и недели. Возможно это связано с правилами сервиса. Для красоты картины откинем эти значения."
   ]
  },
  {
   "cell_type": "markdown",
   "metadata": {},
   "source": [
    "Какие факторы больше всего влияют на стоимость квартиры? Изучите, зависит ли цена от площади, числа комнат, удалённости от центра. Изучите зависимость цены от того, на каком этаже расположена квартира: первом, последнем или другом. Также изучите зависимость от даты размещения: дня недели, месяца и года."
   ]
  },
  {
   "cell_type": "code",
   "execution_count": 10,
   "metadata": {},
   "outputs": [
    {
     "data": {
      "text/plain": [
       "0.7488827497791954"
      ]
     },
     "execution_count": 10,
     "metadata": {},
     "output_type": "execute_result"
    },
    {
     "data": {
      "image/png": "[encoded data removed]",
      "text/plain": [
       "<Figure size 432x288 with 1 Axes>"
      ]
     },
     "metadata": {
      "needs_background": "light"
     },
     "output_type": "display_data"
    }
   ],
   "source": [
    "#pivot_price_aria=data.pivot_table(index = 'total_area', values = 'prise_miter', aggfunc = ['mean', 'count', 'median'])\n",
    "#pivot_price_aria.columns = ['mean', 'count', 'median']\n",
    "#pivot_price_aria.plot(y = 'median', style = 'x')\n",
    "data.plot(x='total_area',y = 'last_price', style = 'o')\n",
    "data['total_area'].corr(data['last_price'])\n"
   ]
  },
  {
   "cell_type": "markdown",
   "metadata": {},
   "source": [
    "Чем больше площадь, тем выше цена."
   ]
  },
  {
   "cell_type": "code",
   "execution_count": 11,
   "metadata": {},
   "outputs": [
    {
     "data": {
      "text/plain": [
       "0.7488827497791954"
      ]
     },
     "execution_count": 11,
     "metadata": {},
     "output_type": "execute_result"
    }
   ],
   "source": [
    "# код ревьюера\n",
    "data['total_area'].corr(data['last_price'])"
   ]
  },
  {
   "cell_type": "code",
   "execution_count": 12,
   "metadata": {},
   "outputs": [
    {
     "data": {
      "text/plain": [
       "0.487063468047558"
      ]
     },
     "execution_count": 12,
     "metadata": {},
     "output_type": "execute_result"
    },
    {
     "data": {
      "image/png": "[encoded data removed]",
      "text/plain": [
       "<Figure size 432x288 with 1 Axes>"
      ]
     },
     "metadata": {
      "needs_background": "light"
     },
     "output_type": "display_data"
    }
   ],
   "source": [
    "#pivot_price_rooms=data.pivot_table(index = 'rooms', values = 'prise_miter', aggfunc = ['mean', 'count', 'median'])\n",
    "#pivot_price_rooms.columns = ['mean', 'count', 'median']\n",
    "#pivot_price_rooms.plot(y = 'median', style = 'x')\n",
    "#display(pivot_price_rooms)\n",
    "#отрежем многоквартирные, но редкие продажи. Реже 60 штук (это мксимум 7 комнат)\n",
    "#pivot_price_rooms.query('count>60').plot(y = 'median', style = 'x-')\n",
    "#display(data['rooms'].corr(pivot_price_rooms['median']))\n",
    "data.plot(x='rooms',y = 'last_price', style = 'o')\n",
    "data['rooms'].corr(data['last_price'])\n"
   ]
  },
  {
   "cell_type": "markdown",
   "metadata": {},
   "source": [
    "K корреляции 0,3. Зависимость слабая, но имеется. Чем больше комнат, тем выше цена."
   ]
  },
  {
   "cell_type": "code",
   "execution_count": 13,
   "metadata": {},
   "outputs": [
    {
     "data": {
      "text/plain": [
       "-0.35510927308312124"
      ]
     },
     "execution_count": 13,
     "metadata": {},
     "output_type": "execute_result"
    },
    {
     "data": {
      "image/png": "[encoded data removed]",
      "text/plain": [
       "<Figure size 432x288 with 1 Axes>"
      ]
     },
     "metadata": {
      "needs_background": "light"
     },
     "output_type": "display_data"
    }
   ],
   "source": [
    "\n",
    "#pivot_price_cent=data.pivot_table(index = 'cityCenters_nearest', values = 'prise_miter', aggfunc = ['mean', 'count', 'median'])\n",
    "#pivot_price_cent.columns = ['mean', 'count', 'median']\n",
    "#pivot_price_cent.plot(y = 'median', style = 'x')\n",
    "#display(pivot_price_cent)\n",
    "#data['cityCenters_nearest'].corr(pivot_price_cent['median'])\n",
    "data.plot(x='cityCenters_nearest',y = 'last_price', style = 'o')\n",
    "data['cityCenters_nearest'].corr(data['last_price'])\n",
    "\n"
   ]
  },
  {
   "cell_type": "markdown",
   "metadata": {},
   "source": [
    "Коэфициент корреляции практически нулевой. Несомненно, цены в самом центре местами выше, но на цену не сильно влияет удаленность в целом по рынку."
   ]
  },
  {
   "cell_type": "code",
   "execution_count": 14,
   "metadata": {},
   "outputs": [
    {
     "data": {
      "text/html": [
       "<div>\n",
       "<style scoped>\n",
       "    .dataframe tbody tr th:only-of-type {\n",
       "        vertical-align: middle;\n",
       "    }\n",
       "\n",
       "    .dataframe tbody tr th {\n",
       "        vertical-align: top;\n",
       "    }\n",
       "\n",
       "    .dataframe thead th {\n",
       "        text-align: right;\n",
       "    }\n",
       "</style>\n",
       "<table border=\"1\" class=\"dataframe\">\n",
       "  <thead>\n",
       "    <tr style=\"text-align: right;\">\n",
       "      <th></th>\n",
       "      <th>mean</th>\n",
       "      <th>count</th>\n",
       "      <th>median</th>\n",
       "    </tr>\n",
       "    <tr>\n",
       "      <th>floor_category</th>\n",
       "      <th></th>\n",
       "      <th></th>\n",
       "      <th></th>\n",
       "    </tr>\n",
       "  </thead>\n",
       "  <tbody>\n",
       "    <tr>\n",
       "      <td>другой</td>\n",
       "      <td>97000.611831</td>\n",
       "      <td>12273</td>\n",
       "      <td>96072.0</td>\n",
       "    </tr>\n",
       "    <tr>\n",
       "      <td>первый</td>\n",
       "      <td>79207.324901</td>\n",
       "      <td>2016</td>\n",
       "      <td>80495.5</td>\n",
       "    </tr>\n",
       "    <tr>\n",
       "      <td>последний</td>\n",
       "      <td>86188.725215</td>\n",
       "      <td>2209</td>\n",
       "      <td>86879.0</td>\n",
       "    </tr>\n",
       "  </tbody>\n",
       "</table>\n",
       "</div>"
      ],
      "text/plain": [
       "                        mean  count   median\n",
       "floor_category                              \n",
       "другой          97000.611831  12273  96072.0\n",
       "первый          79207.324901   2016  80495.5\n",
       "последний       86188.725215   2209  86879.0"
      ]
     },
     "metadata": {},
     "output_type": "display_data"
    },
    {
     "data": {
      "image/png": "[encoded data removed]",
      "text/plain": [
       "<Figure size 432x288 with 1 Axes>"
      ]
     },
     "metadata": {
      "needs_background": "light"
     },
     "output_type": "display_data"
    }
   ],
   "source": [
    "pivot_price_floor=data.pivot_table(index = 'floor_category', values = 'prise_miter', aggfunc = ['mean', 'count', 'median'])\n",
    "pivot_price_floor.columns = ['mean', 'count', 'median']\n",
    "pivot_price_floor.plot(y = 'median', style = 'x-')\n",
    "display(pivot_price_floor)"
   ]
  },
  {
   "cell_type": "markdown",
   "metadata": {},
   "source": [
    "Первые этажи не пользуются популярностью.\n",
    "\n",
    "Последний лучше, но предпочитают покупать на других этажах"
   ]
  },
  {
   "cell_type": "code",
   "execution_count": 15,
   "metadata": {},
   "outputs": [
    {
     "data": {
      "text/html": [
       "<div>\n",
       "<style scoped>\n",
       "    .dataframe tbody tr th:only-of-type {\n",
       "        vertical-align: middle;\n",
       "    }\n",
       "\n",
       "    .dataframe tbody tr th {\n",
       "        vertical-align: top;\n",
       "    }\n",
       "\n",
       "    .dataframe thead th {\n",
       "        text-align: right;\n",
       "    }\n",
       "</style>\n",
       "<table border=\"1\" class=\"dataframe\">\n",
       "  <thead>\n",
       "    <tr style=\"text-align: right;\">\n",
       "      <th></th>\n",
       "      <th>mean</th>\n",
       "      <th>count</th>\n",
       "      <th>median</th>\n",
       "    </tr>\n",
       "    <tr>\n",
       "      <th>weekday</th>\n",
       "      <th></th>\n",
       "      <th></th>\n",
       "      <th></th>\n",
       "    </tr>\n",
       "  </thead>\n",
       "  <tbody>\n",
       "    <tr>\n",
       "      <td>0</td>\n",
       "      <td>93619.426136</td>\n",
       "      <td>2464</td>\n",
       "      <td>93478.0</td>\n",
       "    </tr>\n",
       "    <tr>\n",
       "      <td>1</td>\n",
       "      <td>93552.334823</td>\n",
       "      <td>2909</td>\n",
       "      <td>93181.0</td>\n",
       "    </tr>\n",
       "    <tr>\n",
       "      <td>2</td>\n",
       "      <td>93635.855876</td>\n",
       "      <td>2706</td>\n",
       "      <td>93634.5</td>\n",
       "    </tr>\n",
       "    <tr>\n",
       "      <td>3</td>\n",
       "      <td>93670.042249</td>\n",
       "      <td>3006</td>\n",
       "      <td>93205.5</td>\n",
       "    </tr>\n",
       "    <tr>\n",
       "      <td>4</td>\n",
       "      <td>93109.812714</td>\n",
       "      <td>2926</td>\n",
       "      <td>92531.5</td>\n",
       "    </tr>\n",
       "    <tr>\n",
       "      <td>5</td>\n",
       "      <td>92818.465064</td>\n",
       "      <td>1331</td>\n",
       "      <td>92007.0</td>\n",
       "    </tr>\n",
       "    <tr>\n",
       "      <td>6</td>\n",
       "      <td>92394.377163</td>\n",
       "      <td>1156</td>\n",
       "      <td>91855.5</td>\n",
       "    </tr>\n",
       "  </tbody>\n",
       "</table>\n",
       "</div>"
      ],
      "text/plain": [
       "                 mean  count   median\n",
       "weekday                              \n",
       "0        93619.426136   2464  93478.0\n",
       "1        93552.334823   2909  93181.0\n",
       "2        93635.855876   2706  93634.5\n",
       "3        93670.042249   3006  93205.5\n",
       "4        93109.812714   2926  92531.5\n",
       "5        92818.465064   1331  92007.0\n",
       "6        92394.377163   1156  91855.5"
      ]
     },
     "metadata": {},
     "output_type": "display_data"
    },
    {
     "data": {
      "image/png": "[encoded data removed]",
      "text/plain": [
       "<Figure size 432x288 with 1 Axes>"
      ]
     },
     "metadata": {
      "needs_background": "light"
     },
     "output_type": "display_data"
    }
   ],
   "source": [
    "#день\n",
    "pivot_price_weekday=data.pivot_table(index = 'weekday', values = 'prise_miter', aggfunc = ['mean', 'count', 'median'])\n",
    "pivot_price_weekday.columns = ['mean', 'count', 'median']\n",
    "pivot_price_weekday.plot(y = 'median', style = 'x-')\n",
    "display(pivot_price_weekday)\n",
    "#data['weekday'].corr(pivot_price_weekday['median'])\n"
   ]
  },
  {
   "cell_type": "markdown",
   "metadata": {},
   "source": [
    "Пик продаж приходится на вторник,затем идет плавны спад продаж. В субботу минимум, а затем снова рост. Размещайте обьявнение по воскресеньям)\n",
    "\n"
   ]
  },
  {
   "cell_type": "code",
   "execution_count": 16,
   "metadata": {},
   "outputs": [
    {
     "data": {
      "text/html": [
       "<div>\n",
       "<style scoped>\n",
       "    .dataframe tbody tr th:only-of-type {\n",
       "        vertical-align: middle;\n",
       "    }\n",
       "\n",
       "    .dataframe tbody tr th {\n",
       "        vertical-align: top;\n",
       "    }\n",
       "\n",
       "    .dataframe thead th {\n",
       "        text-align: right;\n",
       "    }\n",
       "</style>\n",
       "<table border=\"1\" class=\"dataframe\">\n",
       "  <thead>\n",
       "    <tr style=\"text-align: right;\">\n",
       "      <th></th>\n",
       "      <th>mean</th>\n",
       "      <th>count</th>\n",
       "      <th>median</th>\n",
       "    </tr>\n",
       "    <tr>\n",
       "      <th>month</th>\n",
       "      <th></th>\n",
       "      <th></th>\n",
       "      <th></th>\n",
       "    </tr>\n",
       "  </thead>\n",
       "  <tbody>\n",
       "    <tr>\n",
       "      <td>1</td>\n",
       "      <td>94418.206653</td>\n",
       "      <td>992</td>\n",
       "      <td>94551.0</td>\n",
       "    </tr>\n",
       "    <tr>\n",
       "      <td>2</td>\n",
       "      <td>93158.586836</td>\n",
       "      <td>1808</td>\n",
       "      <td>93298.5</td>\n",
       "    </tr>\n",
       "    <tr>\n",
       "      <td>3</td>\n",
       "      <td>93677.323415</td>\n",
       "      <td>1546</td>\n",
       "      <td>93024.5</td>\n",
       "    </tr>\n",
       "    <tr>\n",
       "      <td>4</td>\n",
       "      <td>92812.278088</td>\n",
       "      <td>1255</td>\n",
       "      <td>91743.0</td>\n",
       "    </tr>\n",
       "    <tr>\n",
       "      <td>5</td>\n",
       "      <td>93761.043716</td>\n",
       "      <td>915</td>\n",
       "      <td>92000.0</td>\n",
       "    </tr>\n",
       "    <tr>\n",
       "      <td>6</td>\n",
       "      <td>90632.041014</td>\n",
       "      <td>1341</td>\n",
       "      <td>90909.0</td>\n",
       "    </tr>\n",
       "    <tr>\n",
       "      <td>7</td>\n",
       "      <td>93080.052083</td>\n",
       "      <td>1248</td>\n",
       "      <td>92899.0</td>\n",
       "    </tr>\n",
       "    <tr>\n",
       "      <td>8</td>\n",
       "      <td>95170.389513</td>\n",
       "      <td>1335</td>\n",
       "      <td>95092.0</td>\n",
       "    </tr>\n",
       "    <tr>\n",
       "      <td>9</td>\n",
       "      <td>94825.454128</td>\n",
       "      <td>1526</td>\n",
       "      <td>93963.0</td>\n",
       "    </tr>\n",
       "    <tr>\n",
       "      <td>10</td>\n",
       "      <td>92999.255772</td>\n",
       "      <td>1646</td>\n",
       "      <td>92941.5</td>\n",
       "    </tr>\n",
       "    <tr>\n",
       "      <td>11</td>\n",
       "      <td>93804.798114</td>\n",
       "      <td>1803</td>\n",
       "      <td>93478.0</td>\n",
       "    </tr>\n",
       "    <tr>\n",
       "      <td>12</td>\n",
       "      <td>92065.989843</td>\n",
       "      <td>1083</td>\n",
       "      <td>91549.0</td>\n",
       "    </tr>\n",
       "  </tbody>\n",
       "</table>\n",
       "</div>"
      ],
      "text/plain": [
       "               mean  count   median\n",
       "month                              \n",
       "1      94418.206653    992  94551.0\n",
       "2      93158.586836   1808  93298.5\n",
       "3      93677.323415   1546  93024.5\n",
       "4      92812.278088   1255  91743.0\n",
       "5      93761.043716    915  92000.0\n",
       "6      90632.041014   1341  90909.0\n",
       "7      93080.052083   1248  92899.0\n",
       "8      95170.389513   1335  95092.0\n",
       "9      94825.454128   1526  93963.0\n",
       "10     92999.255772   1646  92941.5\n",
       "11     93804.798114   1803  93478.0\n",
       "12     92065.989843   1083  91549.0"
      ]
     },
     "metadata": {},
     "output_type": "display_data"
    },
    {
     "data": {
      "image/png": "[encoded data removed]",
      "text/plain": [
       "<Figure size 432x288 with 1 Axes>"
      ]
     },
     "metadata": {
      "needs_background": "light"
     },
     "output_type": "display_data"
    }
   ],
   "source": [
    "#месяц\n",
    "pivot_price_month=data.pivot_table(index = 'month', values = 'prise_miter', aggfunc = ['mean', 'count', 'median'])\n",
    "pivot_price_month.columns = ['mean', 'count', 'median']\n",
    "pivot_price_month.plot(y = 'median', style = 'x-')\n",
    "display(pivot_price_month)\n",
    "#data['month'].corr(pivot_price_month['median'])"
   ]
  },
  {
   "cell_type": "markdown",
   "metadata": {},
   "source": [
    "Больше всего продаж в марте, а вот апрель и май самые неудачные месяцы для продажи."
   ]
  },
  {
   "cell_type": "code",
   "execution_count": 17,
   "metadata": {},
   "outputs": [
    {
     "data": {
      "text/html": [
       "<div>\n",
       "<style scoped>\n",
       "    .dataframe tbody tr th:only-of-type {\n",
       "        vertical-align: middle;\n",
       "    }\n",
       "\n",
       "    .dataframe tbody tr th {\n",
       "        vertical-align: top;\n",
       "    }\n",
       "\n",
       "    .dataframe thead th {\n",
       "        text-align: right;\n",
       "    }\n",
       "</style>\n",
       "<table border=\"1\" class=\"dataframe\">\n",
       "  <thead>\n",
       "    <tr style=\"text-align: right;\">\n",
       "      <th></th>\n",
       "      <th>mean</th>\n",
       "      <th>count</th>\n",
       "      <th>median</th>\n",
       "    </tr>\n",
       "    <tr>\n",
       "      <th>year</th>\n",
       "      <th></th>\n",
       "      <th></th>\n",
       "      <th></th>\n",
       "    </tr>\n",
       "  </thead>\n",
       "  <tbody>\n",
       "    <tr>\n",
       "      <td>2014</td>\n",
       "      <td>93861.708333</td>\n",
       "      <td>24</td>\n",
       "      <td>99862.5</td>\n",
       "    </tr>\n",
       "    <tr>\n",
       "      <td>2015</td>\n",
       "      <td>90665.801085</td>\n",
       "      <td>553</td>\n",
       "      <td>89890.0</td>\n",
       "    </tr>\n",
       "    <tr>\n",
       "      <td>2016</td>\n",
       "      <td>91041.566122</td>\n",
       "      <td>2019</td>\n",
       "      <td>90000.0</td>\n",
       "    </tr>\n",
       "    <tr>\n",
       "      <td>2017</td>\n",
       "      <td>91858.617442</td>\n",
       "      <td>6731</td>\n",
       "      <td>91176.0</td>\n",
       "    </tr>\n",
       "    <tr>\n",
       "      <td>2018</td>\n",
       "      <td>94496.034136</td>\n",
       "      <td>6269</td>\n",
       "      <td>94995.0</td>\n",
       "    </tr>\n",
       "    <tr>\n",
       "      <td>2019</td>\n",
       "      <td>103837.679601</td>\n",
       "      <td>902</td>\n",
       "      <td>103359.0</td>\n",
       "    </tr>\n",
       "  </tbody>\n",
       "</table>\n",
       "</div>"
      ],
      "text/plain": [
       "               mean  count    median\n",
       "year                                \n",
       "2014   93861.708333     24   99862.5\n",
       "2015   90665.801085    553   89890.0\n",
       "2016   91041.566122   2019   90000.0\n",
       "2017   91858.617442   6731   91176.0\n",
       "2018   94496.034136   6269   94995.0\n",
       "2019  103837.679601    902  103359.0"
      ]
     },
     "metadata": {},
     "output_type": "display_data"
    },
    {
     "data": {
      "image/png": "[encoded data removed]",
      "text/plain": [
       "<Figure size 432x288 with 1 Axes>"
      ]
     },
     "metadata": {
      "needs_background": "light"
     },
     "output_type": "display_data"
    }
   ],
   "source": [
    "#год\n",
    "pivot_price_year=data.pivot_table(index = 'year', values = 'prise_miter', aggfunc = ['mean', 'count', 'median'])\n",
    "pivot_price_year.columns = ['mean', 'count', 'median']\n",
    "pivot_price_year.plot(y = 'median', style = 'x-')\n",
    "display(pivot_price_year)\n",
    "#data['year'].corr(pivot_price_year['median'])"
   ]
  },
  {
   "cell_type": "markdown",
   "metadata": {},
   "source": [
    "2016 был сложный для продажи недвижимости, но затем всё начало исправляться"
   ]
  },
  {
   "cell_type": "code",
   "execution_count": 18,
   "metadata": {},
   "outputs": [],
   "source": [
    "pivot_price_sity=data.pivot_table(index='locality_name',values='prise_miter', aggfunc = ['mean', 'count', 'median'])\n",
    "pivot_price_sity.columns=['mean', 'count', 'median']\n",
    "pivot_price_sity=pivot_price_sity.sort_values('count',ascending = False).head(10)"
   ]
  },
  {
   "cell_type": "markdown",
   "metadata": {},
   "source": [
    "Больше всего объявлений и самая высокая цена в Питере, а самая низкая цена и меньшее число объявлений в Выборге."
   ]
  },
  {
   "cell_type": "code",
   "execution_count": 19,
   "metadata": {},
   "outputs": [
    {
     "data": {
      "text/plain": [
       "<matplotlib.axes._subplots.AxesSubplot at 0x7f5ecb241950>"
      ]
     },
     "execution_count": 19,
     "metadata": {},
     "output_type": "execute_result"
    },
    {
     "data": {
      "image/png": "[encoded data removed]",
      "text/plain": [
       "<Figure size 432x288 with 1 Axes>"
      ]
     },
     "metadata": {
      "needs_background": "light"
     },
     "output_type": "display_data"
    }
   ],
   "source": [
    "#data['spb_centr']=data.query('locality_name==\"Санкт-Петербург\" and ')\n",
    "data['km_centr']=data['cityCenters_nearest']/1000\n",
    "data['km_centr']=data['km_centr'].fillna('1000001')\n",
    "data['km_centr']=data['km_centr'].astype('int')\n",
    "pivot_price_km=data.query('locality_name==\"Санкт-Петербург\" and km_centr!=1000001').pivot_table(index = 'km_centr', values = 'prise_miter', aggfunc = ['mean'])\n",
    "pivot_price_km.columns=['mean']\n",
    "pivot_price_km.plot()"
   ]
  },
  {
   "cell_type": "markdown",
   "metadata": {},
   "source": [
    "Отсекаем центр радиусом 10 км."
   ]
  },
  {
   "cell_type": "code",
   "execution_count": 20,
   "metadata": {},
   "outputs": [],
   "source": [
    "#Выделим питерские квартиры в центре\n",
    "spb_sentr=data.query('locality_name==\"Санкт-Петербург\" and km_centr<=10')"
   ]
  },
  {
   "cell_type": "code",
   "execution_count": 21,
   "metadata": {},
   "outputs": [
    {
     "data": {
      "text/plain": [
       "<matplotlib.axes._subplots.AxesSubplot at 0x7f5ecb429f10>"
      ]
     },
     "execution_count": 21,
     "metadata": {},
     "output_type": "execute_result"
    },
    {
     "data": {
      "image/png": "[encoded data removed]",
      "text/plain": [
       "<Figure size 432x288 with 1 Axes>"
      ]
     },
     "metadata": {
      "needs_background": "light"
     },
     "output_type": "display_data"
    }
   ],
   "source": [
    "#Смотрим зависимость от площади\n",
    "pivot_price_aria_spb=spb_sentr.pivot_table(index = 'total_area', values = 'prise_miter', aggfunc = ['mean', 'count', 'median'])\n",
    "pivot_price_aria_spb.columns = ['mean', 'count', 'median']\n",
    "pivot_price_aria_spb.plot(y = 'median', style = 'x')"
   ]
  },
  {
   "cell_type": "markdown",
   "metadata": {},
   "source": [
    "Зависимость не прослеживается, так же как и в общих данных."
   ]
  },
  {
   "cell_type": "code",
   "execution_count": 22,
   "metadata": {},
   "outputs": [
    {
     "data": {
      "text/html": [
       "<div>\n",
       "<style scoped>\n",
       "    .dataframe tbody tr th:only-of-type {\n",
       "        vertical-align: middle;\n",
       "    }\n",
       "\n",
       "    .dataframe tbody tr th {\n",
       "        vertical-align: top;\n",
       "    }\n",
       "\n",
       "    .dataframe thead th {\n",
       "        text-align: right;\n",
       "    }\n",
       "</style>\n",
       "<table border=\"1\" class=\"dataframe\">\n",
       "  <thead>\n",
       "    <tr style=\"text-align: right;\">\n",
       "      <th></th>\n",
       "      <th>mean</th>\n",
       "      <th>count</th>\n",
       "      <th>median</th>\n",
       "    </tr>\n",
       "    <tr>\n",
       "      <th>rooms</th>\n",
       "      <th></th>\n",
       "      <th></th>\n",
       "      <th></th>\n",
       "    </tr>\n",
       "  </thead>\n",
       "  <tbody>\n",
       "    <tr>\n",
       "      <td>0</td>\n",
       "      <td>131950.888889</td>\n",
       "      <td>18</td>\n",
       "      <td>128149.0</td>\n",
       "    </tr>\n",
       "    <tr>\n",
       "      <td>1</td>\n",
       "      <td>127475.299163</td>\n",
       "      <td>956</td>\n",
       "      <td>122973.0</td>\n",
       "    </tr>\n",
       "    <tr>\n",
       "      <td>2</td>\n",
       "      <td>115812.531770</td>\n",
       "      <td>1322</td>\n",
       "      <td>110033.0</td>\n",
       "    </tr>\n",
       "    <tr>\n",
       "      <td>3</td>\n",
       "      <td>105373.245342</td>\n",
       "      <td>966</td>\n",
       "      <td>100380.0</td>\n",
       "    </tr>\n",
       "    <tr>\n",
       "      <td>4</td>\n",
       "      <td>95997.911538</td>\n",
       "      <td>260</td>\n",
       "      <td>94801.0</td>\n",
       "    </tr>\n",
       "    <tr>\n",
       "      <td>5</td>\n",
       "      <td>90244.796875</td>\n",
       "      <td>64</td>\n",
       "      <td>89345.5</td>\n",
       "    </tr>\n",
       "    <tr>\n",
       "      <td>6</td>\n",
       "      <td>93265.800000</td>\n",
       "      <td>5</td>\n",
       "      <td>83777.0</td>\n",
       "    </tr>\n",
       "    <tr>\n",
       "      <td>7</td>\n",
       "      <td>114011.666667</td>\n",
       "      <td>3</td>\n",
       "      <td>111940.0</td>\n",
       "    </tr>\n",
       "  </tbody>\n",
       "</table>\n",
       "</div>"
      ],
      "text/plain": [
       "                mean  count    median\n",
       "rooms                                \n",
       "0      131950.888889     18  128149.0\n",
       "1      127475.299163    956  122973.0\n",
       "2      115812.531770   1322  110033.0\n",
       "3      105373.245342    966  100380.0\n",
       "4       95997.911538    260   94801.0\n",
       "5       90244.796875     64   89345.5\n",
       "6       93265.800000      5   83777.0\n",
       "7      114011.666667      3  111940.0"
      ]
     },
     "metadata": {},
     "output_type": "display_data"
    },
    {
     "name": "stderr",
     "output_type": "stream",
     "text": [
      "/opt/conda/lib/python3.7/site-packages/numpy/lib/function_base.py:2551: RuntimeWarning: Degrees of freedom <= 0 for slice\n",
      "  c = cov(x, y, rowvar)\n",
      "/opt/conda/lib/python3.7/site-packages/numpy/lib/function_base.py:2480: RuntimeWarning: divide by zero encountered in true_divide\n",
      "  c *= np.true_divide(1, fact)\n"
     ]
    },
    {
     "data": {
      "text/plain": [
       "nan"
      ]
     },
     "metadata": {},
     "output_type": "display_data"
    },
    {
     "data": {
      "image/png": "[encoded data removed]",
      "text/plain": [
       "<Figure size 432x288 with 1 Axes>"
      ]
     },
     "metadata": {
      "needs_background": "light"
     },
     "output_type": "display_data"
    },
    {
     "data": {
      "image/png": "[encoded data removed]",
      "text/plain": [
       "<Figure size 432x288 with 1 Axes>"
      ]
     },
     "metadata": {
      "needs_background": "light"
     },
     "output_type": "display_data"
    }
   ],
   "source": [
    "pivot_price_rooms_spb=spb_sentr.pivot_table(index = 'rooms', values = 'prise_miter', aggfunc = ['mean', 'count', 'median'])\n",
    "pivot_price_rooms_spb.columns = ['mean', 'count', 'median']\n",
    "pivot_price_rooms_spb.plot(y = 'median', style = 'x')\n",
    "display(pivot_price_rooms_spb)\n",
    "#отрежем многоквартирные, но редкие продажи. Реже 60 штук (это мксимум 7 комнат)\n",
    "pivot_price_rooms_spb.query('count>60').plot(y = 'median', style = 'x-')\n",
    "display(spb_sentr['rooms'].corr(pivot_price_rooms_spb['median']))"
   ]
  },
  {
   "cell_type": "markdown",
   "metadata": {},
   "source": [
    "В центре Питера больше котируются однушки. "
   ]
  },
  {
   "cell_type": "code",
   "execution_count": 23,
   "metadata": {},
   "outputs": [
    {
     "data": {
      "text/html": [
       "<div>\n",
       "<style scoped>\n",
       "    .dataframe tbody tr th:only-of-type {\n",
       "        vertical-align: middle;\n",
       "    }\n",
       "\n",
       "    .dataframe tbody tr th {\n",
       "        vertical-align: top;\n",
       "    }\n",
       "\n",
       "    .dataframe thead th {\n",
       "        text-align: right;\n",
       "    }\n",
       "</style>\n",
       "<table border=\"1\" class=\"dataframe\">\n",
       "  <thead>\n",
       "    <tr style=\"text-align: right;\">\n",
       "      <th></th>\n",
       "      <th>mean</th>\n",
       "      <th>count</th>\n",
       "      <th>median</th>\n",
       "    </tr>\n",
       "    <tr>\n",
       "      <th>floor_category</th>\n",
       "      <th></th>\n",
       "      <th></th>\n",
       "      <th></th>\n",
       "    </tr>\n",
       "  </thead>\n",
       "  <tbody>\n",
       "    <tr>\n",
       "      <td>другой</td>\n",
       "      <td>116795.985075</td>\n",
       "      <td>2613</td>\n",
       "      <td>111662</td>\n",
       "    </tr>\n",
       "    <tr>\n",
       "      <td>первый</td>\n",
       "      <td>102542.296729</td>\n",
       "      <td>428</td>\n",
       "      <td>98854</td>\n",
       "    </tr>\n",
       "    <tr>\n",
       "      <td>последний</td>\n",
       "      <td>111399.095841</td>\n",
       "      <td>553</td>\n",
       "      <td>104328</td>\n",
       "    </tr>\n",
       "  </tbody>\n",
       "</table>\n",
       "</div>"
      ],
      "text/plain": [
       "                         mean  count  median\n",
       "floor_category                              \n",
       "другой          116795.985075   2613  111662\n",
       "первый          102542.296729    428   98854\n",
       "последний       111399.095841    553  104328"
      ]
     },
     "metadata": {},
     "output_type": "display_data"
    },
    {
     "data": {
      "image/png": "[encoded data removed]",
      "text/plain": [
       "<Figure size 432x288 with 1 Axes>"
      ]
     },
     "metadata": {
      "needs_background": "light"
     },
     "output_type": "display_data"
    }
   ],
   "source": [
    "pivot_price_floor_spb=spb_sentr.pivot_table(index = 'floor_category', values = 'prise_miter', aggfunc = ['mean', 'count', 'median'])\n",
    "pivot_price_floor_spb.columns = ['mean', 'count', 'median']\n",
    "pivot_price_floor_spb.plot(y = 'median', style = 'x-')\n",
    "display(pivot_price_floor_spb)"
   ]
  },
  {
   "cell_type": "markdown",
   "metadata": {},
   "source": [
    "Зависимоть та же, что и в общих данных."
   ]
  },
  {
   "cell_type": "code",
   "execution_count": 24,
   "metadata": {},
   "outputs": [
    {
     "data": {
      "text/html": [
       "<div>\n",
       "<style scoped>\n",
       "    .dataframe tbody tr th:only-of-type {\n",
       "        vertical-align: middle;\n",
       "    }\n",
       "\n",
       "    .dataframe tbody tr th {\n",
       "        vertical-align: top;\n",
       "    }\n",
       "\n",
       "    .dataframe thead th {\n",
       "        text-align: right;\n",
       "    }\n",
       "</style>\n",
       "<table border=\"1\" class=\"dataframe\">\n",
       "  <thead>\n",
       "    <tr style=\"text-align: right;\">\n",
       "      <th></th>\n",
       "      <th>mean</th>\n",
       "      <th>count</th>\n",
       "      <th>median</th>\n",
       "    </tr>\n",
       "    <tr>\n",
       "      <th>ceiling_height</th>\n",
       "      <th></th>\n",
       "      <th></th>\n",
       "      <th></th>\n",
       "    </tr>\n",
       "  </thead>\n",
       "  <tbody>\n",
       "    <tr>\n",
       "      <td>2.40</td>\n",
       "      <td>108663.500000</td>\n",
       "      <td>4</td>\n",
       "      <td>114642.5</td>\n",
       "    </tr>\n",
       "    <tr>\n",
       "      <td>2.45</td>\n",
       "      <td>109318.000000</td>\n",
       "      <td>1</td>\n",
       "      <td>109318.0</td>\n",
       "    </tr>\n",
       "    <tr>\n",
       "      <td>2.46</td>\n",
       "      <td>108396.000000</td>\n",
       "      <td>1</td>\n",
       "      <td>108396.0</td>\n",
       "    </tr>\n",
       "    <tr>\n",
       "      <td>2.47</td>\n",
       "      <td>94510.000000</td>\n",
       "      <td>1</td>\n",
       "      <td>94510.0</td>\n",
       "    </tr>\n",
       "    <tr>\n",
       "      <td>2.48</td>\n",
       "      <td>92555.333333</td>\n",
       "      <td>3</td>\n",
       "      <td>88064.0</td>\n",
       "    </tr>\n",
       "    <tr>\n",
       "      <td>...</td>\n",
       "      <td>...</td>\n",
       "      <td>...</td>\n",
       "      <td>...</td>\n",
       "    </tr>\n",
       "    <tr>\n",
       "      <td>4.40</td>\n",
       "      <td>62962.000000</td>\n",
       "      <td>1</td>\n",
       "      <td>62962.0</td>\n",
       "    </tr>\n",
       "    <tr>\n",
       "      <td>4.70</td>\n",
       "      <td>98631.000000</td>\n",
       "      <td>1</td>\n",
       "      <td>98631.0</td>\n",
       "    </tr>\n",
       "    <tr>\n",
       "      <td>4.80</td>\n",
       "      <td>299000.000000</td>\n",
       "      <td>1</td>\n",
       "      <td>299000.0</td>\n",
       "    </tr>\n",
       "    <tr>\n",
       "      <td>5.30</td>\n",
       "      <td>78000.000000</td>\n",
       "      <td>1</td>\n",
       "      <td>78000.0</td>\n",
       "    </tr>\n",
       "    <tr>\n",
       "      <td>8.30</td>\n",
       "      <td>125555.000000</td>\n",
       "      <td>1</td>\n",
       "      <td>125555.0</td>\n",
       "    </tr>\n",
       "  </tbody>\n",
       "</table>\n",
       "<p>125 rows × 3 columns</p>\n",
       "</div>"
      ],
      "text/plain": [
       "                         mean  count    median\n",
       "ceiling_height                                \n",
       "2.40            108663.500000      4  114642.5\n",
       "2.45            109318.000000      1  109318.0\n",
       "2.46            108396.000000      1  108396.0\n",
       "2.47             94510.000000      1   94510.0\n",
       "2.48             92555.333333      3   88064.0\n",
       "...                       ...    ...       ...\n",
       "4.40             62962.000000      1   62962.0\n",
       "4.70             98631.000000      1   98631.0\n",
       "4.80            299000.000000      1  299000.0\n",
       "5.30             78000.000000      1   78000.0\n",
       "8.30            125555.000000      1  125555.0\n",
       "\n",
       "[125 rows x 3 columns]"
      ]
     },
     "metadata": {},
     "output_type": "display_data"
    },
    {
     "data": {
      "text/plain": [
       "nan"
      ]
     },
     "execution_count": 24,
     "metadata": {},
     "output_type": "execute_result"
    },
    {
     "data": {
      "image/png": "[encoded data removed]",
      "text/plain": [
       "<Figure size 432x288 with 1 Axes>"
      ]
     },
     "metadata": {
      "needs_background": "light"
     },
     "output_type": "display_data"
    }
   ],
   "source": [
    "pivot_price_ceil_spb=spb_sentr.query('ceiling_height<20').pivot_table(index = 'ceiling_height', values = 'prise_miter', aggfunc = ['mean', 'count', 'median'])\n",
    "pivot_price_ceil_spb.columns = ['mean', 'count', 'median']\n",
    "pivot_price_ceil_spb.plot(y = 'median', style = 'x-')\n",
    "display(pivot_price_ceil_spb)\n",
    "spb_sentr['ceiling_height'].corr(pivot_price_ceil_spb['median'])"
   ]
  },
  {
   "cell_type": "markdown",
   "metadata": {},
   "source": [
    "Квартиры с высокими потолками стоят дороже, корреляция слабая, видимо в виду малого числа таких квартир."
   ]
  },
  {
   "cell_type": "code",
   "execution_count": 25,
   "metadata": {},
   "outputs": [
    {
     "data": {
      "text/html": [
       "<div>\n",
       "<style scoped>\n",
       "    .dataframe tbody tr th:only-of-type {\n",
       "        vertical-align: middle;\n",
       "    }\n",
       "\n",
       "    .dataframe tbody tr th {\n",
       "        vertical-align: top;\n",
       "    }\n",
       "\n",
       "    .dataframe thead th {\n",
       "        text-align: right;\n",
       "    }\n",
       "</style>\n",
       "<table border=\"1\" class=\"dataframe\">\n",
       "  <thead>\n",
       "    <tr style=\"text-align: right;\">\n",
       "      <th></th>\n",
       "      <th>mean</th>\n",
       "      <th>count</th>\n",
       "      <th>median</th>\n",
       "    </tr>\n",
       "    <tr>\n",
       "      <th>weekday</th>\n",
       "      <th></th>\n",
       "      <th></th>\n",
       "      <th></th>\n",
       "    </tr>\n",
       "  </thead>\n",
       "  <tbody>\n",
       "    <tr>\n",
       "      <td>0</td>\n",
       "      <td>114619.741509</td>\n",
       "      <td>530</td>\n",
       "      <td>109281.5</td>\n",
       "    </tr>\n",
       "    <tr>\n",
       "      <td>1</td>\n",
       "      <td>113015.944870</td>\n",
       "      <td>653</td>\n",
       "      <td>107843.0</td>\n",
       "    </tr>\n",
       "    <tr>\n",
       "      <td>2</td>\n",
       "      <td>115296.587522</td>\n",
       "      <td>577</td>\n",
       "      <td>109745.0</td>\n",
       "    </tr>\n",
       "    <tr>\n",
       "      <td>3</td>\n",
       "      <td>114057.178161</td>\n",
       "      <td>696</td>\n",
       "      <td>109136.5</td>\n",
       "    </tr>\n",
       "    <tr>\n",
       "      <td>4</td>\n",
       "      <td>112809.663462</td>\n",
       "      <td>624</td>\n",
       "      <td>106540.5</td>\n",
       "    </tr>\n",
       "    <tr>\n",
       "      <td>5</td>\n",
       "      <td>117162.246575</td>\n",
       "      <td>292</td>\n",
       "      <td>111310.5</td>\n",
       "    </tr>\n",
       "    <tr>\n",
       "      <td>6</td>\n",
       "      <td>115393.261261</td>\n",
       "      <td>222</td>\n",
       "      <td>109404.0</td>\n",
       "    </tr>\n",
       "  </tbody>\n",
       "</table>\n",
       "</div>"
      ],
      "text/plain": [
       "                  mean  count    median\n",
       "weekday                                \n",
       "0        114619.741509    530  109281.5\n",
       "1        113015.944870    653  107843.0\n",
       "2        115296.587522    577  109745.0\n",
       "3        114057.178161    696  109136.5\n",
       "4        112809.663462    624  106540.5\n",
       "5        117162.246575    292  111310.5\n",
       "6        115393.261261    222  109404.0"
      ]
     },
     "metadata": {},
     "output_type": "display_data"
    },
    {
     "data": {
      "image/png": "[encoded data removed]",
      "text/plain": [
       "<Figure size 432x288 with 1 Axes>"
      ]
     },
     "metadata": {
      "needs_background": "light"
     },
     "output_type": "display_data"
    }
   ],
   "source": [
    "#день\n",
    "pivot_price_weekday_spb=spb_sentr.pivot_table(index = 'weekday', values = 'prise_miter', aggfunc = ['mean', 'count', 'median'])\n",
    "pivot_price_weekday_spb.columns = ['mean', 'count', 'median']\n",
    "pivot_price_weekday_spb.plot(y = 'median', style = 'x-')\n",
    "display(pivot_price_weekday_spb)\n",
    "#spb_sentr['weekday'].corr(pivot_price_weekday_spb['median'])"
   ]
  },
  {
   "cell_type": "markdown",
   "metadata": {},
   "source": [
    "В центре Питера всплеск продаж приходится на четверг."
   ]
  },
  {
   "cell_type": "code",
   "execution_count": 26,
   "metadata": {},
   "outputs": [
    {
     "data": {
      "text/html": [
       "<div>\n",
       "<style scoped>\n",
       "    .dataframe tbody tr th:only-of-type {\n",
       "        vertical-align: middle;\n",
       "    }\n",
       "\n",
       "    .dataframe tbody tr th {\n",
       "        vertical-align: top;\n",
       "    }\n",
       "\n",
       "    .dataframe thead th {\n",
       "        text-align: right;\n",
       "    }\n",
       "</style>\n",
       "<table border=\"1\" class=\"dataframe\">\n",
       "  <thead>\n",
       "    <tr style=\"text-align: right;\">\n",
       "      <th></th>\n",
       "      <th>mean</th>\n",
       "      <th>count</th>\n",
       "      <th>median</th>\n",
       "    </tr>\n",
       "    <tr>\n",
       "      <th>month</th>\n",
       "      <th></th>\n",
       "      <th></th>\n",
       "      <th></th>\n",
       "    </tr>\n",
       "  </thead>\n",
       "  <tbody>\n",
       "    <tr>\n",
       "      <td>1</td>\n",
       "      <td>116519.192118</td>\n",
       "      <td>203</td>\n",
       "      <td>110031.0</td>\n",
       "    </tr>\n",
       "    <tr>\n",
       "      <td>2</td>\n",
       "      <td>112821.027708</td>\n",
       "      <td>397</td>\n",
       "      <td>105492.0</td>\n",
       "    </tr>\n",
       "    <tr>\n",
       "      <td>3</td>\n",
       "      <td>117424.318841</td>\n",
       "      <td>345</td>\n",
       "      <td>112903.0</td>\n",
       "    </tr>\n",
       "    <tr>\n",
       "      <td>4</td>\n",
       "      <td>113699.216783</td>\n",
       "      <td>286</td>\n",
       "      <td>107093.0</td>\n",
       "    </tr>\n",
       "    <tr>\n",
       "      <td>5</td>\n",
       "      <td>113365.173913</td>\n",
       "      <td>230</td>\n",
       "      <td>104814.0</td>\n",
       "    </tr>\n",
       "    <tr>\n",
       "      <td>6</td>\n",
       "      <td>110694.457413</td>\n",
       "      <td>317</td>\n",
       "      <td>106172.0</td>\n",
       "    </tr>\n",
       "    <tr>\n",
       "      <td>7</td>\n",
       "      <td>112564.795699</td>\n",
       "      <td>279</td>\n",
       "      <td>107142.0</td>\n",
       "    </tr>\n",
       "    <tr>\n",
       "      <td>8</td>\n",
       "      <td>116941.155709</td>\n",
       "      <td>289</td>\n",
       "      <td>111450.0</td>\n",
       "    </tr>\n",
       "    <tr>\n",
       "      <td>9</td>\n",
       "      <td>117061.235127</td>\n",
       "      <td>353</td>\n",
       "      <td>113230.0</td>\n",
       "    </tr>\n",
       "    <tr>\n",
       "      <td>10</td>\n",
       "      <td>111952.009231</td>\n",
       "      <td>325</td>\n",
       "      <td>108047.0</td>\n",
       "    </tr>\n",
       "    <tr>\n",
       "      <td>11</td>\n",
       "      <td>114619.203488</td>\n",
       "      <td>344</td>\n",
       "      <td>106221.0</td>\n",
       "    </tr>\n",
       "    <tr>\n",
       "      <td>12</td>\n",
       "      <td>113740.141593</td>\n",
       "      <td>226</td>\n",
       "      <td>108123.5</td>\n",
       "    </tr>\n",
       "  </tbody>\n",
       "</table>\n",
       "</div>"
      ],
      "text/plain": [
       "                mean  count    median\n",
       "month                                \n",
       "1      116519.192118    203  110031.0\n",
       "2      112821.027708    397  105492.0\n",
       "3      117424.318841    345  112903.0\n",
       "4      113699.216783    286  107093.0\n",
       "5      113365.173913    230  104814.0\n",
       "6      110694.457413    317  106172.0\n",
       "7      112564.795699    279  107142.0\n",
       "8      116941.155709    289  111450.0\n",
       "9      117061.235127    353  113230.0\n",
       "10     111952.009231    325  108047.0\n",
       "11     114619.203488    344  106221.0\n",
       "12     113740.141593    226  108123.5"
      ]
     },
     "metadata": {},
     "output_type": "display_data"
    },
    {
     "data": {
      "image/png": "[encoded data removed]",
      "text/plain": [
       "<Figure size 432x288 with 1 Axes>"
      ]
     },
     "metadata": {
      "needs_background": "light"
     },
     "output_type": "display_data"
    }
   ],
   "source": [
    "#месяц\n",
    "pivot_price_month_spb=spb_sentr.pivot_table(index = 'month', values = 'prise_miter', aggfunc = ['mean', 'count', 'median'])\n",
    "pivot_price_month_spb.columns = ['mean', 'count', 'median']\n",
    "pivot_price_month_spb.plot(y = 'median', style = 'x-')\n",
    "display(pivot_price_month_spb)\n",
    "#spb_sentr['month'].corr(pivot_price_month_spb['median'])"
   ]
  },
  {
   "cell_type": "markdown",
   "metadata": {},
   "source": [
    "В общем и целом, картина по месяцам повторяет результат в общих данных."
   ]
  },
  {
   "cell_type": "code",
   "execution_count": 27,
   "metadata": {},
   "outputs": [
    {
     "data": {
      "text/html": [
       "<div>\n",
       "<style scoped>\n",
       "    .dataframe tbody tr th:only-of-type {\n",
       "        vertical-align: middle;\n",
       "    }\n",
       "\n",
       "    .dataframe tbody tr th {\n",
       "        vertical-align: top;\n",
       "    }\n",
       "\n",
       "    .dataframe thead th {\n",
       "        text-align: right;\n",
       "    }\n",
       "</style>\n",
       "<table border=\"1\" class=\"dataframe\">\n",
       "  <thead>\n",
       "    <tr style=\"text-align: right;\">\n",
       "      <th></th>\n",
       "      <th>mean</th>\n",
       "      <th>count</th>\n",
       "      <th>median</th>\n",
       "    </tr>\n",
       "    <tr>\n",
       "      <th>year</th>\n",
       "      <th></th>\n",
       "      <th></th>\n",
       "      <th></th>\n",
       "    </tr>\n",
       "  </thead>\n",
       "  <tbody>\n",
       "    <tr>\n",
       "      <td>2014</td>\n",
       "      <td>110709.000000</td>\n",
       "      <td>11</td>\n",
       "      <td>105157.0</td>\n",
       "    </tr>\n",
       "    <tr>\n",
       "      <td>2015</td>\n",
       "      <td>107216.480519</td>\n",
       "      <td>154</td>\n",
       "      <td>101938.0</td>\n",
       "    </tr>\n",
       "    <tr>\n",
       "      <td>2016</td>\n",
       "      <td>110909.368313</td>\n",
       "      <td>486</td>\n",
       "      <td>104278.0</td>\n",
       "    </tr>\n",
       "    <tr>\n",
       "      <td>2017</td>\n",
       "      <td>113142.679752</td>\n",
       "      <td>1452</td>\n",
       "      <td>106341.5</td>\n",
       "    </tr>\n",
       "    <tr>\n",
       "      <td>2018</td>\n",
       "      <td>116238.396579</td>\n",
       "      <td>1286</td>\n",
       "      <td>111647.5</td>\n",
       "    </tr>\n",
       "    <tr>\n",
       "      <td>2019</td>\n",
       "      <td>123331.087805</td>\n",
       "      <td>205</td>\n",
       "      <td>119747.0</td>\n",
       "    </tr>\n",
       "  </tbody>\n",
       "</table>\n",
       "</div>"
      ],
      "text/plain": [
       "               mean  count    median\n",
       "year                                \n",
       "2014  110709.000000     11  105157.0\n",
       "2015  107216.480519    154  101938.0\n",
       "2016  110909.368313    486  104278.0\n",
       "2017  113142.679752   1452  106341.5\n",
       "2018  116238.396579   1286  111647.5\n",
       "2019  123331.087805    205  119747.0"
      ]
     },
     "metadata": {},
     "output_type": "display_data"
    },
    {
     "data": {
      "image/png": "[encoded data removed]",
      "text/plain": [
       "<Figure size 432x288 with 1 Axes>"
      ]
     },
     "metadata": {
      "needs_background": "light"
     },
     "output_type": "display_data"
    }
   ],
   "source": [
    "#год\n",
    "pivot_price_year_spb=spb_sentr.pivot_table(index = 'year', values = 'prise_miter', aggfunc = ['mean', 'count', 'median'])\n",
    "pivot_price_year_spb.columns = ['mean', 'count', 'median']\n",
    "pivot_price_year_spb.plot(y = 'median', style = 'x-')\n",
    "display(pivot_price_year_spb)\n",
    "#spb_sentr['year'].corr(pivot_price_year_spb['median'])"
   ]
  },
  {
   "cell_type": "markdown",
   "metadata": {},
   "source": [
    "Та же картина, что и в общих данных."
   ]
  },
  {
   "cell_type": "markdown",
   "metadata": {},
   "source": [
    "## Общий вывод"
   ]
  },
  {
   "cell_type": "markdown",
   "metadata": {},
   "source": [
    "В каждом изученном столбце данных есть аномальные значения и пропуски, влияющие на выборку. \n",
    "\n",
    "Было принято решение отбросить аномальные значения, а пропуски заменить на подходящие значения.\n",
    "\n",
    "Анализ показал, что на цену квадратного метра влияют такие показатели, как: \n",
    "- высота потолков;\n",
    "- количесво комнат;\n",
    "- этаж.\n",
    "\n",
    "В основном квартиры продаются за первые 100 дней.\n",
    "При этом:\n",
    "- Лучше всего выставлять квартиру в конце недели;\n",
    "- В начале или конце года;\n",
    "\n",
    "В условном центре Санкт-Питербурга (10км.) есть некоторые изменения в зависимостях, но в целом картина сохраняется."
   ]
  }
 ],
 "metadata": {
  "ExecuteTimeLog": [
   {
    "duration": 706,
    "start_time": "2022-02-02T15:19:07.317Z"
   },
   {
    "duration": 73,
    "start_time": "2022-02-02T15:19:22.999Z"
   },
   {
    "duration": 117,
    "start_time": "2022-02-02T15:33:54.201Z"
   },
   {
    "duration": 76,
    "start_time": "2022-02-02T15:52:36.027Z"
   },
   {
    "duration": 120,
    "start_time": "2022-02-02T15:53:11.480Z"
   },
   {
    "duration": 74,
    "start_time": "2022-02-02T15:53:41.175Z"
   },
   {
    "duration": 8,
    "start_time": "2022-02-02T15:55:17.932Z"
   },
   {
    "duration": 5,
    "start_time": "2022-02-02T15:56:00.637Z"
   },
   {
    "duration": 8,
    "start_time": "2022-02-02T15:56:37.380Z"
   },
   {
    "duration": 6,
    "start_time": "2022-02-02T15:57:35.222Z"
   },
   {
    "duration": 283,
    "start_time": "2022-02-02T15:57:59.296Z"
   },
   {
    "duration": 5,
    "start_time": "2022-02-02T15:58:06.215Z"
   },
   {
    "duration": 5,
    "start_time": "2022-02-02T15:58:23.491Z"
   },
   {
    "duration": 102,
    "start_time": "2022-02-02T15:58:42.053Z"
   },
   {
    "duration": 78,
    "start_time": "2022-02-02T15:58:51.399Z"
   },
   {
    "duration": 7,
    "start_time": "2022-02-02T15:59:31.509Z"
   },
   {
    "duration": 15,
    "start_time": "2022-02-02T16:00:01.568Z"
   },
   {
    "duration": 6716,
    "start_time": "2022-02-02T16:00:24.607Z"
   },
   {
    "duration": 5,
    "start_time": "2022-02-02T16:00:36.371Z"
   },
   {
    "duration": 9,
    "start_time": "2022-02-02T16:00:55.940Z"
   },
   {
    "duration": 5,
    "start_time": "2022-02-02T16:01:58.730Z"
   },
   {
    "duration": 11,
    "start_time": "2022-02-02T16:02:20.099Z"
   },
   {
    "duration": 5712,
    "start_time": "2022-02-02T16:02:30.938Z"
   },
   {
    "duration": 6,
    "start_time": "2022-02-02T16:02:39.390Z"
   },
   {
    "duration": 13,
    "start_time": "2022-02-02T16:02:54.442Z"
   },
   {
    "duration": 4,
    "start_time": "2022-02-02T16:03:17.692Z"
   },
   {
    "duration": 4,
    "start_time": "2022-02-02T16:03:27.544Z"
   },
   {
    "duration": 5,
    "start_time": "2022-02-02T16:03:43.213Z"
   },
   {
    "duration": 135,
    "start_time": "2022-02-02T16:04:24.776Z"
   },
   {
    "duration": 24,
    "start_time": "2022-02-02T16:06:05.847Z"
   },
   {
    "duration": 21,
    "start_time": "2022-02-02T16:06:22.855Z"
   },
   {
    "duration": 21,
    "start_time": "2022-02-02T16:06:32.365Z"
   },
   {
    "duration": 17,
    "start_time": "2022-02-02T16:06:40.845Z"
   },
   {
    "duration": 16,
    "start_time": "2022-02-02T16:06:48.002Z"
   },
   {
    "duration": 20,
    "start_time": "2022-02-02T16:06:54.765Z"
   },
   {
    "duration": 12,
    "start_time": "2022-02-02T16:07:17.335Z"
   },
   {
    "duration": 10,
    "start_time": "2022-02-02T16:07:31.831Z"
   },
   {
    "duration": 9,
    "start_time": "2022-02-02T16:07:43.445Z"
   },
   {
    "duration": 8,
    "start_time": "2022-02-02T16:07:57.745Z"
   },
   {
    "duration": 8,
    "start_time": "2022-02-02T16:08:02.882Z"
   },
   {
    "duration": 9,
    "start_time": "2022-02-02T16:08:42.678Z"
   },
   {
    "duration": 7,
    "start_time": "2022-02-02T16:08:47.470Z"
   },
   {
    "duration": 412,
    "start_time": "2022-02-03T11:53:49.513Z"
   },
   {
    "duration": 1078,
    "start_time": "2022-02-03T11:53:56.187Z"
   },
   {
    "duration": 13,
    "start_time": "2022-02-03T11:54:00.945Z"
   },
   {
    "duration": 17,
    "start_time": "2022-02-03T11:57:09.719Z"
   },
   {
    "duration": 3905,
    "start_time": "2022-02-03T11:57:25.491Z"
   },
   {
    "duration": 128,
    "start_time": "2022-02-03T11:58:45.372Z"
   },
   {
    "duration": 9,
    "start_time": "2022-02-03T11:58:49.429Z"
   },
   {
    "duration": 5012,
    "start_time": "2022-02-03T11:59:06.048Z"
   },
   {
    "duration": 3940,
    "start_time": "2022-02-03T12:00:34.421Z"
   },
   {
    "duration": 306,
    "start_time": "2022-02-03T12:00:45.406Z"
   },
   {
    "duration": 4076,
    "start_time": "2022-02-03T12:01:37.092Z"
   },
   {
    "duration": 4070,
    "start_time": "2022-02-03T12:02:51.323Z"
   },
   {
    "duration": 4168,
    "start_time": "2022-02-03T12:03:37.153Z"
   },
   {
    "duration": 938,
    "start_time": "2022-02-03T12:03:55.538Z"
   },
   {
    "duration": 6,
    "start_time": "2022-02-03T12:03:56.479Z"
   },
   {
    "duration": 434,
    "start_time": "2022-02-03T12:04:19.768Z"
   },
   {
    "duration": 11,
    "start_time": "2022-02-03T12:04:45.040Z"
   },
   {
    "duration": 656,
    "start_time": "2022-02-04T14:54:41.244Z"
   },
   {
    "duration": 6493,
    "start_time": "2022-02-04T14:54:41.901Z"
   },
   {
    "duration": 15,
    "start_time": "2022-02-04T14:55:02.570Z"
   },
   {
    "duration": 7,
    "start_time": "2022-02-04T14:55:30.605Z"
   },
   {
    "duration": 14,
    "start_time": "2022-02-04T14:56:23.541Z"
   },
   {
    "duration": 9,
    "start_time": "2022-02-04T14:57:04.165Z"
   },
   {
    "duration": 24,
    "start_time": "2022-02-04T15:04:18.554Z"
   },
   {
    "duration": 49,
    "start_time": "2022-02-04T15:04:42.712Z"
   },
   {
    "duration": 35,
    "start_time": "2022-02-04T15:07:09.805Z"
   },
   {
    "duration": 38,
    "start_time": "2022-02-04T15:10:06.072Z"
   },
   {
    "duration": 49,
    "start_time": "2022-02-04T15:11:53.686Z"
   },
   {
    "duration": 77,
    "start_time": "2022-02-04T15:20:41.685Z"
   },
   {
    "duration": 263,
    "start_time": "2022-02-04T15:20:47.745Z"
   },
   {
    "duration": 46,
    "start_time": "2022-02-04T15:22:40.788Z"
   },
   {
    "duration": 494,
    "start_time": "2022-02-04T15:26:45.648Z"
   },
   {
    "duration": 58,
    "start_time": "2022-02-04T15:27:23.409Z"
   },
   {
    "duration": 261,
    "start_time": "2022-02-04T15:27:49.674Z"
   },
   {
    "duration": 49,
    "start_time": "2022-02-04T15:28:07.001Z"
   },
   {
    "duration": 15,
    "start_time": "2022-02-04T15:29:23.778Z"
   },
   {
    "duration": 55,
    "start_time": "2022-02-04T15:29:27.985Z"
   },
   {
    "duration": 54,
    "start_time": "2022-02-04T15:31:53.047Z"
   },
   {
    "duration": 663,
    "start_time": "2022-02-04T15:32:08.738Z"
   },
   {
    "duration": 47,
    "start_time": "2022-02-04T15:32:09.411Z"
   },
   {
    "duration": 69,
    "start_time": "2022-02-04T15:32:09.460Z"
   },
   {
    "duration": 75,
    "start_time": "2022-02-04T15:34:18.924Z"
   },
   {
    "duration": 96,
    "start_time": "2022-02-04T15:34:38.475Z"
   },
   {
    "duration": 54,
    "start_time": "2022-02-04T15:34:44.761Z"
   },
   {
    "duration": 78,
    "start_time": "2022-02-04T15:35:12.402Z"
   },
   {
    "duration": 49,
    "start_time": "2022-02-04T15:35:27.324Z"
   },
   {
    "duration": 349,
    "start_time": "2022-02-04T15:42:51.535Z"
   },
   {
    "duration": 260,
    "start_time": "2022-02-04T15:43:11.543Z"
   },
   {
    "duration": 348,
    "start_time": "2022-02-04T15:43:26.550Z"
   },
   {
    "duration": 544,
    "start_time": "2022-02-04T15:43:57.095Z"
   },
   {
    "duration": 579,
    "start_time": "2022-02-04T15:44:30.926Z"
   },
   {
    "duration": 519,
    "start_time": "2022-02-04T15:44:57.877Z"
   },
   {
    "duration": 506,
    "start_time": "2022-02-04T15:46:20.862Z"
   },
   {
    "duration": 517,
    "start_time": "2022-02-04T15:46:52.197Z"
   },
   {
    "duration": 6052,
    "start_time": "2022-02-04T15:49:35.189Z"
   },
   {
    "duration": 709,
    "start_time": "2022-02-04T15:49:47.308Z"
   },
   {
    "duration": 6091,
    "start_time": "2022-02-04T15:49:48.019Z"
   },
   {
    "duration": 979,
    "start_time": "2022-02-04T15:49:53.133Z"
   },
   {
    "duration": 43,
    "start_time": "2022-02-04T15:50:19.691Z"
   },
   {
    "duration": 291,
    "start_time": "2022-02-04T15:53:18.014Z"
   },
   {
    "duration": 740,
    "start_time": "2022-02-04T15:53:25.078Z"
   },
   {
    "duration": 173,
    "start_time": "2022-02-04T15:53:31.095Z"
   },
   {
    "duration": 1935,
    "start_time": "2022-02-04T15:53:36.734Z"
   },
   {
    "duration": 331,
    "start_time": "2022-02-04T15:54:02.162Z"
   },
   {
    "duration": 245,
    "start_time": "2022-02-04T15:54:07.218Z"
   },
   {
    "duration": 352,
    "start_time": "2022-02-04T15:55:09.447Z"
   },
   {
    "duration": 250,
    "start_time": "2022-02-04T15:55:14.955Z"
   },
   {
    "duration": 261,
    "start_time": "2022-02-04T15:56:39.703Z"
   },
   {
    "duration": 233,
    "start_time": "2022-02-04T15:56:48.572Z"
   },
   {
    "duration": 186,
    "start_time": "2022-02-04T15:57:13.282Z"
   },
   {
    "duration": 310,
    "start_time": "2022-02-04T15:57:20.745Z"
   },
   {
    "duration": 650,
    "start_time": "2022-02-06T14:26:05.950Z"
   },
   {
    "duration": 59,
    "start_time": "2022-02-06T14:26:06.602Z"
   },
   {
    "duration": 527,
    "start_time": "2022-02-06T14:26:06.663Z"
   },
   {
    "duration": 368,
    "start_time": "2022-02-06T14:26:07.191Z"
   },
   {
    "duration": 214,
    "start_time": "2022-02-06T14:26:07.561Z"
   },
   {
    "duration": 398,
    "start_time": "2022-02-06T14:26:15.843Z"
   },
   {
    "duration": 414,
    "start_time": "2022-02-06T14:26:29.932Z"
   },
   {
    "duration": 398,
    "start_time": "2022-02-06T14:27:02.938Z"
   },
   {
    "duration": 396,
    "start_time": "2022-02-06T14:27:43.581Z"
   },
   {
    "duration": 455,
    "start_time": "2022-02-06T14:28:21.288Z"
   },
   {
    "duration": 412,
    "start_time": "2022-02-06T14:30:15.780Z"
   },
   {
    "duration": 414,
    "start_time": "2022-02-06T14:30:24.333Z"
   },
   {
    "duration": 227,
    "start_time": "2022-02-06T14:30:36.710Z"
   },
   {
    "duration": 399,
    "start_time": "2022-02-06T14:30:56.960Z"
   },
   {
    "duration": 387,
    "start_time": "2022-02-06T14:31:08.662Z"
   },
   {
    "duration": 685,
    "start_time": "2022-02-06T14:33:36.904Z"
   },
   {
    "duration": 341,
    "start_time": "2022-02-06T14:33:47.785Z"
   },
   {
    "duration": 10,
    "start_time": "2022-02-06T14:36:52.544Z"
   },
   {
    "duration": 33,
    "start_time": "2022-02-06T14:36:58.301Z"
   },
   {
    "duration": 32,
    "start_time": "2022-02-06T14:37:33.242Z"
   },
   {
    "duration": 30,
    "start_time": "2022-02-06T14:40:53.469Z"
   },
   {
    "duration": 30,
    "start_time": "2022-02-06T14:41:39.219Z"
   },
   {
    "duration": 30,
    "start_time": "2022-02-06T14:41:47.061Z"
   },
   {
    "duration": 664,
    "start_time": "2022-02-06T14:41:56.538Z"
   },
   {
    "duration": 59,
    "start_time": "2022-02-06T14:41:57.204Z"
   },
   {
    "duration": 507,
    "start_time": "2022-02-06T14:41:57.266Z"
   },
   {
    "duration": 468,
    "start_time": "2022-02-06T14:41:57.774Z"
   },
   {
    "duration": 35,
    "start_time": "2022-02-06T14:41:58.244Z"
   },
   {
    "duration": 210,
    "start_time": "2022-02-06T14:43:32.202Z"
   },
   {
    "duration": 359,
    "start_time": "2022-02-06T14:43:42.563Z"
   },
   {
    "duration": 344,
    "start_time": "2022-02-06T14:43:51.295Z"
   },
   {
    "duration": 332,
    "start_time": "2022-02-06T14:44:01.226Z"
   },
   {
    "duration": 304,
    "start_time": "2022-02-06T14:44:20.343Z"
   },
   {
    "duration": 404,
    "start_time": "2022-02-06T14:45:11.042Z"
   },
   {
    "duration": 693,
    "start_time": "2022-02-06T14:45:19.192Z"
   },
   {
    "duration": 62,
    "start_time": "2022-02-06T14:45:19.886Z"
   },
   {
    "duration": 504,
    "start_time": "2022-02-06T14:45:19.950Z"
   },
   {
    "duration": 466,
    "start_time": "2022-02-06T14:45:20.455Z"
   },
   {
    "duration": 405,
    "start_time": "2022-02-06T14:45:20.923Z"
   },
   {
    "duration": 321,
    "start_time": "2022-02-06T14:45:47.123Z"
   },
   {
    "duration": 196,
    "start_time": "2022-02-06T14:49:29.180Z"
   },
   {
    "duration": 344,
    "start_time": "2022-02-06T14:49:34.323Z"
   },
   {
    "duration": 336,
    "start_time": "2022-02-06T14:49:38.783Z"
   },
   {
    "duration": 397,
    "start_time": "2022-02-06T14:49:46.486Z"
   },
   {
    "duration": 173,
    "start_time": "2022-02-06T14:49:52.580Z"
   },
   {
    "duration": 280,
    "start_time": "2022-02-06T14:49:56.212Z"
   },
   {
    "duration": 198,
    "start_time": "2022-02-06T14:49:59.809Z"
   },
   {
    "duration": 174,
    "start_time": "2022-02-06T14:50:40.045Z"
   },
   {
    "duration": 244,
    "start_time": "2022-02-06T14:50:44.251Z"
   },
   {
    "duration": 214,
    "start_time": "2022-02-06T14:50:49.402Z"
   },
   {
    "duration": 208,
    "start_time": "2022-02-06T14:51:17.630Z"
   },
   {
    "duration": 191,
    "start_time": "2022-02-06T14:51:28.942Z"
   },
   {
    "duration": 385,
    "start_time": "2022-02-06T14:51:45.841Z"
   },
   {
    "duration": 250,
    "start_time": "2022-02-06T14:52:02.469Z"
   },
   {
    "duration": 342,
    "start_time": "2022-02-06T14:52:14.913Z"
   },
   {
    "duration": 193,
    "start_time": "2022-02-06T14:52:21.815Z"
   },
   {
    "duration": 211,
    "start_time": "2022-02-06T14:52:25.586Z"
   },
   {
    "duration": 202,
    "start_time": "2022-02-06T14:53:13.951Z"
   },
   {
    "duration": 620,
    "start_time": "2022-02-06T14:53:37.274Z"
   },
   {
    "duration": 57,
    "start_time": "2022-02-06T14:53:37.896Z"
   },
   {
    "duration": 493,
    "start_time": "2022-02-06T14:53:37.955Z"
   },
   {
    "duration": 442,
    "start_time": "2022-02-06T14:53:38.450Z"
   },
   {
    "duration": 353,
    "start_time": "2022-02-06T14:53:38.894Z"
   },
   {
    "duration": 208,
    "start_time": "2022-02-06T14:53:39.248Z"
   },
   {
    "duration": 221,
    "start_time": "2022-02-06T14:56:07.014Z"
   },
   {
    "duration": 231,
    "start_time": "2022-02-06T14:56:30.328Z"
   },
   {
    "duration": 740,
    "start_time": "2022-02-07T05:04:16.071Z"
   },
   {
    "duration": 58,
    "start_time": "2022-02-07T05:04:16.814Z"
   },
   {
    "duration": 670,
    "start_time": "2022-02-07T05:04:16.874Z"
   },
   {
    "duration": 455,
    "start_time": "2022-02-07T05:04:17.546Z"
   },
   {
    "duration": 340,
    "start_time": "2022-02-07T05:04:18.007Z"
   },
   {
    "duration": 206,
    "start_time": "2022-02-07T05:04:18.349Z"
   },
   {
    "duration": 236,
    "start_time": "2022-02-07T05:04:18.556Z"
   },
   {
    "duration": 216,
    "start_time": "2022-02-07T05:04:26.209Z"
   },
   {
    "duration": 796,
    "start_time": "2022-02-07T05:14:27.405Z"
   },
   {
    "duration": 57,
    "start_time": "2022-02-07T05:14:28.203Z"
   },
   {
    "duration": 536,
    "start_time": "2022-02-07T05:14:28.262Z"
   },
   {
    "duration": 381,
    "start_time": "2022-02-07T05:14:28.800Z"
   },
   {
    "duration": 350,
    "start_time": "2022-02-07T05:14:29.183Z"
   },
   {
    "duration": 239,
    "start_time": "2022-02-07T05:14:29.535Z"
   },
   {
    "duration": 251,
    "start_time": "2022-02-07T05:14:29.776Z"
   },
   {
    "duration": 40,
    "start_time": "2022-02-07T05:14:30.029Z"
   },
   {
    "duration": 135,
    "start_time": "2022-02-07T05:14:51.034Z"
   },
   {
    "duration": 145,
    "start_time": "2022-02-07T05:15:08.423Z"
   },
   {
    "duration": 126,
    "start_time": "2022-02-07T05:15:15.337Z"
   },
   {
    "duration": 345,
    "start_time": "2022-02-07T05:17:41.013Z"
   },
   {
    "duration": 406,
    "start_time": "2022-02-07T05:18:37.695Z"
   },
   {
    "duration": 502,
    "start_time": "2022-02-07T05:18:59.694Z"
   },
   {
    "duration": 330,
    "start_time": "2022-02-07T05:19:24.317Z"
   },
   {
    "duration": 336,
    "start_time": "2022-02-07T05:19:47.100Z"
   },
   {
    "duration": 596,
    "start_time": "2022-02-07T05:20:03.654Z"
   },
   {
    "duration": 413,
    "start_time": "2022-02-07T05:20:12.000Z"
   },
   {
    "duration": 360,
    "start_time": "2022-02-07T05:20:26.583Z"
   },
   {
    "duration": 337,
    "start_time": "2022-02-07T05:20:41.732Z"
   },
   {
    "duration": 77,
    "start_time": "2022-02-07T05:21:50.609Z"
   },
   {
    "duration": 344,
    "start_time": "2022-02-07T05:21:58.401Z"
   },
   {
    "duration": 549,
    "start_time": "2022-02-07T05:28:38.140Z"
   },
   {
    "duration": 347,
    "start_time": "2022-02-07T05:29:21.355Z"
   },
   {
    "duration": 471,
    "start_time": "2022-02-07T05:29:52.900Z"
   },
   {
    "duration": 71,
    "start_time": "2022-02-07T05:31:34.138Z"
   },
   {
    "duration": 70,
    "start_time": "2022-02-07T05:31:40.843Z"
   },
   {
    "duration": 73,
    "start_time": "2022-02-07T05:31:44.066Z"
   },
   {
    "duration": 74,
    "start_time": "2022-02-07T05:31:49.515Z"
   },
   {
    "duration": 349,
    "start_time": "2022-02-07T05:32:13.460Z"
   },
   {
    "duration": 401,
    "start_time": "2022-02-07T05:32:55.543Z"
   },
   {
    "duration": 363,
    "start_time": "2022-02-07T05:33:24.576Z"
   },
   {
    "duration": 374,
    "start_time": "2022-02-07T05:34:07.880Z"
   },
   {
    "duration": 483,
    "start_time": "2022-02-07T05:34:24.331Z"
   },
   {
    "duration": 370,
    "start_time": "2022-02-07T05:34:38.449Z"
   },
   {
    "duration": 359,
    "start_time": "2022-02-07T05:34:59.626Z"
   },
   {
    "duration": 450,
    "start_time": "2022-02-07T05:35:14.311Z"
   },
   {
    "duration": 342,
    "start_time": "2022-02-07T05:35:33.087Z"
   },
   {
    "duration": 346,
    "start_time": "2022-02-07T05:35:49.361Z"
   },
   {
    "duration": 468,
    "start_time": "2022-02-07T05:35:57.791Z"
   },
   {
    "duration": 68,
    "start_time": "2022-02-07T05:41:16.620Z"
   },
   {
    "duration": 28,
    "start_time": "2022-02-07T05:45:27.218Z"
   },
   {
    "duration": 39,
    "start_time": "2022-02-07T05:45:37.300Z"
   },
   {
    "duration": 243,
    "start_time": "2022-02-07T05:46:37.456Z"
   },
   {
    "duration": 233,
    "start_time": "2022-02-07T05:46:57.266Z"
   },
   {
    "duration": 245,
    "start_time": "2022-02-07T05:47:02.067Z"
   },
   {
    "duration": 40,
    "start_time": "2022-02-07T05:47:18.440Z"
   },
   {
    "duration": 40,
    "start_time": "2022-02-07T05:47:21.700Z"
   },
   {
    "duration": 31,
    "start_time": "2022-02-07T05:47:34.599Z"
   },
   {
    "duration": 29,
    "start_time": "2022-02-07T05:47:50.103Z"
   },
   {
    "duration": 36,
    "start_time": "2022-02-07T05:47:58.921Z"
   },
   {
    "duration": 235,
    "start_time": "2022-02-07T05:48:37.447Z"
   },
   {
    "duration": 218,
    "start_time": "2022-02-07T05:48:48.109Z"
   },
   {
    "duration": 212,
    "start_time": "2022-02-07T05:48:54.580Z"
   },
   {
    "duration": 6394,
    "start_time": "2022-02-07T05:50:04.213Z"
   },
   {
    "duration": 5787,
    "start_time": "2022-02-07T05:54:30.792Z"
   },
   {
    "duration": 211,
    "start_time": "2022-02-07T05:55:57.770Z"
   },
   {
    "duration": 71,
    "start_time": "2022-02-07T05:57:18.458Z"
   },
   {
    "duration": 419,
    "start_time": "2022-02-07T05:58:17.681Z"
   },
   {
    "duration": 227,
    "start_time": "2022-02-07T05:58:42.714Z"
   },
   {
    "duration": 210,
    "start_time": "2022-02-07T06:00:34.174Z"
   },
   {
    "duration": 350,
    "start_time": "2022-02-07T06:01:02.081Z"
   },
   {
    "duration": 560,
    "start_time": "2022-02-07T06:05:50.954Z"
   },
   {
    "duration": 410,
    "start_time": "2022-02-07T06:06:03.106Z"
   },
   {
    "duration": 423,
    "start_time": "2022-02-07T06:07:46.075Z"
   },
   {
    "duration": 250,
    "start_time": "2022-02-07T06:10:07.635Z"
   },
   {
    "duration": 256,
    "start_time": "2022-02-07T06:12:05.383Z"
   },
   {
    "duration": 203,
    "start_time": "2022-02-07T06:15:20.154Z"
   },
   {
    "duration": 198,
    "start_time": "2022-02-07T06:15:30.167Z"
   },
   {
    "duration": 215,
    "start_time": "2022-02-07T06:20:51.515Z"
   },
   {
    "duration": 449,
    "start_time": "2022-02-07T06:23:42.542Z"
   },
   {
    "duration": 6462,
    "start_time": "2022-02-07T06:24:50.645Z"
   },
   {
    "duration": 293,
    "start_time": "2022-02-07T06:24:56.817Z"
   },
   {
    "duration": 225,
    "start_time": "2022-02-07T06:25:26.760Z"
   },
   {
    "duration": 206,
    "start_time": "2022-02-07T06:26:29.689Z"
   },
   {
    "duration": 223,
    "start_time": "2022-02-07T06:27:10.267Z"
   },
   {
    "duration": 257,
    "start_time": "2022-02-07T06:27:40.150Z"
   },
   {
    "duration": 831,
    "start_time": "2022-02-07T06:27:52.973Z"
   },
   {
    "duration": 60,
    "start_time": "2022-02-07T06:27:53.807Z"
   },
   {
    "duration": 577,
    "start_time": "2022-02-07T06:27:53.869Z"
   },
   {
    "duration": 403,
    "start_time": "2022-02-07T06:27:54.449Z"
   },
   {
    "duration": 353,
    "start_time": "2022-02-07T06:27:54.854Z"
   },
   {
    "duration": 232,
    "start_time": "2022-02-07T06:27:55.209Z"
   },
   {
    "duration": 236,
    "start_time": "2022-02-07T06:27:55.443Z"
   },
   {
    "duration": 368,
    "start_time": "2022-02-07T06:27:55.681Z"
   },
   {
    "duration": 414,
    "start_time": "2022-02-07T06:27:56.052Z"
   },
   {
    "duration": 243,
    "start_time": "2022-02-07T06:27:56.468Z"
   },
   {
    "duration": 437,
    "start_time": "2022-02-07T06:27:56.714Z"
   },
   {
    "duration": 349,
    "start_time": "2022-02-07T06:27:57.153Z"
   },
   {
    "duration": 216,
    "start_time": "2022-02-07T06:27:57.507Z"
   },
   {
    "duration": 218,
    "start_time": "2022-02-07T06:27:57.725Z"
   },
   {
    "duration": 232,
    "start_time": "2022-02-07T06:27:57.945Z"
   },
   {
    "duration": 7461,
    "start_time": "2022-02-07T06:27:58.179Z"
   },
   {
    "duration": 229,
    "start_time": "2022-02-07T06:28:42.159Z"
   },
   {
    "duration": 280,
    "start_time": "2022-02-07T06:29:28.698Z"
   },
   {
    "duration": 34,
    "start_time": "2022-02-07T06:32:44.898Z"
   },
   {
    "duration": 39,
    "start_time": "2022-02-07T06:44:18.108Z"
   },
   {
    "duration": 44,
    "start_time": "2022-02-07T06:45:41.323Z"
   },
   {
    "duration": 40,
    "start_time": "2022-02-07T06:46:11.031Z"
   },
   {
    "duration": 41,
    "start_time": "2022-02-07T06:46:44.749Z"
   },
   {
    "duration": 43,
    "start_time": "2022-02-07T06:47:01.931Z"
   },
   {
    "duration": 38,
    "start_time": "2022-02-07T06:47:10.277Z"
   },
   {
    "duration": 4,
    "start_time": "2022-02-07T06:56:59.253Z"
   },
   {
    "duration": 222,
    "start_time": "2022-02-07T06:57:27.078Z"
   },
   {
    "duration": 229,
    "start_time": "2022-02-07T06:57:40.066Z"
   },
   {
    "duration": 212,
    "start_time": "2022-02-07T06:58:02.887Z"
   },
   {
    "duration": 9,
    "start_time": "2022-02-07T06:58:38.623Z"
   },
   {
    "duration": 204,
    "start_time": "2022-02-07T06:59:28.442Z"
   },
   {
    "duration": 11,
    "start_time": "2022-02-07T06:59:34.578Z"
   },
   {
    "duration": 13,
    "start_time": "2022-02-07T06:59:41.988Z"
   },
   {
    "duration": 42,
    "start_time": "2022-02-07T07:00:55.785Z"
   },
   {
    "duration": 267,
    "start_time": "2022-02-07T07:01:26.492Z"
   },
   {
    "duration": 268,
    "start_time": "2022-02-07T07:02:49.908Z"
   },
   {
    "duration": 247,
    "start_time": "2022-02-07T07:05:38.980Z"
   },
   {
    "duration": 587,
    "start_time": "2022-02-07T07:06:15.860Z"
   },
   {
    "duration": 238,
    "start_time": "2022-02-07T07:06:23.914Z"
   },
   {
    "duration": 213,
    "start_time": "2022-02-07T07:06:49.461Z"
   },
   {
    "duration": 71,
    "start_time": "2022-02-07T07:07:48.525Z"
   },
   {
    "duration": 11,
    "start_time": "2022-02-07T07:10:26.469Z"
   },
   {
    "duration": 282,
    "start_time": "2022-02-07T07:12:41.508Z"
   },
   {
    "duration": 231,
    "start_time": "2022-02-07T07:14:55.482Z"
   },
   {
    "duration": 400,
    "start_time": "2022-02-07T07:15:37.164Z"
   },
   {
    "duration": 205,
    "start_time": "2022-02-07T07:20:00.361Z"
   },
   {
    "duration": 209,
    "start_time": "2022-02-07T07:23:20.903Z"
   },
   {
    "duration": 191,
    "start_time": "2022-02-07T07:23:34.973Z"
   },
   {
    "duration": 230,
    "start_time": "2022-02-07T07:24:24.430Z"
   },
   {
    "duration": 243,
    "start_time": "2022-02-07T07:25:22.725Z"
   },
   {
    "duration": 232,
    "start_time": "2022-02-07T07:32:48.415Z"
   },
   {
    "duration": 221,
    "start_time": "2022-02-07T07:34:12.879Z"
   },
   {
    "duration": 68,
    "start_time": "2022-02-07T07:34:57.310Z"
   },
   {
    "duration": 305,
    "start_time": "2022-02-07T07:35:37.830Z"
   },
   {
    "duration": 219,
    "start_time": "2022-02-07T07:36:02.621Z"
   },
   {
    "duration": 998,
    "start_time": "2022-02-13T08:58:55.524Z"
   },
   {
    "duration": 95,
    "start_time": "2022-02-13T08:58:56.525Z"
   },
   {
    "duration": 866,
    "start_time": "2022-02-13T08:58:56.623Z"
   },
   {
    "duration": 611,
    "start_time": "2022-02-13T08:58:57.492Z"
   },
   {
    "duration": 552,
    "start_time": "2022-02-13T08:58:58.105Z"
   },
   {
    "duration": 349,
    "start_time": "2022-02-13T08:58:58.660Z"
   },
   {
    "duration": 362,
    "start_time": "2022-02-13T08:58:59.012Z"
   },
   {
    "duration": 596,
    "start_time": "2022-02-13T08:58:59.378Z"
   },
   {
    "duration": 611,
    "start_time": "2022-02-13T08:58:59.977Z"
   },
   {
    "duration": 372,
    "start_time": "2022-02-13T08:59:00.590Z"
   },
   {
    "duration": 671,
    "start_time": "2022-02-13T08:59:00.965Z"
   },
   {
    "duration": 505,
    "start_time": "2022-02-13T08:59:01.639Z"
   },
   {
    "duration": 328,
    "start_time": "2022-02-13T08:59:02.147Z"
   },
   {
    "duration": 337,
    "start_time": "2022-02-13T08:59:02.477Z"
   },
   {
    "duration": 345,
    "start_time": "2022-02-13T08:59:02.817Z"
   },
   {
    "duration": 334,
    "start_time": "2022-02-13T08:59:03.169Z"
   },
   {
    "duration": 65,
    "start_time": "2022-02-13T08:59:03.506Z"
   },
   {
    "duration": 347,
    "start_time": "2022-02-13T08:59:03.574Z"
   },
   {
    "duration": 15,
    "start_time": "2022-02-13T08:59:03.924Z"
   },
   {
    "duration": 364,
    "start_time": "2022-02-13T08:59:03.942Z"
   },
   {
    "duration": 645,
    "start_time": "2022-02-13T08:59:04.309Z"
   },
   {
    "duration": 300,
    "start_time": "2022-02-13T08:59:04.956Z"
   },
   {
    "duration": 369,
    "start_time": "2022-02-13T08:59:05.270Z"
   },
   {
    "duration": 424,
    "start_time": "2022-02-13T08:59:05.641Z"
   },
   {
    "duration": 328,
    "start_time": "2022-02-13T08:59:06.070Z"
   },
   {
    "duration": 348,
    "start_time": "2022-02-13T08:59:06.401Z"
   },
   {
    "duration": 8,
    "start_time": "2022-02-13T09:17:59.122Z"
   },
   {
    "duration": 7,
    "start_time": "2022-02-13T09:18:18.909Z"
   },
   {
    "duration": 7,
    "start_time": "2022-02-13T09:19:51.073Z"
   },
   {
    "duration": 949,
    "start_time": "2022-02-13T09:29:54.220Z"
   },
   {
    "duration": 79,
    "start_time": "2022-02-13T09:29:55.172Z"
   },
   {
    "duration": 982,
    "start_time": "2022-02-13T09:29:55.270Z"
   },
   {
    "duration": 596,
    "start_time": "2022-02-13T09:29:56.255Z"
   },
   {
    "duration": 570,
    "start_time": "2022-02-13T09:29:56.854Z"
   },
   {
    "duration": 357,
    "start_time": "2022-02-13T09:29:57.427Z"
   },
   {
    "duration": 378,
    "start_time": "2022-02-13T09:29:57.787Z"
   },
   {
    "duration": 602,
    "start_time": "2022-02-13T09:29:58.170Z"
   },
   {
    "duration": 614,
    "start_time": "2022-02-13T09:29:58.775Z"
   },
   {
    "duration": 384,
    "start_time": "2022-02-13T09:29:59.391Z"
   },
   {
    "duration": 7,
    "start_time": "2022-02-13T09:29:59.777Z"
   },
   {
    "duration": 671,
    "start_time": "2022-02-13T09:29:59.787Z"
   },
   {
    "duration": 473,
    "start_time": "2022-02-13T09:30:00.461Z"
   },
   {
    "duration": 325,
    "start_time": "2022-02-13T09:30:00.936Z"
   },
   {
    "duration": 344,
    "start_time": "2022-02-13T09:30:01.268Z"
   },
   {
    "duration": 361,
    "start_time": "2022-02-13T09:30:01.615Z"
   },
   {
    "duration": 361,
    "start_time": "2022-02-13T09:30:01.979Z"
   },
   {
    "duration": 55,
    "start_time": "2022-02-13T09:30:02.343Z"
   },
   {
    "duration": 350,
    "start_time": "2022-02-13T09:30:02.401Z"
   },
   {
    "duration": 19,
    "start_time": "2022-02-13T09:30:02.754Z"
   },
   {
    "duration": 357,
    "start_time": "2022-02-13T09:30:02.775Z"
   },
   {
    "duration": 657,
    "start_time": "2022-02-13T09:30:03.135Z"
   },
   {
    "duration": 317,
    "start_time": "2022-02-13T09:30:03.797Z"
   },
   {
    "duration": 383,
    "start_time": "2022-02-13T09:30:04.117Z"
   },
   {
    "duration": 494,
    "start_time": "2022-02-13T09:30:04.503Z"
   },
   {
    "duration": 345,
    "start_time": "2022-02-13T09:30:05.000Z"
   },
   {
    "duration": 347,
    "start_time": "2022-02-13T09:30:05.348Z"
   },
   {
    "duration": 1040,
    "start_time": "2022-02-13T09:30:23.900Z"
   },
   {
    "duration": 97,
    "start_time": "2022-02-13T09:30:24.944Z"
   },
   {
    "duration": 842,
    "start_time": "2022-02-13T09:30:25.044Z"
   },
   {
    "duration": 653,
    "start_time": "2022-02-13T09:30:25.888Z"
   },
   {
    "duration": 564,
    "start_time": "2022-02-13T09:30:26.543Z"
   },
   {
    "duration": 352,
    "start_time": "2022-02-13T09:30:27.109Z"
   },
   {
    "duration": 371,
    "start_time": "2022-02-13T09:30:27.469Z"
   },
   {
    "duration": 573,
    "start_time": "2022-02-13T09:30:27.844Z"
   },
   {
    "duration": 600,
    "start_time": "2022-02-13T09:30:28.421Z"
   },
   {
    "duration": 483,
    "start_time": "2022-02-13T09:30:29.024Z"
   },
   {
    "duration": 7,
    "start_time": "2022-02-13T09:30:29.510Z"
   },
   {
    "duration": 674,
    "start_time": "2022-02-13T09:30:29.519Z"
   },
   {
    "duration": 476,
    "start_time": "2022-02-13T09:30:30.196Z"
   },
   {
    "duration": 304,
    "start_time": "2022-02-13T09:30:30.674Z"
   },
   {
    "duration": 359,
    "start_time": "2022-02-13T09:30:30.980Z"
   },
   {
    "duration": 362,
    "start_time": "2022-02-13T09:30:31.341Z"
   },
   {
    "duration": 350,
    "start_time": "2022-02-13T09:30:31.705Z"
   },
   {
    "duration": 52,
    "start_time": "2022-02-13T09:30:32.057Z"
   },
   {
    "duration": 353,
    "start_time": "2022-02-13T09:30:32.111Z"
   },
   {
    "duration": 13,
    "start_time": "2022-02-13T09:30:32.469Z"
   },
   {
    "duration": 357,
    "start_time": "2022-02-13T09:30:32.485Z"
   },
   {
    "duration": 649,
    "start_time": "2022-02-13T09:30:32.845Z"
   },
   {
    "duration": 312,
    "start_time": "2022-02-13T09:30:33.500Z"
   },
   {
    "duration": 364,
    "start_time": "2022-02-13T09:30:33.815Z"
   },
   {
    "duration": 407,
    "start_time": "2022-02-13T09:30:34.181Z"
   },
   {
    "duration": 335,
    "start_time": "2022-02-13T09:30:34.590Z"
   },
   {
    "duration": 354,
    "start_time": "2022-02-13T09:30:34.928Z"
   },
   {
    "duration": 365,
    "start_time": "2022-02-13T14:31:58.049Z"
   },
   {
    "duration": 973,
    "start_time": "2022-02-13T14:32:03.570Z"
   },
   {
    "duration": 87,
    "start_time": "2022-02-13T14:32:04.546Z"
   },
   {
    "duration": 846,
    "start_time": "2022-02-13T14:32:04.637Z"
   },
   {
    "duration": 592,
    "start_time": "2022-02-13T14:32:05.487Z"
   },
   {
    "duration": 525,
    "start_time": "2022-02-13T14:32:06.082Z"
   },
   {
    "duration": 346,
    "start_time": "2022-02-13T14:32:06.609Z"
   },
   {
    "duration": 351,
    "start_time": "2022-02-13T14:32:06.959Z"
   },
   {
    "duration": 549,
    "start_time": "2022-02-13T14:32:07.314Z"
   },
   {
    "duration": 596,
    "start_time": "2022-02-13T14:32:07.867Z"
   },
   {
    "duration": 342,
    "start_time": "2022-02-13T14:32:08.466Z"
   },
   {
    "duration": 8,
    "start_time": "2022-02-13T14:32:08.810Z"
   },
   {
    "duration": 626,
    "start_time": "2022-02-13T14:32:08.821Z"
   },
   {
    "duration": 458,
    "start_time": "2022-02-13T14:32:09.450Z"
   },
   {
    "duration": 300,
    "start_time": "2022-02-13T14:32:09.910Z"
   },
   {
    "duration": 321,
    "start_time": "2022-02-13T14:32:10.212Z"
   },
   {
    "duration": 336,
    "start_time": "2022-02-13T14:32:10.536Z"
   },
   {
    "duration": 358,
    "start_time": "2022-02-13T14:32:10.875Z"
   },
   {
    "duration": 54,
    "start_time": "2022-02-13T14:32:11.236Z"
   },
   {
    "duration": 335,
    "start_time": "2022-02-13T14:32:11.293Z"
   },
   {
    "duration": 30,
    "start_time": "2022-02-13T14:32:11.630Z"
   },
   {
    "duration": 343,
    "start_time": "2022-02-13T14:32:11.663Z"
   },
   {
    "duration": 602,
    "start_time": "2022-02-13T14:32:12.009Z"
   },
   {
    "duration": 343,
    "start_time": "2022-02-13T14:32:12.616Z"
   },
   {
    "duration": 534,
    "start_time": "2022-02-13T14:32:12.963Z"
   },
   {
    "duration": 382,
    "start_time": "2022-02-13T14:32:13.499Z"
   },
   {
    "duration": 325,
    "start_time": "2022-02-13T14:32:13.884Z"
   },
   {
    "duration": 333,
    "start_time": "2022-02-13T14:32:14.212Z"
   },
   {
    "duration": 1380,
    "start_time": "2022-02-14T14:44:04.463Z"
   },
   {
    "duration": 111,
    "start_time": "2022-02-14T14:44:05.850Z"
   },
   {
    "duration": 848,
    "start_time": "2022-02-14T14:44:05.966Z"
   },
   {
    "duration": 615,
    "start_time": "2022-02-14T14:44:06.817Z"
   },
   {
    "duration": 569,
    "start_time": "2022-02-14T14:44:07.435Z"
   },
   {
    "duration": 542,
    "start_time": "2022-02-14T14:44:08.007Z"
   },
   {
    "duration": 380,
    "start_time": "2022-02-14T14:44:08.551Z"
   },
   {
    "duration": 934,
    "start_time": "2022-02-14T14:44:08.937Z"
   },
   {
    "duration": 625,
    "start_time": "2022-02-14T14:44:09.876Z"
   },
   {
    "duration": 365,
    "start_time": "2022-02-14T14:44:10.504Z"
   },
   {
    "duration": 9,
    "start_time": "2022-02-14T14:44:10.873Z"
   },
   {
    "duration": 688,
    "start_time": "2022-02-14T14:44:10.885Z"
   },
   {
    "duration": 493,
    "start_time": "2022-02-14T14:44:11.575Z"
   },
   {
    "duration": 320,
    "start_time": "2022-02-14T14:44:12.071Z"
   },
   {
    "duration": 338,
    "start_time": "2022-02-14T14:44:12.393Z"
   },
   {
    "duration": 354,
    "start_time": "2022-02-14T14:44:12.733Z"
   },
   {
    "duration": 359,
    "start_time": "2022-02-14T14:44:13.089Z"
   },
   {
    "duration": 42,
    "start_time": "2022-02-14T14:44:13.451Z"
   },
   {
    "duration": 365,
    "start_time": "2022-02-14T14:44:13.495Z"
   },
   {
    "duration": 13,
    "start_time": "2022-02-14T14:44:13.862Z"
   },
   {
    "duration": 365,
    "start_time": "2022-02-14T14:44:13.878Z"
   },
   {
    "duration": 647,
    "start_time": "2022-02-14T14:44:14.249Z"
   },
   {
    "duration": 308,
    "start_time": "2022-02-14T14:44:14.901Z"
   },
   {
    "duration": 377,
    "start_time": "2022-02-14T14:44:15.212Z"
   },
   {
    "duration": 422,
    "start_time": "2022-02-14T14:44:15.592Z"
   },
   {
    "duration": 339,
    "start_time": "2022-02-14T14:44:16.017Z"
   },
   {
    "duration": 355,
    "start_time": "2022-02-14T14:44:16.359Z"
   },
   {
    "duration": 401,
    "start_time": "2022-02-14T14:47:13.766Z"
   },
   {
    "duration": 37,
    "start_time": "2022-02-14T14:47:22.960Z"
   },
   {
    "duration": 67,
    "start_time": "2022-02-14T14:47:46.071Z"
   },
   {
    "duration": 104,
    "start_time": "2022-02-14T14:53:31.456Z"
   },
   {
    "duration": 86,
    "start_time": "2022-02-14T14:54:15.981Z"
   },
   {
    "duration": 1040,
    "start_time": "2022-02-14T14:54:30.763Z"
   },
   {
    "duration": 131,
    "start_time": "2022-02-14T14:54:31.806Z"
   },
   {
    "duration": 1016,
    "start_time": "2022-02-14T14:54:31.941Z"
   },
   {
    "duration": 613,
    "start_time": "2022-02-14T14:54:32.960Z"
   },
   {
    "duration": 618,
    "start_time": "2022-02-14T14:54:33.575Z"
   },
   {
    "duration": 356,
    "start_time": "2022-02-14T14:54:34.196Z"
   },
   {
    "duration": 403,
    "start_time": "2022-02-14T14:54:34.555Z"
   },
   {
    "duration": 596,
    "start_time": "2022-02-14T14:54:34.962Z"
   },
   {
    "duration": 659,
    "start_time": "2022-02-14T14:54:35.562Z"
   },
   {
    "duration": 395,
    "start_time": "2022-02-14T14:54:36.224Z"
   },
   {
    "duration": 8,
    "start_time": "2022-02-14T14:54:36.621Z"
   },
   {
    "duration": 687,
    "start_time": "2022-02-14T14:54:36.631Z"
   },
   {
    "duration": 552,
    "start_time": "2022-02-14T14:54:37.321Z"
   },
   {
    "duration": 356,
    "start_time": "2022-02-14T14:54:37.875Z"
   },
   {
    "duration": 336,
    "start_time": "2022-02-14T14:54:38.234Z"
   },
   {
    "duration": 379,
    "start_time": "2022-02-14T14:54:38.573Z"
   },
   {
    "duration": 363,
    "start_time": "2022-02-14T14:54:38.955Z"
   },
   {
    "duration": 59,
    "start_time": "2022-02-14T14:54:39.320Z"
   },
   {
    "duration": 383,
    "start_time": "2022-02-14T14:54:39.382Z"
   },
   {
    "duration": 12,
    "start_time": "2022-02-14T14:54:39.769Z"
   },
   {
    "duration": 354,
    "start_time": "2022-02-14T14:54:39.784Z"
   },
   {
    "duration": 644,
    "start_time": "2022-02-14T14:54:40.148Z"
   },
   {
    "duration": 303,
    "start_time": "2022-02-14T14:54:40.798Z"
   },
   {
    "duration": 358,
    "start_time": "2022-02-14T14:54:41.104Z"
   },
   {
    "duration": 531,
    "start_time": "2022-02-14T14:54:41.465Z"
   },
   {
    "duration": 375,
    "start_time": "2022-02-14T14:54:41.999Z"
   },
   {
    "duration": 391,
    "start_time": "2022-02-14T14:54:42.376Z"
   },
   {
    "duration": 1073,
    "start_time": "2022-02-14T14:56:01.249Z"
   },
   {
    "duration": 141,
    "start_time": "2022-02-14T14:56:02.325Z"
   },
   {
    "duration": 891,
    "start_time": "2022-02-14T14:56:02.469Z"
   },
   {
    "duration": 630,
    "start_time": "2022-02-14T14:56:03.363Z"
   },
   {
    "duration": 577,
    "start_time": "2022-02-14T14:56:03.996Z"
   },
   {
    "duration": 397,
    "start_time": "2022-02-14T14:56:04.576Z"
   },
   {
    "duration": 399,
    "start_time": "2022-02-14T14:56:04.976Z"
   },
   {
    "duration": 635,
    "start_time": "2022-02-14T14:56:05.379Z"
   },
   {
    "duration": 654,
    "start_time": "2022-02-14T14:56:06.018Z"
   },
   {
    "duration": 376,
    "start_time": "2022-02-14T14:56:06.675Z"
   },
   {
    "duration": 9,
    "start_time": "2022-02-14T14:56:07.054Z"
   },
   {
    "duration": 660,
    "start_time": "2022-02-14T14:56:07.066Z"
   },
   {
    "duration": 485,
    "start_time": "2022-02-14T14:56:07.729Z"
   },
   {
    "duration": 308,
    "start_time": "2022-02-14T14:56:08.217Z"
   },
   {
    "duration": 327,
    "start_time": "2022-02-14T14:56:08.528Z"
   },
   {
    "duration": 359,
    "start_time": "2022-02-14T14:56:08.858Z"
   },
   {
    "duration": 346,
    "start_time": "2022-02-14T14:56:09.220Z"
   },
   {
    "duration": 41,
    "start_time": "2022-02-14T14:56:09.569Z"
   },
   {
    "duration": 384,
    "start_time": "2022-02-14T14:56:09.612Z"
   },
   {
    "duration": 18,
    "start_time": "2022-02-14T14:56:09.999Z"
   },
   {
    "duration": 362,
    "start_time": "2022-02-14T14:56:10.020Z"
   },
   {
    "duration": 727,
    "start_time": "2022-02-14T14:56:10.385Z"
   },
   {
    "duration": 313,
    "start_time": "2022-02-14T14:56:11.118Z"
   },
   {
    "duration": 424,
    "start_time": "2022-02-14T14:56:11.433Z"
   },
   {
    "duration": 426,
    "start_time": "2022-02-14T14:56:11.859Z"
   },
   {
    "duration": 361,
    "start_time": "2022-02-14T14:56:12.288Z"
   },
   {
    "duration": 438,
    "start_time": "2022-02-14T14:56:12.651Z"
   },
   {
    "duration": 560,
    "start_time": "2022-02-14T15:00:57.682Z"
   },
   {
    "duration": 593,
    "start_time": "2022-02-14T15:01:09.484Z"
   },
   {
    "duration": 636,
    "start_time": "2022-02-14T15:05:31.028Z"
   },
   {
    "duration": 357,
    "start_time": "2022-02-14T15:05:57.300Z"
   },
   {
    "duration": 437,
    "start_time": "2022-02-14T15:06:41.090Z"
   },
   {
    "duration": 446,
    "start_time": "2022-02-14T15:07:00.768Z"
   },
   {
    "duration": 690,
    "start_time": "2022-02-14T15:07:13.141Z"
   },
   {
    "duration": 1026,
    "start_time": "2022-02-14T15:07:20.183Z"
   },
   {
    "duration": 113,
    "start_time": "2022-02-14T15:07:21.213Z"
   },
   {
    "duration": 855,
    "start_time": "2022-02-14T15:07:21.330Z"
   },
   {
    "duration": 731,
    "start_time": "2022-02-14T15:07:22.188Z"
   },
   {
    "duration": 581,
    "start_time": "2022-02-14T15:07:22.923Z"
   },
   {
    "duration": 546,
    "start_time": "2022-02-14T15:07:23.507Z"
   },
   {
    "duration": 407,
    "start_time": "2022-02-14T15:07:24.056Z"
   },
   {
    "duration": 573,
    "start_time": "2022-02-14T15:07:24.468Z"
   },
   {
    "duration": 666,
    "start_time": "2022-02-14T15:07:25.049Z"
   },
   {
    "duration": 362,
    "start_time": "2022-02-14T15:07:25.717Z"
   },
   {
    "duration": 7,
    "start_time": "2022-02-14T15:07:26.082Z"
   },
   {
    "duration": 1941,
    "start_time": "2022-02-14T15:07:26.092Z"
   },
   {
    "duration": 276,
    "start_time": "2022-02-14T15:07:27.761Z"
   },
   {
    "duration": 273,
    "start_time": "2022-02-14T15:07:27.774Z"
   },
   {
    "duration": 268,
    "start_time": "2022-02-14T15:07:27.782Z"
   },
   {
    "duration": 263,
    "start_time": "2022-02-14T15:07:27.789Z"
   },
   {
    "duration": 261,
    "start_time": "2022-02-14T15:07:27.793Z"
   },
   {
    "duration": 260,
    "start_time": "2022-02-14T15:07:27.797Z"
   },
   {
    "duration": 258,
    "start_time": "2022-02-14T15:07:27.801Z"
   },
   {
    "duration": 257,
    "start_time": "2022-02-14T15:07:27.805Z"
   },
   {
    "duration": 255,
    "start_time": "2022-02-14T15:07:27.809Z"
   },
   {
    "duration": 254,
    "start_time": "2022-02-14T15:07:27.812Z"
   },
   {
    "duration": 253,
    "start_time": "2022-02-14T15:07:27.816Z"
   },
   {
    "duration": 252,
    "start_time": "2022-02-14T15:07:27.819Z"
   },
   {
    "duration": 251,
    "start_time": "2022-02-14T15:07:27.823Z"
   },
   {
    "duration": 250,
    "start_time": "2022-02-14T15:07:27.826Z"
   },
   {
    "duration": 248,
    "start_time": "2022-02-14T15:07:27.830Z"
   },
   {
    "duration": 758,
    "start_time": "2022-02-14T15:08:37.311Z"
   },
   {
    "duration": 1226,
    "start_time": "2022-02-14T15:08:46.599Z"
   },
   {
    "duration": 104,
    "start_time": "2022-02-14T15:08:47.828Z"
   },
   {
    "duration": 834,
    "start_time": "2022-02-14T15:08:47.949Z"
   },
   {
    "duration": 847,
    "start_time": "2022-02-14T15:08:48.786Z"
   },
   {
    "duration": 541,
    "start_time": "2022-02-14T15:08:49.635Z"
   },
   {
    "duration": 525,
    "start_time": "2022-02-14T15:08:50.179Z"
   },
   {
    "duration": 373,
    "start_time": "2022-02-14T15:08:50.706Z"
   },
   {
    "duration": 624,
    "start_time": "2022-02-14T15:08:51.085Z"
   },
   {
    "duration": 621,
    "start_time": "2022-02-14T15:08:51.713Z"
   },
   {
    "duration": 1253,
    "start_time": "2022-02-14T15:08:52.337Z"
   },
   {
    "duration": 324,
    "start_time": "2022-02-14T15:08:53.269Z"
   },
   {
    "duration": 321,
    "start_time": "2022-02-14T15:08:53.273Z"
   },
   {
    "duration": 320,
    "start_time": "2022-02-14T15:08:53.276Z"
   },
   {
    "duration": 318,
    "start_time": "2022-02-14T15:08:53.280Z"
   },
   {
    "duration": 315,
    "start_time": "2022-02-14T15:08:53.285Z"
   },
   {
    "duration": 313,
    "start_time": "2022-02-14T15:08:53.289Z"
   },
   {
    "duration": 312,
    "start_time": "2022-02-14T15:08:53.292Z"
   },
   {
    "duration": 310,
    "start_time": "2022-02-14T15:08:53.296Z"
   },
   {
    "duration": 308,
    "start_time": "2022-02-14T15:08:53.300Z"
   },
   {
    "duration": 295,
    "start_time": "2022-02-14T15:08:53.315Z"
   },
   {
    "duration": 292,
    "start_time": "2022-02-14T15:08:53.319Z"
   },
   {
    "duration": 290,
    "start_time": "2022-02-14T15:08:53.323Z"
   },
   {
    "duration": 288,
    "start_time": "2022-02-14T15:08:53.326Z"
   },
   {
    "duration": 319,
    "start_time": "2022-02-14T15:08:53.329Z"
   },
   {
    "duration": 316,
    "start_time": "2022-02-14T15:08:53.334Z"
   },
   {
    "duration": 314,
    "start_time": "2022-02-14T15:08:53.337Z"
   },
   {
    "duration": 311,
    "start_time": "2022-02-14T15:08:53.341Z"
   },
   {
    "duration": 846,
    "start_time": "2022-02-14T15:09:08.198Z"
   },
   {
    "duration": 702,
    "start_time": "2022-02-14T15:13:33.565Z"
   },
   {
    "duration": 1455,
    "start_time": "2022-02-14T15:13:39.108Z"
   },
   {
    "duration": 143,
    "start_time": "2022-02-14T15:13:40.566Z"
   },
   {
    "duration": 851,
    "start_time": "2022-02-14T15:13:40.712Z"
   },
   {
    "duration": 724,
    "start_time": "2022-02-14T15:13:41.566Z"
   },
   {
    "duration": 720,
    "start_time": "2022-02-14T15:13:42.293Z"
   },
   {
    "duration": 496,
    "start_time": "2022-02-14T15:13:43.016Z"
   },
   {
    "duration": 375,
    "start_time": "2022-02-14T15:13:43.514Z"
   },
   {
    "duration": 573,
    "start_time": "2022-02-14T15:13:43.893Z"
   },
   {
    "duration": 691,
    "start_time": "2022-02-14T15:13:44.470Z"
   },
   {
    "duration": 356,
    "start_time": "2022-02-14T15:13:45.163Z"
   },
   {
    "duration": 7,
    "start_time": "2022-02-14T15:13:45.522Z"
   },
   {
    "duration": 1593,
    "start_time": "2022-02-14T15:13:45.531Z"
   },
   {
    "duration": 312,
    "start_time": "2022-02-14T15:13:46.815Z"
   },
   {
    "duration": 304,
    "start_time": "2022-02-14T15:13:46.825Z"
   },
   {
    "duration": 297,
    "start_time": "2022-02-14T15:13:46.833Z"
   },
   {
    "duration": 294,
    "start_time": "2022-02-14T15:13:46.838Z"
   },
   {
    "duration": 292,
    "start_time": "2022-02-14T15:13:46.842Z"
   },
   {
    "duration": 287,
    "start_time": "2022-02-14T15:13:46.848Z"
   },
   {
    "duration": 295,
    "start_time": "2022-02-14T15:13:46.853Z"
   },
   {
    "duration": 293,
    "start_time": "2022-02-14T15:13:46.857Z"
   },
   {
    "duration": 292,
    "start_time": "2022-02-14T15:13:46.860Z"
   },
   {
    "duration": 289,
    "start_time": "2022-02-14T15:13:46.864Z"
   },
   {
    "duration": 288,
    "start_time": "2022-02-14T15:13:46.867Z"
   },
   {
    "duration": 273,
    "start_time": "2022-02-14T15:13:46.883Z"
   },
   {
    "duration": 272,
    "start_time": "2022-02-14T15:13:46.886Z"
   },
   {
    "duration": 270,
    "start_time": "2022-02-14T15:13:46.889Z"
   },
   {
    "duration": 269,
    "start_time": "2022-02-14T15:13:46.892Z"
   },
   {
    "duration": 675,
    "start_time": "2022-02-14T15:14:13.799Z"
   },
   {
    "duration": 1192,
    "start_time": "2022-02-14T15:14:39.119Z"
   },
   {
    "duration": 1526,
    "start_time": "2022-02-14T15:14:51.328Z"
   },
   {
    "duration": 1654,
    "start_time": "2022-02-14T15:15:03.590Z"
   },
   {
    "duration": 1224,
    "start_time": "2022-02-14T15:15:15.028Z"
   },
   {
    "duration": 521,
    "start_time": "2022-02-14T15:16:42.207Z"
   },
   {
    "duration": 1251,
    "start_time": "2022-02-14T15:17:29.153Z"
   },
   {
    "duration": 1793,
    "start_time": "2022-02-14T15:17:53.920Z"
   },
   {
    "duration": 1755,
    "start_time": "2022-02-14T15:18:13.519Z"
   },
   {
    "duration": 360,
    "start_time": "2022-02-14T15:19:44.345Z"
   },
   {
    "duration": 348,
    "start_time": "2022-02-14T15:19:59.803Z"
   },
   {
    "duration": 1110,
    "start_time": "2022-02-14T15:20:06.230Z"
   },
   {
    "duration": 110,
    "start_time": "2022-02-14T15:20:07.348Z"
   },
   {
    "duration": 840,
    "start_time": "2022-02-14T15:20:07.461Z"
   },
   {
    "duration": 1303,
    "start_time": "2022-02-14T15:20:08.304Z"
   },
   {
    "duration": 1148,
    "start_time": "2022-02-14T15:20:09.611Z"
   },
   {
    "duration": 349,
    "start_time": "2022-02-14T15:20:10.762Z"
   },
   {
    "duration": 381,
    "start_time": "2022-02-14T15:20:11.114Z"
   },
   {
    "duration": 593,
    "start_time": "2022-02-14T15:20:11.501Z"
   },
   {
    "duration": 725,
    "start_time": "2022-02-14T15:20:12.097Z"
   },
   {
    "duration": 349,
    "start_time": "2022-02-14T15:20:12.824Z"
   },
   {
    "duration": 6,
    "start_time": "2022-02-14T15:20:13.175Z"
   },
   {
    "duration": 646,
    "start_time": "2022-02-14T15:20:13.184Z"
   },
   {
    "duration": 376,
    "start_time": "2022-02-14T15:20:13.832Z"
   },
   {
    "duration": 308,
    "start_time": "2022-02-14T15:20:14.211Z"
   },
   {
    "duration": 332,
    "start_time": "2022-02-14T15:20:14.522Z"
   },
   {
    "duration": 363,
    "start_time": "2022-02-14T15:20:14.857Z"
   },
   {
    "duration": 357,
    "start_time": "2022-02-14T15:20:15.223Z"
   },
   {
    "duration": 46,
    "start_time": "2022-02-14T15:20:15.583Z"
   },
   {
    "duration": 352,
    "start_time": "2022-02-14T15:20:15.631Z"
   },
   {
    "duration": 13,
    "start_time": "2022-02-14T15:20:15.986Z"
   },
   {
    "duration": 349,
    "start_time": "2022-02-14T15:20:16.002Z"
   },
   {
    "duration": 679,
    "start_time": "2022-02-14T15:20:16.354Z"
   },
   {
    "duration": 417,
    "start_time": "2022-02-14T15:20:17.047Z"
   },
   {
    "duration": 343,
    "start_time": "2022-02-14T15:20:17.466Z"
   },
   {
    "duration": 348,
    "start_time": "2022-02-14T15:20:17.812Z"
   },
   {
    "duration": 332,
    "start_time": "2022-02-14T15:20:18.163Z"
   },
   {
    "duration": 353,
    "start_time": "2022-02-14T15:20:18.498Z"
   },
   {
    "duration": 419,
    "start_time": "2022-02-14T15:20:38.673Z"
   },
   {
    "duration": 799,
    "start_time": "2022-02-14T15:21:27.484Z"
   },
   {
    "duration": 877,
    "start_time": "2022-02-14T15:22:13.413Z"
   },
   {
    "duration": 741,
    "start_time": "2022-02-14T15:22:48.898Z"
   },
   {
    "duration": 7,
    "start_time": "2022-02-14T15:28:38.117Z"
   },
   {
    "duration": 349,
    "start_time": "2022-02-14T15:28:59.649Z"
   },
   {
    "duration": 341,
    "start_time": "2022-02-14T15:29:31.190Z"
   },
   {
    "duration": 360,
    "start_time": "2022-02-14T15:32:24.845Z"
   },
   {
    "duration": 337,
    "start_time": "2022-02-14T15:32:40.000Z"
   },
   {
    "duration": 299,
    "start_time": "2022-02-14T15:32:55.388Z"
   },
   {
    "duration": 281,
    "start_time": "2022-02-14T15:33:19.099Z"
   },
   {
    "duration": 969,
    "start_time": "2022-02-14T15:35:19.821Z"
   },
   {
    "duration": 1197,
    "start_time": "2022-02-14T15:35:46.674Z"
   },
   {
    "duration": 12,
    "start_time": "2022-02-14T15:42:44.013Z"
   },
   {
    "duration": 455,
    "start_time": "2022-02-14T15:42:47.577Z"
   },
   {
    "duration": 752,
    "start_time": "2022-02-15T13:37:18.469Z"
   },
   {
    "duration": 67,
    "start_time": "2022-02-15T13:37:19.224Z"
   },
   {
    "duration": 460,
    "start_time": "2022-02-15T13:37:19.293Z"
   },
   {
    "duration": 682,
    "start_time": "2022-02-15T13:37:19.755Z"
   },
   {
    "duration": 644,
    "start_time": "2022-02-15T13:37:20.439Z"
   },
   {
    "duration": 395,
    "start_time": "2022-02-15T13:37:21.085Z"
   },
   {
    "duration": 197,
    "start_time": "2022-02-15T13:37:21.482Z"
   },
   {
    "duration": 322,
    "start_time": "2022-02-15T13:37:21.681Z"
   },
   {
    "duration": 386,
    "start_time": "2022-02-15T13:37:22.005Z"
   },
   {
    "duration": 670,
    "start_time": "2022-02-15T13:37:22.392Z"
   },
   {
    "duration": 5,
    "start_time": "2022-02-15T13:37:23.063Z"
   },
   {
    "duration": 371,
    "start_time": "2022-02-15T13:37:23.070Z"
   },
   {
    "duration": 251,
    "start_time": "2022-02-15T13:37:23.446Z"
   },
   {
    "duration": 172,
    "start_time": "2022-02-15T13:37:23.699Z"
   },
   {
    "duration": 175,
    "start_time": "2022-02-15T13:37:23.873Z"
   },
   {
    "duration": 184,
    "start_time": "2022-02-15T13:37:24.050Z"
   },
   {
    "duration": 193,
    "start_time": "2022-02-15T13:37:24.236Z"
   },
   {
    "duration": 40,
    "start_time": "2022-02-15T13:37:24.431Z"
   },
   {
    "duration": 197,
    "start_time": "2022-02-15T13:37:24.473Z"
   },
   {
    "duration": 8,
    "start_time": "2022-02-15T13:37:24.672Z"
   },
   {
    "duration": 265,
    "start_time": "2022-02-15T13:37:24.681Z"
   },
   {
    "duration": 398,
    "start_time": "2022-02-15T13:37:24.948Z"
   },
   {
    "duration": 261,
    "start_time": "2022-02-15T13:37:25.349Z"
   },
   {
    "duration": 195,
    "start_time": "2022-02-15T13:37:25.612Z"
   },
   {
    "duration": 175,
    "start_time": "2022-02-15T13:37:25.809Z"
   },
   {
    "duration": 184,
    "start_time": "2022-02-15T13:37:25.986Z"
   },
   {
    "duration": 175,
    "start_time": "2022-02-15T13:37:26.172Z"
   },
   {
    "duration": 318,
    "start_time": "2022-02-16T04:03:51.945Z"
   },
   {
    "duration": 731,
    "start_time": "2022-02-16T04:04:05.924Z"
   },
   {
    "duration": 74,
    "start_time": "2022-02-16T04:04:06.657Z"
   },
   {
    "duration": 527,
    "start_time": "2022-02-16T04:04:06.733Z"
   },
   {
    "duration": 862,
    "start_time": "2022-02-16T04:04:07.262Z"
   },
   {
    "duration": 785,
    "start_time": "2022-02-16T04:04:08.126Z"
   },
   {
    "duration": 518,
    "start_time": "2022-02-16T04:04:08.912Z"
   },
   {
    "duration": 273,
    "start_time": "2022-02-16T04:04:09.432Z"
   },
   {
    "duration": 400,
    "start_time": "2022-02-16T04:04:09.707Z"
   },
   {
    "duration": 502,
    "start_time": "2022-02-16T04:04:10.109Z"
   },
   {
    "duration": 799,
    "start_time": "2022-02-16T04:04:10.613Z"
   },
   {
    "duration": 5,
    "start_time": "2022-02-16T04:04:11.414Z"
   },
   {
    "duration": 458,
    "start_time": "2022-02-16T04:04:11.421Z"
   },
   {
    "duration": 271,
    "start_time": "2022-02-16T04:04:11.882Z"
   },
   {
    "duration": 210,
    "start_time": "2022-02-16T04:04:12.154Z"
   },
   {
    "duration": 215,
    "start_time": "2022-02-16T04:04:12.365Z"
   },
   {
    "duration": 235,
    "start_time": "2022-02-16T04:04:12.582Z"
   },
   {
    "duration": 236,
    "start_time": "2022-02-16T04:04:12.819Z"
   },
   {
    "duration": 35,
    "start_time": "2022-02-16T04:04:13.057Z"
   },
   {
    "duration": 229,
    "start_time": "2022-02-16T04:04:13.093Z"
   },
   {
    "duration": 9,
    "start_time": "2022-02-16T04:04:13.323Z"
   },
   {
    "duration": 306,
    "start_time": "2022-02-16T04:04:13.333Z"
   },
   {
    "duration": 444,
    "start_time": "2022-02-16T04:04:13.641Z"
   },
   {
    "duration": 223,
    "start_time": "2022-02-16T04:04:14.088Z"
   },
   {
    "duration": 261,
    "start_time": "2022-02-16T04:04:14.313Z"
   },
   {
    "duration": 260,
    "start_time": "2022-02-16T04:04:14.575Z"
   },
   {
    "duration": 241,
    "start_time": "2022-02-16T04:04:14.837Z"
   },
   {
    "duration": 218,
    "start_time": "2022-02-16T04:04:15.080Z"
   },
   {
    "duration": 798,
    "start_time": "2022-02-16T04:04:58.094Z"
   },
   {
    "duration": 467,
    "start_time": "2022-02-16T04:05:05.387Z"
   },
   {
    "duration": 140,
    "start_time": "2022-02-16T04:05:13.568Z"
   },
   {
    "duration": 143,
    "start_time": "2022-02-16T04:05:21.858Z"
   },
   {
    "duration": 153,
    "start_time": "2022-02-16T04:05:42.042Z"
   },
   {
    "duration": 174,
    "start_time": "2022-02-16T04:06:03.297Z"
   },
   {
    "duration": 371,
    "start_time": "2022-02-16T04:23:58.278Z"
   },
   {
    "duration": 407,
    "start_time": "2022-02-16T04:24:17.713Z"
   },
   {
    "duration": 446,
    "start_time": "2022-02-16T04:24:34.581Z"
   },
   {
    "duration": 387,
    "start_time": "2022-02-16T04:25:26.066Z"
   },
   {
    "duration": 396,
    "start_time": "2022-02-16T04:25:51.325Z"
   },
   {
    "duration": 391,
    "start_time": "2022-02-16T04:25:57.682Z"
   },
   {
    "duration": 289,
    "start_time": "2022-02-16T04:31:42.296Z"
   },
   {
    "duration": 264,
    "start_time": "2022-02-16T04:34:35.038Z"
   },
   {
    "duration": 1029,
    "start_time": "2022-02-16T19:53:27.706Z"
   },
   {
    "duration": 115,
    "start_time": "2022-02-16T19:53:28.738Z"
   },
   {
    "duration": 861,
    "start_time": "2022-02-16T19:53:28.856Z"
   },
   {
    "duration": 275,
    "start_time": "2022-02-16T19:53:29.732Z"
   },
   {
    "duration": 1269,
    "start_time": "2022-02-16T19:53:30.010Z"
   },
   {
    "duration": 743,
    "start_time": "2022-02-16T19:53:31.282Z"
   },
   {
    "duration": 368,
    "start_time": "2022-02-16T19:53:32.032Z"
   },
   {
    "duration": 583,
    "start_time": "2022-02-16T19:53:32.404Z"
   },
   {
    "duration": 653,
    "start_time": "2022-02-16T19:53:32.990Z"
   },
   {
    "duration": 434,
    "start_time": "2022-02-16T19:53:33.646Z"
   },
   {
    "duration": 8,
    "start_time": "2022-02-16T19:53:34.083Z"
   },
   {
    "duration": 720,
    "start_time": "2022-02-16T19:53:34.093Z"
   },
   {
    "duration": 416,
    "start_time": "2022-02-16T19:53:34.816Z"
   },
   {
    "duration": 307,
    "start_time": "2022-02-16T19:53:35.235Z"
   },
   {
    "duration": 328,
    "start_time": "2022-02-16T19:53:35.544Z"
   },
   {
    "duration": 337,
    "start_time": "2022-02-16T19:53:35.875Z"
   },
   {
    "duration": 350,
    "start_time": "2022-02-16T19:53:36.214Z"
   },
   {
    "duration": 44,
    "start_time": "2022-02-16T19:53:36.567Z"
   },
   {
    "duration": 354,
    "start_time": "2022-02-16T19:53:36.614Z"
   },
   {
    "duration": 12,
    "start_time": "2022-02-16T19:53:36.971Z"
   },
   {
    "duration": 359,
    "start_time": "2022-02-16T19:53:36.986Z"
   },
   {
    "duration": 640,
    "start_time": "2022-02-16T19:53:37.349Z"
   },
   {
    "duration": 374,
    "start_time": "2022-02-16T19:53:37.994Z"
   },
   {
    "duration": 375,
    "start_time": "2022-02-16T19:53:38.370Z"
   },
   {
    "duration": 360,
    "start_time": "2022-02-16T19:53:38.748Z"
   },
   {
    "duration": 349,
    "start_time": "2022-02-16T19:53:39.111Z"
   },
   {
    "duration": 327,
    "start_time": "2022-02-16T19:53:39.462Z"
   },
   {
    "duration": 945,
    "start_time": "2022-02-16T19:53:47.887Z"
   },
   {
    "duration": 111,
    "start_time": "2022-02-16T19:53:48.835Z"
   },
   {
    "duration": 893,
    "start_time": "2022-02-16T19:53:48.950Z"
   },
   {
    "duration": 287,
    "start_time": "2022-02-16T19:53:49.845Z"
   },
   {
    "duration": 1240,
    "start_time": "2022-02-16T19:53:50.135Z"
   },
   {
    "duration": 736,
    "start_time": "2022-02-16T19:53:51.378Z"
   },
   {
    "duration": 377,
    "start_time": "2022-02-16T19:53:52.116Z"
   },
   {
    "duration": 582,
    "start_time": "2022-02-16T19:53:52.497Z"
   },
   {
    "duration": 636,
    "start_time": "2022-02-16T19:53:53.083Z"
   },
   {
    "duration": 439,
    "start_time": "2022-02-16T19:53:53.722Z"
   },
   {
    "duration": 7,
    "start_time": "2022-02-16T19:53:54.163Z"
   },
   {
    "duration": 737,
    "start_time": "2022-02-16T19:53:54.172Z"
   },
   {
    "duration": 413,
    "start_time": "2022-02-16T19:53:54.911Z"
   },
   {
    "duration": 305,
    "start_time": "2022-02-16T19:53:55.332Z"
   },
   {
    "duration": 341,
    "start_time": "2022-02-16T19:53:55.640Z"
   },
   {
    "duration": 367,
    "start_time": "2022-02-16T19:53:55.983Z"
   },
   {
    "duration": 348,
    "start_time": "2022-02-16T19:53:56.353Z"
   },
   {
    "duration": 60,
    "start_time": "2022-02-16T19:53:56.704Z"
   },
   {
    "duration": 341,
    "start_time": "2022-02-16T19:53:56.767Z"
   },
   {
    "duration": 25,
    "start_time": "2022-02-16T19:53:57.111Z"
   },
   {
    "duration": 350,
    "start_time": "2022-02-16T19:53:57.138Z"
   },
   {
    "duration": 635,
    "start_time": "2022-02-16T19:53:57.490Z"
   },
   {
    "duration": 372,
    "start_time": "2022-02-16T19:53:58.135Z"
   },
   {
    "duration": 364,
    "start_time": "2022-02-16T19:53:58.510Z"
   },
   {
    "duration": 349,
    "start_time": "2022-02-16T19:53:58.877Z"
   },
   {
    "duration": 345,
    "start_time": "2022-02-16T19:53:59.233Z"
   },
   {
    "duration": 339,
    "start_time": "2022-02-16T19:53:59.580Z"
   },
   {
    "duration": 693,
    "start_time": "2022-02-17T14:41:14.115Z"
   },
   {
    "duration": 86,
    "start_time": "2022-02-17T14:41:14.810Z"
   },
   {
    "duration": 512,
    "start_time": "2022-02-17T14:41:14.898Z"
   },
   {
    "duration": 166,
    "start_time": "2022-02-17T14:41:15.412Z"
   },
   {
    "duration": 742,
    "start_time": "2022-02-17T14:41:15.580Z"
   },
   {
    "duration": 444,
    "start_time": "2022-02-17T14:41:16.324Z"
   },
   {
    "duration": 231,
    "start_time": "2022-02-17T14:41:16.770Z"
   },
   {
    "duration": 345,
    "start_time": "2022-02-17T14:41:17.003Z"
   },
   {
    "duration": 355,
    "start_time": "2022-02-17T14:41:17.350Z"
   },
   {
    "duration": 264,
    "start_time": "2022-02-17T14:41:17.706Z"
   },
   {
    "duration": 5,
    "start_time": "2022-02-17T14:41:17.971Z"
   },
   {
    "duration": 467,
    "start_time": "2022-02-17T14:41:17.977Z"
   },
   {
    "duration": 255,
    "start_time": "2022-02-17T14:41:18.446Z"
   },
   {
    "duration": 192,
    "start_time": "2022-02-17T14:41:18.703Z"
   },
   {
    "duration": 209,
    "start_time": "2022-02-17T14:41:18.896Z"
   },
   {
    "duration": 212,
    "start_time": "2022-02-17T14:41:19.107Z"
   },
   {
    "duration": 219,
    "start_time": "2022-02-17T14:41:19.321Z"
   },
   {
    "duration": 35,
    "start_time": "2022-02-17T14:41:19.541Z"
   },
   {
    "duration": 217,
    "start_time": "2022-02-17T14:41:19.577Z"
   },
   {
    "duration": 9,
    "start_time": "2022-02-17T14:41:19.796Z"
   },
   {
    "duration": 219,
    "start_time": "2022-02-17T14:41:19.806Z"
   },
   {
    "duration": 402,
    "start_time": "2022-02-17T14:41:20.027Z"
   },
   {
    "duration": 264,
    "start_time": "2022-02-17T14:41:20.432Z"
   },
   {
    "duration": 230,
    "start_time": "2022-02-17T14:41:20.698Z"
   },
   {
    "duration": 207,
    "start_time": "2022-02-17T14:41:20.930Z"
   },
   {
    "duration": 243,
    "start_time": "2022-02-17T14:41:21.138Z"
   },
   {
    "duration": 205,
    "start_time": "2022-02-17T14:41:21.383Z"
   },
   {
    "duration": 224,
    "start_time": "2022-02-17T14:45:19.381Z"
   },
   {
    "duration": 699,
    "start_time": "2022-02-17T14:47:33.181Z"
   },
   {
    "duration": 37,
    "start_time": "2022-02-17T14:47:52.843Z"
   },
   {
    "duration": 36,
    "start_time": "2022-02-17T14:48:00.760Z"
   },
   {
    "duration": 235,
    "start_time": "2022-02-17T14:48:14.489Z"
   },
   {
    "duration": 37,
    "start_time": "2022-02-17T14:48:22.487Z"
   },
   {
    "duration": 912,
    "start_time": "2022-02-17T14:48:39.562Z"
   },
   {
    "duration": 737,
    "start_time": "2022-02-17T14:48:52.478Z"
   },
   {
    "duration": 713,
    "start_time": "2022-02-17T14:48:57.312Z"
   },
   {
    "duration": 90,
    "start_time": "2022-02-17T14:48:58.028Z"
   },
   {
    "duration": 519,
    "start_time": "2022-02-17T14:48:58.122Z"
   },
   {
    "duration": 187,
    "start_time": "2022-02-17T14:48:58.643Z"
   },
   {
    "duration": 807,
    "start_time": "2022-02-17T14:48:58.832Z"
   },
   {
    "duration": 528,
    "start_time": "2022-02-17T14:48:59.641Z"
   },
   {
    "duration": 271,
    "start_time": "2022-02-17T14:49:00.172Z"
   },
   {
    "duration": 379,
    "start_time": "2022-02-17T14:49:00.445Z"
   },
   {
    "duration": 415,
    "start_time": "2022-02-17T14:49:00.827Z"
   },
   {
    "duration": 303,
    "start_time": "2022-02-17T14:49:01.244Z"
   },
   {
    "duration": 12,
    "start_time": "2022-02-17T14:49:01.548Z"
   },
   {
    "duration": 543,
    "start_time": "2022-02-17T14:49:01.561Z"
   },
   {
    "duration": 272,
    "start_time": "2022-02-17T14:49:02.106Z"
   },
   {
    "duration": 199,
    "start_time": "2022-02-17T14:49:02.380Z"
   },
   {
    "duration": 214,
    "start_time": "2022-02-17T14:49:02.581Z"
   },
   {
    "duration": 222,
    "start_time": "2022-02-17T14:49:02.797Z"
   },
   {
    "duration": 224,
    "start_time": "2022-02-17T14:49:03.021Z"
   },
   {
    "duration": 36,
    "start_time": "2022-02-17T14:49:03.247Z"
   },
   {
    "duration": 223,
    "start_time": "2022-02-17T14:49:03.285Z"
   },
   {
    "duration": 10,
    "start_time": "2022-02-17T14:49:03.509Z"
   },
   {
    "duration": 227,
    "start_time": "2022-02-17T14:49:03.521Z"
   },
   {
    "duration": 412,
    "start_time": "2022-02-17T14:49:03.751Z"
   },
   {
    "duration": 272,
    "start_time": "2022-02-17T14:49:04.165Z"
   },
   {
    "duration": 234,
    "start_time": "2022-02-17T14:49:04.439Z"
   },
   {
    "duration": 230,
    "start_time": "2022-02-17T14:49:04.675Z"
   },
   {
    "duration": 227,
    "start_time": "2022-02-17T14:49:04.907Z"
   },
   {
    "duration": 210,
    "start_time": "2022-02-17T14:49:05.136Z"
   },
   {
    "duration": 730,
    "start_time": "2022-02-17T14:49:36.218Z"
   },
   {
    "duration": 783,
    "start_time": "2022-02-17T14:50:55.590Z"
   },
   {
    "duration": 820,
    "start_time": "2022-02-17T14:51:05.629Z"
   },
   {
    "duration": 752,
    "start_time": "2022-02-17T14:51:12.112Z"
   },
   {
    "duration": 723,
    "start_time": "2022-02-17T14:51:52.945Z"
   },
   {
    "duration": 215,
    "start_time": "2022-02-17T14:53:29.982Z"
   },
   {
    "duration": 158,
    "start_time": "2022-02-17T14:53:39.423Z"
   },
   {
    "duration": 482,
    "start_time": "2022-02-17T14:54:07.250Z"
   },
   {
    "duration": 862,
    "start_time": "2022-02-17T14:54:23.144Z"
   },
   {
    "duration": 687,
    "start_time": "2022-02-17T14:54:34.562Z"
   },
   {
    "duration": 396,
    "start_time": "2022-02-17T14:54:45.923Z"
   },
   {
    "duration": 42,
    "start_time": "2022-02-17T14:56:46.807Z"
   },
   {
    "duration": 274,
    "start_time": "2022-02-17T14:59:11.108Z"
   },
   {
    "duration": 398,
    "start_time": "2022-02-17T14:59:26.944Z"
   },
   {
    "duration": 235,
    "start_time": "2022-02-17T14:59:34.276Z"
   },
   {
    "duration": 367,
    "start_time": "2022-02-17T14:59:43.362Z"
   },
   {
    "duration": 276,
    "start_time": "2022-02-17T15:00:27.588Z"
   },
   {
    "duration": 664,
    "start_time": "2022-02-17T15:07:16.901Z"
   },
   {
    "duration": 271,
    "start_time": "2022-02-17T15:07:28.071Z"
   },
   {
    "duration": 677,
    "start_time": "2022-02-20T14:31:14.996Z"
   },
   {
    "duration": 59,
    "start_time": "2022-02-20T14:31:15.675Z"
   },
   {
    "duration": 480,
    "start_time": "2022-02-20T14:31:15.736Z"
   },
   {
    "duration": 146,
    "start_time": "2022-02-20T14:31:16.218Z"
   },
   {
    "duration": 368,
    "start_time": "2022-02-20T14:31:16.366Z"
   },
   {
    "duration": 213,
    "start_time": "2022-02-20T14:31:16.735Z"
   },
   {
    "duration": 197,
    "start_time": "2022-02-20T14:31:16.950Z"
   },
   {
    "duration": 297,
    "start_time": "2022-02-20T14:31:17.150Z"
   },
   {
    "duration": 687,
    "start_time": "2022-02-20T14:31:17.449Z"
   },
   {
    "duration": -209,
    "start_time": "2022-02-20T14:31:18.355Z"
   },
   {
    "duration": -217,
    "start_time": "2022-02-20T14:31:18.364Z"
   },
   {
    "duration": -222,
    "start_time": "2022-02-20T14:31:18.370Z"
   },
   {
    "duration": -228,
    "start_time": "2022-02-20T14:31:18.376Z"
   },
   {
    "duration": -236,
    "start_time": "2022-02-20T14:31:18.385Z"
   },
   {
    "duration": -239,
    "start_time": "2022-02-20T14:31:18.389Z"
   },
   {
    "duration": -246,
    "start_time": "2022-02-20T14:31:18.397Z"
   },
   {
    "duration": -250,
    "start_time": "2022-02-20T14:31:18.402Z"
   },
   {
    "duration": -254,
    "start_time": "2022-02-20T14:31:18.407Z"
   },
   {
    "duration": -260,
    "start_time": "2022-02-20T14:31:18.414Z"
   },
   {
    "duration": -263,
    "start_time": "2022-02-20T14:31:18.418Z"
   },
   {
    "duration": -266,
    "start_time": "2022-02-20T14:31:18.422Z"
   },
   {
    "duration": -269,
    "start_time": "2022-02-20T14:31:18.426Z"
   },
   {
    "duration": -276,
    "start_time": "2022-02-20T14:31:18.434Z"
   },
   {
    "duration": -278,
    "start_time": "2022-02-20T14:31:18.437Z"
   },
   {
    "duration": -283,
    "start_time": "2022-02-20T14:31:18.442Z"
   },
   {
    "duration": -291,
    "start_time": "2022-02-20T14:31:18.451Z"
   },
   {
    "duration": -322,
    "start_time": "2022-02-20T14:31:18.483Z"
   },
   {
    "duration": 360,
    "start_time": "2022-02-20T14:31:43.572Z"
   },
   {
    "duration": 134,
    "start_time": "2022-02-20T14:32:07.275Z"
   },
   {
    "duration": 394,
    "start_time": "2022-02-20T14:32:38.975Z"
   },
   {
    "duration": 241,
    "start_time": "2022-02-20T14:32:50.731Z"
   },
   {
    "duration": 4,
    "start_time": "2022-02-20T14:32:57.256Z"
   },
   {
    "duration": 316,
    "start_time": "2022-02-20T14:33:15.229Z"
   },
   {
    "duration": 221,
    "start_time": "2022-02-20T14:33:23.381Z"
   },
   {
    "duration": 161,
    "start_time": "2022-02-20T14:33:32.281Z"
   },
   {
    "duration": 169,
    "start_time": "2022-02-20T14:33:39.384Z"
   },
   {
    "duration": 170,
    "start_time": "2022-02-20T14:33:43.797Z"
   },
   {
    "duration": 175,
    "start_time": "2022-02-20T14:33:46.682Z"
   },
   {
    "duration": 725,
    "start_time": "2022-02-20T14:33:50.878Z"
   },
   {
    "duration": 57,
    "start_time": "2022-02-20T14:33:51.605Z"
   },
   {
    "duration": 469,
    "start_time": "2022-02-20T14:33:51.664Z"
   },
   {
    "duration": 717,
    "start_time": "2022-02-20T14:33:52.135Z"
   },
   {
    "duration": -158,
    "start_time": "2022-02-20T14:33:53.012Z"
   },
   {
    "duration": -164,
    "start_time": "2022-02-20T14:33:53.019Z"
   },
   {
    "duration": -167,
    "start_time": "2022-02-20T14:33:53.023Z"
   },
   {
    "duration": -170,
    "start_time": "2022-02-20T14:33:53.027Z"
   },
   {
    "duration": -177,
    "start_time": "2022-02-20T14:33:53.034Z"
   },
   {
    "duration": -180,
    "start_time": "2022-02-20T14:33:53.038Z"
   },
   {
    "duration": -183,
    "start_time": "2022-02-20T14:33:53.042Z"
   },
   {
    "duration": -198,
    "start_time": "2022-02-20T14:33:53.058Z"
   },
   {
    "duration": -200,
    "start_time": "2022-02-20T14:33:53.061Z"
   },
   {
    "duration": -207,
    "start_time": "2022-02-20T14:33:53.069Z"
   },
   {
    "duration": -209,
    "start_time": "2022-02-20T14:33:53.072Z"
   },
   {
    "duration": -212,
    "start_time": "2022-02-20T14:33:53.076Z"
   },
   {
    "duration": -218,
    "start_time": "2022-02-20T14:33:53.083Z"
   },
   {
    "duration": -221,
    "start_time": "2022-02-20T14:33:53.087Z"
   },
   {
    "duration": -224,
    "start_time": "2022-02-20T14:33:53.090Z"
   },
   {
    "duration": -227,
    "start_time": "2022-02-20T14:33:53.094Z"
   },
   {
    "duration": -232,
    "start_time": "2022-02-20T14:33:53.100Z"
   },
   {
    "duration": -235,
    "start_time": "2022-02-20T14:33:53.104Z"
   },
   {
    "duration": -238,
    "start_time": "2022-02-20T14:33:53.108Z"
   },
   {
    "duration": -241,
    "start_time": "2022-02-20T14:33:53.112Z"
   },
   {
    "duration": -256,
    "start_time": "2022-02-20T14:33:53.127Z"
   },
   {
    "duration": -260,
    "start_time": "2022-02-20T14:33:53.132Z"
   },
   {
    "duration": -263,
    "start_time": "2022-02-20T14:33:53.136Z"
   },
   {
    "duration": 271,
    "start_time": "2022-02-20T14:34:02.582Z"
   },
   {
    "duration": 725,
    "start_time": "2022-02-20T14:34:13.322Z"
   },
   {
    "duration": 60,
    "start_time": "2022-02-20T14:34:14.048Z"
   },
   {
    "duration": 475,
    "start_time": "2022-02-20T14:34:14.110Z"
   },
   {
    "duration": 461,
    "start_time": "2022-02-20T14:34:14.586Z"
   },
   {
    "duration": -136,
    "start_time": "2022-02-20T14:34:15.186Z"
   },
   {
    "duration": -147,
    "start_time": "2022-02-20T14:34:15.197Z"
   },
   {
    "duration": -208,
    "start_time": "2022-02-20T14:34:15.259Z"
   },
   {
    "duration": -217,
    "start_time": "2022-02-20T14:34:15.269Z"
   },
   {
    "duration": -223,
    "start_time": "2022-02-20T14:34:15.276Z"
   },
   {
    "duration": -230,
    "start_time": "2022-02-20T14:34:15.284Z"
   },
   {
    "duration": -235,
    "start_time": "2022-02-20T14:34:15.290Z"
   },
   {
    "duration": -239,
    "start_time": "2022-02-20T14:34:15.295Z"
   },
   {
    "duration": -243,
    "start_time": "2022-02-20T14:34:15.299Z"
   },
   {
    "duration": -246,
    "start_time": "2022-02-20T14:34:15.303Z"
   },
   {
    "duration": -249,
    "start_time": "2022-02-20T14:34:15.307Z"
   },
   {
    "duration": -252,
    "start_time": "2022-02-20T14:34:15.311Z"
   },
   {
    "duration": -255,
    "start_time": "2022-02-20T14:34:15.315Z"
   },
   {
    "duration": -257,
    "start_time": "2022-02-20T14:34:15.318Z"
   },
   {
    "duration": -260,
    "start_time": "2022-02-20T14:34:15.322Z"
   },
   {
    "duration": -262,
    "start_time": "2022-02-20T14:34:15.325Z"
   },
   {
    "duration": -267,
    "start_time": "2022-02-20T14:34:15.330Z"
   },
   {
    "duration": -270,
    "start_time": "2022-02-20T14:34:15.334Z"
   },
   {
    "duration": -273,
    "start_time": "2022-02-20T14:34:15.338Z"
   },
   {
    "duration": -277,
    "start_time": "2022-02-20T14:34:15.343Z"
   },
   {
    "duration": -280,
    "start_time": "2022-02-20T14:34:15.347Z"
   },
   {
    "duration": -283,
    "start_time": "2022-02-20T14:34:15.351Z"
   },
   {
    "duration": -304,
    "start_time": "2022-02-20T14:34:15.372Z"
   },
   {
    "duration": 168,
    "start_time": "2022-02-20T14:34:39.767Z"
   },
   {
    "duration": 342,
    "start_time": "2022-02-20T14:35:07.005Z"
   },
   {
    "duration": 211,
    "start_time": "2022-02-20T14:35:09.970Z"
   },
   {
    "duration": 195,
    "start_time": "2022-02-20T14:35:13.197Z"
   },
   {
    "duration": 295,
    "start_time": "2022-02-20T14:35:15.116Z"
   },
   {
    "duration": 305,
    "start_time": "2022-02-20T14:35:16.862Z"
   },
   {
    "duration": 1504,
    "start_time": "2022-02-20T14:35:23.180Z"
   },
   {
    "duration": 234,
    "start_time": "2022-02-20T14:35:33.712Z"
   },
   {
    "duration": 5,
    "start_time": "2022-02-20T14:35:49.048Z"
   },
   {
    "duration": 253,
    "start_time": "2022-02-20T14:35:49.911Z"
   },
   {
    "duration": 267,
    "start_time": "2022-02-20T14:35:52.139Z"
   },
   {
    "duration": 193,
    "start_time": "2022-02-20T14:35:59.898Z"
   },
   {
    "duration": 170,
    "start_time": "2022-02-20T14:36:02.192Z"
   },
   {
    "duration": 167,
    "start_time": "2022-02-20T14:36:03.885Z"
   },
   {
    "duration": 175,
    "start_time": "2022-02-20T14:36:06.990Z"
   },
   {
    "duration": 22,
    "start_time": "2022-02-20T14:36:10.894Z"
   },
   {
    "duration": 174,
    "start_time": "2022-02-20T14:36:12.000Z"
   },
   {
    "duration": 9,
    "start_time": "2022-02-20T14:36:15.962Z"
   },
   {
    "duration": 185,
    "start_time": "2022-02-20T14:36:16.579Z"
   },
   {
    "duration": 7,
    "start_time": "2022-02-20T14:36:18.715Z"
   },
   {
    "duration": 462,
    "start_time": "2022-02-20T14:36:21.127Z"
   },
   {
    "duration": 384,
    "start_time": "2022-02-20T14:36:59.851Z"
   },
   {
    "duration": 153,
    "start_time": "2022-02-20T14:37:18.006Z"
   },
   {
    "duration": 239,
    "start_time": "2022-02-20T14:37:20.967Z"
   },
   {
    "duration": 164,
    "start_time": "2022-02-20T14:37:24.438Z"
   },
   {
    "duration": 159,
    "start_time": "2022-02-20T14:37:26.466Z"
   },
   {
    "duration": 199,
    "start_time": "2022-02-20T14:37:28.775Z"
   },
   {
    "duration": 976,
    "start_time": "2022-02-21T09:02:53.074Z"
   },
   {
    "duration": 960,
    "start_time": "2022-02-21T09:02:59.083Z"
   },
   {
    "duration": 115,
    "start_time": "2022-02-21T09:03:00.046Z"
   },
   {
    "duration": 863,
    "start_time": "2022-02-21T09:03:00.165Z"
   },
   {
    "duration": 268,
    "start_time": "2022-02-21T09:03:01.031Z"
   },
   {
    "duration": 696,
    "start_time": "2022-02-21T09:03:01.302Z"
   },
   {
    "duration": 402,
    "start_time": "2022-02-21T09:03:02.001Z"
   },
   {
    "duration": 383,
    "start_time": "2022-02-21T09:03:02.405Z"
   },
   {
    "duration": 558,
    "start_time": "2022-02-21T09:03:02.790Z"
   },
   {
    "duration": 584,
    "start_time": "2022-02-21T09:03:03.352Z"
   },
   {
    "duration": 408,
    "start_time": "2022-02-21T09:03:03.939Z"
   },
   {
    "duration": 16,
    "start_time": "2022-02-21T09:03:04.349Z"
   },
   {
    "duration": 410,
    "start_time": "2022-02-21T09:03:04.367Z"
   },
   {
    "duration": 385,
    "start_time": "2022-02-21T09:03:04.779Z"
   },
   {
    "duration": 405,
    "start_time": "2022-02-21T09:03:05.167Z"
   },
   {
    "duration": 356,
    "start_time": "2022-02-21T09:03:05.575Z"
   },
   {
    "duration": 324,
    "start_time": "2022-02-21T09:03:05.933Z"
   },
   {
    "duration": 334,
    "start_time": "2022-02-21T09:03:06.261Z"
   },
   {
    "duration": 41,
    "start_time": "2022-02-21T09:03:06.598Z"
   },
   {
    "duration": 346,
    "start_time": "2022-02-21T09:03:06.641Z"
   },
   {
    "duration": 11,
    "start_time": "2022-02-21T09:03:06.990Z"
   },
   {
    "duration": 358,
    "start_time": "2022-02-21T09:03:07.003Z"
   },
   {
    "duration": 632,
    "start_time": "2022-02-21T09:03:07.363Z"
   },
   {
    "duration": 292,
    "start_time": "2022-02-21T09:03:07.998Z"
   },
   {
    "duration": 332,
    "start_time": "2022-02-21T09:03:08.293Z"
   },
   {
    "duration": 336,
    "start_time": "2022-02-21T09:03:08.628Z"
   },
   {
    "duration": 436,
    "start_time": "2022-02-21T09:03:08.966Z"
   },
   {
    "duration": 365,
    "start_time": "2022-02-21T09:03:09.406Z"
   },
   {
    "duration": 981,
    "start_time": "2022-02-21T09:10:35.691Z"
   },
   {
    "duration": 116,
    "start_time": "2022-02-21T09:10:36.675Z"
   },
   {
    "duration": 894,
    "start_time": "2022-02-21T09:10:36.795Z"
   },
   {
    "duration": 285,
    "start_time": "2022-02-21T09:10:37.692Z"
   },
   {
    "duration": 664,
    "start_time": "2022-02-21T09:10:37.979Z"
   },
   {
    "duration": 391,
    "start_time": "2022-02-21T09:10:38.646Z"
   },
   {
    "duration": 373,
    "start_time": "2022-02-21T09:10:39.039Z"
   },
   {
    "duration": 568,
    "start_time": "2022-02-21T09:10:39.415Z"
   },
   {
    "duration": 607,
    "start_time": "2022-02-21T09:10:39.985Z"
   },
   {
    "duration": 437,
    "start_time": "2022-02-21T09:10:40.595Z"
   },
   {
    "duration": 26,
    "start_time": "2022-02-21T09:10:41.035Z"
   },
   {
    "duration": 523,
    "start_time": "2022-02-21T09:10:41.064Z"
   },
   {
    "duration": 397,
    "start_time": "2022-02-21T09:10:41.590Z"
   },
   {
    "duration": 398,
    "start_time": "2022-02-21T09:10:41.990Z"
   },
   {
    "duration": 352,
    "start_time": "2022-02-21T09:10:42.390Z"
   },
   {
    "duration": 318,
    "start_time": "2022-02-21T09:10:42.746Z"
   },
   {
    "duration": 348,
    "start_time": "2022-02-21T09:10:43.066Z"
   },
   {
    "duration": 53,
    "start_time": "2022-02-21T09:10:43.417Z"
   },
   {
    "duration": 343,
    "start_time": "2022-02-21T09:10:43.473Z"
   },
   {
    "duration": 12,
    "start_time": "2022-02-21T09:10:43.819Z"
   },
   {
    "duration": 369,
    "start_time": "2022-02-21T09:10:43.834Z"
   },
   {
    "duration": 693,
    "start_time": "2022-02-21T09:10:44.205Z"
   },
   {
    "duration": 306,
    "start_time": "2022-02-21T09:10:44.903Z"
   },
   {
    "duration": 384,
    "start_time": "2022-02-21T09:10:45.212Z"
   },
   {
    "duration": 342,
    "start_time": "2022-02-21T09:10:45.599Z"
   },
   {
    "duration": 469,
    "start_time": "2022-02-21T09:10:45.943Z"
   },
   {
    "duration": 363,
    "start_time": "2022-02-21T09:10:46.414Z"
   },
   {
    "duration": 1004,
    "start_time": "2022-02-21T09:11:15.645Z"
   },
   {
    "duration": 109,
    "start_time": "2022-02-21T09:11:16.652Z"
   },
   {
    "duration": 980,
    "start_time": "2022-02-21T09:11:16.763Z"
   },
   {
    "duration": 271,
    "start_time": "2022-02-21T09:11:17.746Z"
   },
   {
    "duration": 803,
    "start_time": "2022-02-21T09:11:18.020Z"
   },
   {
    "duration": 395,
    "start_time": "2022-02-21T09:11:18.827Z"
   },
   {
    "duration": 536,
    "start_time": "2022-02-21T09:11:19.225Z"
   },
   {
    "duration": 580,
    "start_time": "2022-02-21T09:11:19.765Z"
   },
   {
    "duration": 688,
    "start_time": "2022-02-21T09:11:20.348Z"
   },
   {
    "duration": 453,
    "start_time": "2022-02-21T09:11:21.039Z"
   },
   {
    "duration": 8,
    "start_time": "2022-02-21T09:11:21.494Z"
   },
   {
    "duration": 432,
    "start_time": "2022-02-21T09:11:21.504Z"
   },
   {
    "duration": 396,
    "start_time": "2022-02-21T09:11:21.939Z"
   },
   {
    "duration": 390,
    "start_time": "2022-02-21T09:11:22.337Z"
   },
   {
    "duration": 344,
    "start_time": "2022-02-21T09:11:22.730Z"
   },
   {
    "duration": 424,
    "start_time": "2022-02-21T09:11:23.077Z"
   },
   {
    "duration": 357,
    "start_time": "2022-02-21T09:11:23.504Z"
   },
   {
    "duration": 40,
    "start_time": "2022-02-21T09:11:23.863Z"
   },
   {
    "duration": 392,
    "start_time": "2022-02-21T09:11:23.906Z"
   },
   {
    "duration": 11,
    "start_time": "2022-02-21T09:11:24.301Z"
   },
   {
    "duration": 466,
    "start_time": "2022-02-21T09:11:24.315Z"
   },
   {
    "duration": 819,
    "start_time": "2022-02-21T09:11:24.785Z"
   },
   {
    "duration": 288,
    "start_time": "2022-02-21T09:11:25.608Z"
   },
   {
    "duration": 325,
    "start_time": "2022-02-21T09:11:25.898Z"
   },
   {
    "duration": 304,
    "start_time": "2022-02-21T09:11:26.226Z"
   },
   {
    "duration": 362,
    "start_time": "2022-02-21T09:11:26.535Z"
   },
   {
    "duration": 329,
    "start_time": "2022-02-21T09:11:26.900Z"
   }
  ],
  "kernelspec": {
   "display_name": "Python 3 (ipykernel)",
   "language": "python",
   "name": "python3"
  },
  "language_info": {
   "codemirror_mode": {
    "name": "ipython",
    "version": 3
   },
   "file_extension": ".py",
   "mimetype": "text/x-python",
   "name": "python",
   "nbconvert_exporter": "python",
   "pygments_lexer": "ipython3",
   "version": "3.9.5"
  },
  "toc": {
   "base_numbering": 1,
   "nav_menu": {},
   "number_sections": true,
   "sideBar": true,
   "skip_h1_title": true,
   "title_cell": "Содержание",
   "title_sidebar": "Contents",
   "toc_cell": true,
   "toc_position": {},
   "toc_section_display": true,
   "toc_window_display": false
  }
 },
 "nbformat": 4,
 "nbformat_minor": 2
}
